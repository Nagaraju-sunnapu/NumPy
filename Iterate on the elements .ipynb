{
 "cells": [
  {
   "cell_type": "markdown",
   "id": "7e6d83b5-9587-4f2e-b80f-17bf620ee052",
   "metadata": {},
   "source": [
    "## iterating the elements by using loops"
   ]
  },
  {
   "cell_type": "code",
   "execution_count": 7,
   "id": "e5d34610-bd28-400c-ad40-3a39d16db366",
   "metadata": {},
   "outputs": [],
   "source": [
    "# itration 1-D array by using the for loop "
   ]
  },
  {
   "cell_type": "code",
   "execution_count": 9,
   "id": "7f9fb7b4-1442-4a91-a723-2b9752732931",
   "metadata": {},
   "outputs": [
    {
     "name": "stdout",
     "output_type": "stream",
     "text": [
      "10\n",
      "20\n",
      "30\n",
      "40\n",
      "50\n",
      "60\n",
      "70\n",
      "80\n",
      "90\n"
     ]
    }
   ],
   "source": [
    "import numpy as np\n",
    "a=np.array([10,20,30,40,50,60,70,80,90])\n",
    "for i in a:\n",
    "    print(i)"
   ]
  },
  {
   "cell_type": "code",
   "execution_count": 13,
   "id": "8158c006-6b94-427a-9b0b-a58576bba196",
   "metadata": {},
   "outputs": [
    {
     "name": "stdout",
     "output_type": "stream",
     "text": [
      "10\n",
      "20\n",
      "30\n",
      "40\n",
      "50\n",
      "60\n",
      "70\n",
      "80\n",
      "90\n"
     ]
    }
   ],
   "source": [
    "# by using the while loop\n",
    "a=np.array([10,20,30,40,50,60,70,80,90])\n",
    "r=0\n",
    "while(r<len(a)):\n",
    "    print(a[r])\n",
    "    r=r+1"
   ]
  },
  {
   "cell_type": "code",
   "execution_count": 17,
   "id": "74334946-0699-4d94-82e9-79a801661949",
   "metadata": {},
   "outputs": [
    {
     "name": "stdout",
     "output_type": "stream",
     "text": [
      "[[10 20 30]\n",
      " [40 50 60]\n",
      " [70 80 90]]\n",
      "========================================\n",
      "10\n",
      "20\n",
      "30\n",
      "40\n",
      "50\n",
      "60\n",
      "70\n",
      "80\n",
      "90\n"
     ]
    }
   ],
   "source": [
    "# by using the for loop on the 2-D Array object\n",
    "a=np.array([10,20,30,40,50,60,70,80,90]).reshape(3,3)\n",
    "print(a)\n",
    "print(\"========================================\")\n",
    "for row in a:\n",
    "    for col in row:\n",
    "        print(col)"
   ]
  },
  {
   "cell_type": "code",
   "execution_count": 21,
   "id": "3dc50891-49eb-40ec-a7f1-40c1057f8f15",
   "metadata": {},
   "outputs": [
    {
     "name": "stdout",
     "output_type": "stream",
     "text": [
      "10\n",
      "20\n",
      "30\n",
      "40\n",
      "50\n",
      "60\n",
      "70\n",
      "80\n",
      "90\n"
     ]
    }
   ],
   "source": [
    "# by using the while loop on the 2-D Array object\n",
    "a=np.array([10,20,30,40,50,60,70,80,90]).reshape(3,3)\n",
    "r=0\n",
    "while(r<len(a)):\n",
    "    c=0\n",
    "    while(c<len(a[r])):\n",
    "        print(a[r,c])\n",
    "        c=c+1\n",
    "    else:\n",
    "        r=r+1\n",
    "    "
   ]
  },
  {
   "cell_type": "code",
   "execution_count": 25,
   "id": "6f94149d-18e1-402e-8905-811019cebb58",
   "metadata": {},
   "outputs": [
    {
     "name": "stdout",
     "output_type": "stream",
     "text": [
      "0\n",
      "1\n",
      "2\n",
      "3\n",
      "4\n",
      "5\n",
      "6\n",
      "7\n",
      "8\n",
      "9\n",
      "10\n",
      "11\n",
      "12\n",
      "13\n",
      "14\n",
      "15\n",
      "16\n",
      "17\n"
     ]
    }
   ],
   "source": [
    "# by using the for loop on the 3-D Array object\n",
    "a=np.arange(2*3*3).reshape(2,3,3)\n",
    "for matrix in a:\n",
    "    for row in matrix:\n",
    "        for col in row:\n",
    "            print(col)"
   ]
  },
  {
   "cell_type": "code",
   "execution_count": 27,
   "id": "a15279cc-7453-4030-b68a-b83f8cd66a9f",
   "metadata": {},
   "outputs": [
    {
     "name": "stdout",
     "output_type": "stream",
     "text": [
      "0\n",
      "1\n",
      "2\n",
      "3\n",
      "4\n",
      "5\n",
      "6\n",
      "7\n",
      "8\n",
      "9\n",
      "10\n",
      "11\n",
      "12\n",
      "13\n",
      "14\n",
      "15\n",
      "16\n",
      "17\n"
     ]
    }
   ],
   "source": [
    "# by using the for loop on the 3-D Array object\n",
    "a=np.arange(2*3*3).reshape(2,3,3)\n",
    "m=0\n",
    "while(m<len(a)):\n",
    "    r=0\n",
    "    while(r<len(a[m])):\n",
    "        c=0\n",
    "        while(c<len(a[m,r])):\n",
    "            print(a[m,r,c])\n",
    "            c+=1\n",
    "        else:\n",
    "            r+=1\n",
    "    else:\n",
    "        m=m+1"
   ]
  },
  {
   "cell_type": "code",
   "execution_count": null,
   "id": "32d60e14-6c0c-4b66-b719-41096fd21986",
   "metadata": {},
   "outputs": [],
   "source": []
  },
  {
   "cell_type": "markdown",
   "id": "b0b4a765-89b5-4471-9e21-5816782e83fc",
   "metadata": {},
   "source": [
    "## iterating the elements by using nditer()"
   ]
  },
  {
   "cell_type": "code",
   "execution_count": 32,
   "id": "4fe9d059-10b3-4c2e-9916-0c58533bdf8c",
   "metadata": {},
   "outputs": [],
   "source": [
    "# syntax: np.nditer()"
   ]
  },
  {
   "cell_type": "code",
   "execution_count": 34,
   "id": "cf721740-4973-4cb4-a8e9-c491272734e6",
   "metadata": {},
   "outputs": [],
   "source": [
    "# by using the nditer() on 1-D array object"
   ]
  },
  {
   "cell_type": "code",
   "execution_count": 36,
   "id": "7ceed1b7-ed2c-41b4-ade3-5562a19a93f1",
   "metadata": {},
   "outputs": [
    {
     "name": "stdout",
     "output_type": "stream",
     "text": [
      "10\n",
      "20\n",
      "30\n",
      "40\n",
      "50\n",
      "60\n",
      "70\n",
      "80\n",
      "90\n"
     ]
    }
   ],
   "source": [
    "a=np.array([10,20,30,40,50,60,70,80,90])\n",
    "for val in np.nditer(a):\n",
    "    print(val)"
   ]
  },
  {
   "cell_type": "code",
   "execution_count": 38,
   "id": "1354b08e-5ec2-4107-80c3-17a0ad1cdea3",
   "metadata": {},
   "outputs": [
    {
     "name": "stdout",
     "output_type": "stream",
     "text": [
      "10\n",
      "20\n",
      "30\n",
      "40\n",
      "50\n",
      "60\n",
      "70\n",
      "80\n",
      "90\n"
     ]
    }
   ],
   "source": [
    "# by using the nditer() on 2-D array object\n",
    "a=np.array([10,20,30,40,50,60,70,80,90]).reshape(3,3)\n",
    "for val in np.nditer(a):\n",
    "    print(val)"
   ]
  },
  {
   "cell_type": "code",
   "execution_count": 40,
   "id": "59fb7c96-3766-4c19-a3db-aad09416f797",
   "metadata": {},
   "outputs": [
    {
     "name": "stdout",
     "output_type": "stream",
     "text": [
      "0\n",
      "1\n",
      "2\n",
      "3\n",
      "4\n",
      "5\n",
      "6\n",
      "7\n",
      "8\n",
      "9\n",
      "10\n",
      "11\n",
      "12\n",
      "13\n",
      "14\n",
      "15\n",
      "16\n",
      "17\n"
     ]
    }
   ],
   "source": [
    "# by using the nditer() on 3-D array object\n",
    "a=np.arange(2*3*3).reshape(2,3,3)\n",
    "for val in np.nditer(a):\n",
    "    print(val)"
   ]
  },
  {
   "cell_type": "code",
   "execution_count": null,
   "id": "f904f253-c755-43d5-8bd4-11b6b2bfbca4",
   "metadata": {},
   "outputs": [],
   "source": []
  },
  {
   "cell_type": "markdown",
   "id": "b06d0258-132e-41bf-acab-d0f71e68d0a3",
   "metadata": {},
   "source": [
    "## iterating the elements by using the np.ndenumerate()"
   ]
  },
  {
   "cell_type": "code",
   "execution_count": 44,
   "id": "94e70fe1-860e-4634-8327-a2e47e1eb7f3",
   "metadata": {},
   "outputs": [
    {
     "name": "stdout",
     "output_type": "stream",
     "text": [
      "(0,)-->10\n",
      "(1,)-->20\n",
      "(2,)-->30\n",
      "(3,)-->40\n",
      "(4,)-->50\n",
      "(5,)-->60\n",
      "(6,)-->70\n",
      "(7,)-->80\n",
      "(8,)-->90\n"
     ]
    }
   ],
   "source": [
    "a=np.array([10,20,30,40,50,60,70,80,90])\n",
    "for index,value in np.ndenumerate(a):\n",
    "    print(\"{}-->{}\".format(index,value))"
   ]
  },
  {
   "cell_type": "code",
   "execution_count": 46,
   "id": "64eac517-9618-4d4a-ba03-00f523a55765",
   "metadata": {},
   "outputs": [
    {
     "name": "stdout",
     "output_type": "stream",
     "text": [
      "(0, 0)-->10\n",
      "(0, 1)-->20\n",
      "(0, 2)-->30\n",
      "(1, 0)-->40\n",
      "(1, 1)-->50\n",
      "(1, 2)-->60\n",
      "(2, 0)-->70\n",
      "(2, 1)-->80\n",
      "(2, 2)-->90\n"
     ]
    }
   ],
   "source": [
    "a=np.array([10,20,30,40,50,60,70,80,90]).reshape(3,3)\n",
    "for index,value in np.ndenumerate(a):\n",
    "    print(\"{}-->{}\".format(index,value))"
   ]
  },
  {
   "cell_type": "code",
   "execution_count": 48,
   "id": "37be5ea0-5a75-4dcd-bdd3-10198b24b7f1",
   "metadata": {},
   "outputs": [
    {
     "name": "stdout",
     "output_type": "stream",
     "text": [
      "row:0 column:0 value:10\n",
      "row:0 column:1 value:20\n",
      "row:0 column:2 value:30\n",
      "row:1 column:0 value:40\n",
      "row:1 column:1 value:50\n",
      "row:1 column:2 value:60\n",
      "row:2 column:0 value:70\n",
      "row:2 column:1 value:80\n",
      "row:2 column:2 value:90\n"
     ]
    }
   ],
   "source": [
    "a=np.array([10,20,30,40,50,60,70,80,90]).reshape(3,3)\n",
    "for index,value in np.ndenumerate(a):\n",
    "    print(\"row:{} column:{} value:{}\".format(index[0],index[1],value))"
   ]
  },
  {
   "cell_type": "code",
   "execution_count": 50,
   "id": "6c4a23d0-757d-4961-bbb6-ddf06daab1b2",
   "metadata": {},
   "outputs": [
    {
     "name": "stdout",
     "output_type": "stream",
     "text": [
      "row:0 column:0 value:10\n",
      "row:0 column:1 value:20\n",
      "row:0 column:2 value:30\n",
      "row:1 column:0 value:40\n",
      "row:1 column:1 value:50\n",
      "row:1 column:2 value:60\n",
      "row:2 column:0 value:70\n",
      "row:2 column:1 value:80\n",
      "row:2 column:2 value:90\n"
     ]
    }
   ],
   "source": [
    "a=np.array([10,20,30,40,50,60,70,80,90]).reshape(3,3)\n",
    "for index,value in np.ndenumerate(a):\n",
    "    print(\"row:{} column:{} value:{}\".format(index[-2],index[-1],value))"
   ]
  },
  {
   "cell_type": "code",
   "execution_count": 56,
   "id": "1ff0c3aa-0099-4bcb-98b2-05495b5ebaaa",
   "metadata": {},
   "outputs": [
    {
     "name": "stdout",
     "output_type": "stream",
     "text": [
      "(0, 0, 0)-->10\n",
      "(0, 0, 1)-->15\n",
      "(0, 0, 2)-->20\n",
      "(0, 1, 0)-->25\n",
      "(0, 1, 1)-->30\n",
      "(0, 1, 2)-->35\n",
      "(0, 2, 0)-->40\n",
      "(0, 2, 1)-->45\n",
      "(0, 2, 2)-->50\n",
      "(1, 0, 0)-->55\n",
      "(1, 0, 1)-->60\n",
      "(1, 0, 2)-->65\n",
      "(1, 1, 0)-->70\n",
      "(1, 1, 1)-->75\n",
      "(1, 1, 2)-->80\n",
      "(1, 2, 0)-->85\n",
      "(1, 2, 1)-->90\n",
      "(1, 2, 2)-->95\n"
     ]
    }
   ],
   "source": [
    "a=np.array(range(10,100,5)).reshape(2,3,3)\n",
    "for index,value in np.ndenumerate(a):\n",
    "    print(\"{}-->{}\".format(index,value))"
   ]
  },
  {
   "cell_type": "code",
   "execution_count": 58,
   "id": "f41bead2-7052-471f-81b5-3dcb027c03f9",
   "metadata": {},
   "outputs": [
    {
     "name": "stdout",
     "output_type": "stream",
     "text": [
      "matrix:0 row:0 column:0 value:10\n",
      "matrix:0 row:0 column:1 value:15\n",
      "matrix:0 row:0 column:2 value:20\n",
      "matrix:0 row:1 column:0 value:25\n",
      "matrix:0 row:1 column:1 value:30\n",
      "matrix:0 row:1 column:2 value:35\n",
      "matrix:0 row:2 column:0 value:40\n",
      "matrix:0 row:2 column:1 value:45\n",
      "matrix:0 row:2 column:2 value:50\n",
      "matrix:1 row:0 column:0 value:55\n",
      "matrix:1 row:0 column:1 value:60\n",
      "matrix:1 row:0 column:2 value:65\n",
      "matrix:1 row:1 column:0 value:70\n",
      "matrix:1 row:1 column:1 value:75\n",
      "matrix:1 row:1 column:2 value:80\n",
      "matrix:1 row:2 column:0 value:85\n",
      "matrix:1 row:2 column:1 value:90\n",
      "matrix:1 row:2 column:2 value:95\n"
     ]
    }
   ],
   "source": [
    "a=np.array(range(10,100,5)).reshape(2,3,3)\n",
    "for index,value in np.ndenumerate(a):\n",
    "    print(\"matrix:{} row:{} column:{} value:{}\".format(index[0],index[1],index[2],value))"
   ]
  },
  {
   "cell_type": "code",
   "execution_count": 60,
   "id": "08f6dec4-738d-434c-b6cf-e38093ce1316",
   "metadata": {},
   "outputs": [
    {
     "name": "stdout",
     "output_type": "stream",
     "text": [
      "matrix:0 row:0 column:0 value:10\n",
      "matrix:0 row:0 column:1 value:15\n",
      "matrix:0 row:0 column:2 value:20\n",
      "matrix:0 row:1 column:0 value:25\n",
      "matrix:0 row:1 column:1 value:30\n",
      "matrix:0 row:1 column:2 value:35\n",
      "matrix:0 row:2 column:0 value:40\n",
      "matrix:0 row:2 column:1 value:45\n",
      "matrix:0 row:2 column:2 value:50\n",
      "matrix:1 row:0 column:0 value:55\n",
      "matrix:1 row:0 column:1 value:60\n",
      "matrix:1 row:0 column:2 value:65\n",
      "matrix:1 row:1 column:0 value:70\n",
      "matrix:1 row:1 column:1 value:75\n",
      "matrix:1 row:1 column:2 value:80\n",
      "matrix:1 row:2 column:0 value:85\n",
      "matrix:1 row:2 column:1 value:90\n",
      "matrix:1 row:2 column:2 value:95\n"
     ]
    }
   ],
   "source": [
    "a=np.array(range(10,100,5)).reshape(2,3,3)\n",
    "for index,value in np.ndenumerate(a):\n",
    "    print(\"matrix:{} row:{} column:{} value:{}\".format(index[-3],index[-2],index[-1],value))"
   ]
  },
  {
   "cell_type": "code",
   "execution_count": 62,
   "id": "3bf19db4-4bbb-4c99-acb4-f5cd19c711a1",
   "metadata": {},
   "outputs": [
    {
     "name": "stdout",
     "output_type": "stream",
     "text": [
      "content of a\n",
      "[[[[ 0  1]\n",
      "   [ 2  3]]\n",
      "\n",
      "  [[ 4  5]\n",
      "   [ 6  7]]]\n",
      "\n",
      "\n",
      " [[[ 8  9]\n",
      "   [10 11]]\n",
      "\n",
      "  [[12 13]\n",
      "   [14 15]]]]\n"
     ]
    }
   ],
   "source": [
    "a=np.arange(16).reshape(2,2,2,2)\n",
    "print(\"content of a\")\n",
    "print(a)"
   ]
  },
  {
   "cell_type": "code",
   "execution_count": 64,
   "id": "a4a2dc72-31e6-4e18-901f-dc216139ed94",
   "metadata": {},
   "outputs": [
    {
     "name": "stdout",
     "output_type": "stream",
     "text": [
      "(0, 0, 0, 0)-->0\n",
      "(0, 0, 0, 1)-->1\n",
      "(0, 0, 1, 0)-->2\n",
      "(0, 0, 1, 1)-->3\n",
      "(0, 1, 0, 0)-->4\n",
      "(0, 1, 0, 1)-->5\n",
      "(0, 1, 1, 0)-->6\n",
      "(0, 1, 1, 1)-->7\n",
      "(1, 0, 0, 0)-->8\n",
      "(1, 0, 0, 1)-->9\n",
      "(1, 0, 1, 0)-->10\n",
      "(1, 0, 1, 1)-->11\n",
      "(1, 1, 0, 0)-->12\n",
      "(1, 1, 0, 1)-->13\n",
      "(1, 1, 1, 0)-->14\n",
      "(1, 1, 1, 1)-->15\n"
     ]
    }
   ],
   "source": [
    "for index,value in np.ndenumerate(a):\n",
    "    print(\"{}-->{}\".format(index,value))"
   ]
  },
  {
   "cell_type": "code",
   "execution_count": null,
   "id": "02b07ad8-7bb5-4e04-a099-f8ec959ed564",
   "metadata": {},
   "outputs": [],
   "source": []
  },
  {
   "cell_type": "code",
   "execution_count": null,
   "id": "6d13bdf6-6c02-4183-aec7-6751a2680a43",
   "metadata": {},
   "outputs": [],
   "source": []
  }
 ],
 "metadata": {
  "kernelspec": {
   "display_name": "Python 3 (ipykernel)",
   "language": "python",
   "name": "python3"
  },
  "language_info": {
   "codemirror_mode": {
    "name": "ipython",
    "version": 3
   },
   "file_extension": ".py",
   "mimetype": "text/x-python",
   "name": "python",
   "nbconvert_exporter": "python",
   "pygments_lexer": "ipython3",
   "version": "3.12.4"
  }
 },
 "nbformat": 4,
 "nbformat_minor": 5
}
