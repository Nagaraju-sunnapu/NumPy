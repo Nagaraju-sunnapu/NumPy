{
 "cells": [
  {
   "cell_type": "code",
   "execution_count": 4,
   "id": "cb5f78e9-1ac7-48b0-b1a8-386a3c190adb",
   "metadata": {},
   "outputs": [
    {
     "name": "stdout",
     "output_type": "stream",
     "text": [
      "content of a= [10 20 30 40 50 60 70 80 90]\n"
     ]
    }
   ],
   "source": [
    "# indexing operation on 1-D array\n",
    "import numpy as np\n",
    "a=np.array([10,20,30,40,50,60,70,80,90])\n",
    "print(\"content of a=\",a)"
   ]
  },
  {
   "cell_type": "code",
   "execution_count": 6,
   "id": "e0538773-d14c-4fb7-9fe2-0de9ee9c0746",
   "metadata": {},
   "outputs": [],
   "source": [
    "#syntax for 1-D array Indexing\n",
    "# 1dArray[index]"
   ]
  },
  {
   "cell_type": "code",
   "execution_count": 10,
   "id": "a81b8238-ed3f-4211-95a0-be44198c5589",
   "metadata": {},
   "outputs": [
    {
     "data": {
      "text/plain": [
       "10"
      ]
     },
     "execution_count": 10,
     "metadata": {},
     "output_type": "execute_result"
    }
   ],
   "source": [
    "# get value 10 from a by using the positive indexing \n",
    "a[0]"
   ]
  },
  {
   "cell_type": "code",
   "execution_count": 12,
   "id": "d65428c7-672f-4e12-b292-4bf663f4179e",
   "metadata": {},
   "outputs": [
    {
     "data": {
      "text/plain": [
       "10"
      ]
     },
     "execution_count": 12,
     "metadata": {},
     "output_type": "execute_result"
    }
   ],
   "source": [
    "# get value 10 from a with negative indexing\n",
    "a[-len(a)]"
   ]
  },
  {
   "cell_type": "code",
   "execution_count": 14,
   "id": "6e44f29e-bb8a-4da0-a38c-bf96169715a8",
   "metadata": {},
   "outputs": [
    {
     "data": {
      "text/plain": [
       "90"
      ]
     },
     "execution_count": 14,
     "metadata": {},
     "output_type": "execute_result"
    }
   ],
   "source": [
    "# get last element from with positive indexing\n",
    "a[len(a)-1]"
   ]
  },
  {
   "cell_type": "code",
   "execution_count": 16,
   "id": "349d68b6-db07-46f8-b310-9d71dff95d1a",
   "metadata": {},
   "outputs": [
    {
     "data": {
      "text/plain": [
       "90"
      ]
     },
     "execution_count": 16,
     "metadata": {},
     "output_type": "execute_result"
    }
   ],
   "source": [
    "# get last element with negative indexing\n",
    "a[-1]"
   ]
  },
  {
   "cell_type": "code",
   "execution_count": 18,
   "id": "a891358e-ac79-4647-9a66-6f551eb9f3f8",
   "metadata": {},
   "outputs": [
    {
     "data": {
      "text/plain": [
       "50"
      ]
     },
     "execution_count": 18,
     "metadata": {},
     "output_type": "execute_result"
    }
   ],
   "source": [
    "# get an element 50 from a \n",
    "a[4]"
   ]
  },
  {
   "cell_type": "code",
   "execution_count": 20,
   "id": "3165a812-e8b9-4946-a164-825c24949d26",
   "metadata": {},
   "outputs": [
    {
     "data": {
      "text/plain": [
       "50"
      ]
     },
     "execution_count": 20,
     "metadata": {},
     "output_type": "execute_result"
    }
   ],
   "source": [
    "a[-5]"
   ]
  },
  {
   "cell_type": "code",
   "execution_count": 24,
   "id": "8a564e05-3f8f-4bf8-af05-9f4cfa1081db",
   "metadata": {},
   "outputs": [
    {
     "name": "stdout",
     "output_type": "stream",
     "text": [
      "content of a\n",
      " [[10 20 30]\n",
      " [40 50 60]\n",
      " [70 80 90]]\n"
     ]
    }
   ],
   "source": [
    "# indexing operation on 2-D Array\n",
    "import numpy as np\n",
    "a=np.array([10,20,30,40,50,60,70,80,90]).reshape(3,3)\n",
    "print(\"content of a\\n\",a)"
   ]
  },
  {
   "cell_type": "code",
   "execution_count": 26,
   "id": "a21e848a-52e2-4f52-a559-3cd435e6cb4e",
   "metadata": {},
   "outputs": [],
   "source": [
    "# syntax for 2-D Array indexing\n",
    "#syntax-1:2Darrayobj[rowindex,colindex]\n",
    "         #or\n",
    "# syntax-2:2Darrayobj[rowindex][colindex]"
   ]
  },
  {
   "cell_type": "code",
   "execution_count": 28,
   "id": "d1271fa3-061f-4a2a-8b8b-b6144fb36745",
   "metadata": {},
   "outputs": [
    {
     "name": "stdout",
     "output_type": "stream",
     "text": [
      "[[10 20 30]\n",
      " [40 50 60]\n",
      " [70 80 90]]\n"
     ]
    }
   ],
   "source": [
    "print(a)"
   ]
  },
  {
   "cell_type": "code",
   "execution_count": 30,
   "id": "20cea896-548c-4c74-b6d0-efdf9071816d",
   "metadata": {},
   "outputs": [
    {
     "data": {
      "text/plain": [
       "50"
      ]
     },
     "execution_count": 30,
     "metadata": {},
     "output_type": "execute_result"
    }
   ],
   "source": [
    "# get 50 with positive indexing \n",
    "a[1,1]"
   ]
  },
  {
   "cell_type": "code",
   "execution_count": 32,
   "id": "9c9e5d0b-e988-4570-ac16-f7fd943ea125",
   "metadata": {},
   "outputs": [
    {
     "data": {
      "text/plain": [
       "50"
      ]
     },
     "execution_count": 32,
     "metadata": {},
     "output_type": "execute_result"
    }
   ],
   "source": [
    "a[1][1]"
   ]
  },
  {
   "cell_type": "code",
   "execution_count": 34,
   "id": "87e2eedc-402f-4c6b-909f-15073dc6f7fd",
   "metadata": {},
   "outputs": [
    {
     "data": {
      "text/plain": [
       "50"
      ]
     },
     "execution_count": 34,
     "metadata": {},
     "output_type": "execute_result"
    }
   ],
   "source": [
    "# get 50 with negative indexing \n",
    "a[-2,-2]"
   ]
  },
  {
   "cell_type": "code",
   "execution_count": 36,
   "id": "14370bc7-965b-42fa-b1ab-36b86e0bfc90",
   "metadata": {},
   "outputs": [
    {
     "data": {
      "text/plain": [
       "50"
      ]
     },
     "execution_count": 36,
     "metadata": {},
     "output_type": "execute_result"
    }
   ],
   "source": [
    "a[-2][-2]"
   ]
  },
  {
   "cell_type": "code",
   "execution_count": 38,
   "id": "57b5d852-3343-47a2-b1e2-d91f391de56f",
   "metadata": {},
   "outputs": [
    {
     "data": {
      "text/plain": [
       "50"
      ]
     },
     "execution_count": 38,
     "metadata": {},
     "output_type": "execute_result"
    }
   ],
   "source": [
    "a[1,-2]"
   ]
  },
  {
   "cell_type": "code",
   "execution_count": 40,
   "id": "40bee189-3b54-41aa-aefb-735d356dcfd3",
   "metadata": {},
   "outputs": [
    {
     "data": {
      "text/plain": [
       "50"
      ]
     },
     "execution_count": 40,
     "metadata": {},
     "output_type": "execute_result"
    }
   ],
   "source": [
    "a[-2,1]"
   ]
  },
  {
   "cell_type": "code",
   "execution_count": 42,
   "id": "cb2eb7e1-8bd4-464e-9134-08f9f1fe6713",
   "metadata": {},
   "outputs": [
    {
     "name": "stdout",
     "output_type": "stream",
     "text": [
      "[[10 20 30]\n",
      " [40 50 60]\n",
      " [70 80 90]]\n"
     ]
    }
   ],
   "source": [
    "print(a)"
   ]
  },
  {
   "cell_type": "code",
   "execution_count": 44,
   "id": "b31bdeae-6055-40b9-87fc-4510ef6aa6e9",
   "metadata": {},
   "outputs": [
    {
     "data": {
      "text/plain": [
       "90"
      ]
     },
     "execution_count": 44,
     "metadata": {},
     "output_type": "execute_result"
    }
   ],
   "source": [
    "# get 90 from a \n",
    "a[2,2]"
   ]
  },
  {
   "cell_type": "code",
   "execution_count": 46,
   "id": "2ccecf0d-a460-499f-90e4-a1903563180a",
   "metadata": {},
   "outputs": [
    {
     "data": {
      "text/plain": [
       "90"
      ]
     },
     "execution_count": 46,
     "metadata": {},
     "output_type": "execute_result"
    }
   ],
   "source": [
    "a[-1,-1]"
   ]
  },
  {
   "cell_type": "code",
   "execution_count": 48,
   "id": "aadd747a-9ff7-4098-a9a9-bffb3ada52c5",
   "metadata": {},
   "outputs": [
    {
     "data": {
      "text/plain": [
       "90"
      ]
     },
     "execution_count": 48,
     "metadata": {},
     "output_type": "execute_result"
    }
   ],
   "source": [
    "a[2,-1]"
   ]
  },
  {
   "cell_type": "code",
   "execution_count": 50,
   "id": "1304e852-c948-4dd9-ad34-aa5453ed2765",
   "metadata": {},
   "outputs": [
    {
     "data": {
      "text/plain": [
       "90"
      ]
     },
     "execution_count": 50,
     "metadata": {},
     "output_type": "execute_result"
    }
   ],
   "source": [
    "a[-1,2]"
   ]
  },
  {
   "cell_type": "code",
   "execution_count": 52,
   "id": "e96427ae-929b-4a11-8901-39e4ed4cd128",
   "metadata": {},
   "outputs": [
    {
     "data": {
      "text/plain": [
       "array([70, 80, 90])"
      ]
     },
     "execution_count": 52,
     "metadata": {},
     "output_type": "execute_result"
    }
   ],
   "source": [
    "a[2]"
   ]
  },
  {
   "cell_type": "code",
   "execution_count": null,
   "id": "3a6cdb29-b971-4be0-ae7b-9f5ebe359b92",
   "metadata": {},
   "outputs": [],
   "source": []
  },
  {
   "cell_type": "code",
   "execution_count": 54,
   "id": "d6a39696-8b8d-41b3-a6d4-1fce4cff7dbe",
   "metadata": {},
   "outputs": [
    {
     "name": "stdout",
     "output_type": "stream",
     "text": [
      "content of a\n",
      " [[[ 0  1  2]\n",
      "  [ 3  4  5]\n",
      "  [ 6  7  8]]\n",
      "\n",
      " [[ 9 10 11]\n",
      "  [12 13 14]\n",
      "  [15 16 17]]\n",
      "\n",
      " [[18 19 20]\n",
      "  [21 22 23]\n",
      "  [24 25 26]]]\n"
     ]
    }
   ],
   "source": [
    "# indexing operation on 3-D Array\n",
    "import numpy as np\n",
    "a=np.arange(3*3*3).reshape(3,3,3)\n",
    "print(\"content of a\\n\",a)"
   ]
  },
  {
   "cell_type": "code",
   "execution_count": 56,
   "id": "42da4382-faef-48e0-947e-5cb38c9b6a0a",
   "metadata": {},
   "outputs": [
    {
     "data": {
      "text/plain": [
       "array([[0, 1, 2],\n",
       "       [3, 4, 5],\n",
       "       [6, 7, 8]])"
      ]
     },
     "execution_count": 56,
     "metadata": {},
     "output_type": "execute_result"
    }
   ],
   "source": [
    "# get first matrix\n",
    "a[0]"
   ]
  },
  {
   "cell_type": "code",
   "execution_count": 58,
   "id": "be280c34-4339-465c-8f72-d0b81020472e",
   "metadata": {},
   "outputs": [
    {
     "data": {
      "text/plain": [
       "array([[ 9, 10, 11],\n",
       "       [12, 13, 14],\n",
       "       [15, 16, 17]])"
      ]
     },
     "execution_count": 58,
     "metadata": {},
     "output_type": "execute_result"
    }
   ],
   "source": [
    "# get second matrix\n",
    "a[1]"
   ]
  },
  {
   "cell_type": "code",
   "execution_count": 60,
   "id": "7a5ebeb4-8b25-4b6f-be4d-7e0b57bfe1b4",
   "metadata": {},
   "outputs": [
    {
     "data": {
      "text/plain": [
       "array([[18, 19, 20],\n",
       "       [21, 22, 23],\n",
       "       [24, 25, 26]])"
      ]
     },
     "execution_count": 60,
     "metadata": {},
     "output_type": "execute_result"
    }
   ],
   "source": [
    "# get second matrix\n",
    "a[2]"
   ]
  },
  {
   "cell_type": "code",
   "execution_count": 62,
   "id": "bf5ba33e-d550-40ec-bf14-0ed60f53dd14",
   "metadata": {},
   "outputs": [
    {
     "name": "stdout",
     "output_type": "stream",
     "text": [
      "[[[ 0  1  2]\n",
      "  [ 3  4  5]\n",
      "  [ 6  7  8]]\n",
      "\n",
      " [[ 9 10 11]\n",
      "  [12 13 14]\n",
      "  [15 16 17]]\n",
      "\n",
      " [[18 19 20]\n",
      "  [21 22 23]\n",
      "  [24 25 26]]]\n"
     ]
    }
   ],
   "source": [
    "print(a)"
   ]
  },
  {
   "cell_type": "code",
   "execution_count": 64,
   "id": "b8d1b6d0-f704-4bba-b351-04eeecb0b726",
   "metadata": {},
   "outputs": [
    {
     "data": {
      "text/plain": [
       "14"
      ]
     },
     "execution_count": 64,
     "metadata": {},
     "output_type": "execute_result"
    }
   ],
   "source": [
    "# get the element 14 from a\n",
    "a[1][1][2]"
   ]
  },
  {
   "cell_type": "code",
   "execution_count": 66,
   "id": "588400a7-5d9e-404f-894d-fdb2b02ea622",
   "metadata": {},
   "outputs": [
    {
     "data": {
      "text/plain": [
       "14"
      ]
     },
     "execution_count": 66,
     "metadata": {},
     "output_type": "execute_result"
    }
   ],
   "source": [
    "a[-2][-2][-1]"
   ]
  },
  {
   "cell_type": "code",
   "execution_count": 68,
   "id": "f4fb719b-33f1-4e70-9e44-47b32573ec69",
   "metadata": {},
   "outputs": [
    {
     "data": {
      "text/plain": [
       "14"
      ]
     },
     "execution_count": 68,
     "metadata": {},
     "output_type": "execute_result"
    }
   ],
   "source": [
    "a[1,-2,-1]"
   ]
  },
  {
   "cell_type": "code",
   "execution_count": 70,
   "id": "f6bf1540-0b28-4f57-a70e-76588f767378",
   "metadata": {},
   "outputs": [
    {
     "data": {
      "text/plain": [
       "14"
      ]
     },
     "execution_count": 70,
     "metadata": {},
     "output_type": "execute_result"
    }
   ],
   "source": [
    "a[-2,1,2]"
   ]
  },
  {
   "cell_type": "code",
   "execution_count": 72,
   "id": "eb937527-749f-47e3-93f8-9f2cd6254830",
   "metadata": {},
   "outputs": [
    {
     "ename": "IndexError",
     "evalue": "index 3 is out of bounds for axis 0 with size 3",
     "output_type": "error",
     "traceback": [
      "\u001b[1;31m---------------------------------------------------------------------------\u001b[0m",
      "\u001b[1;31mIndexError\u001b[0m                                Traceback (most recent call last)",
      "Cell \u001b[1;32mIn[72], line 1\u001b[0m\n\u001b[1;32m----> 1\u001b[0m a[\u001b[38;5;241m3\u001b[39m,\u001b[38;5;241m1\u001b[39m,\u001b[38;5;241m2\u001b[39m]\n",
      "\u001b[1;31mIndexError\u001b[0m: index 3 is out of bounds for axis 0 with size 3"
     ]
    }
   ],
   "source": [
    "a[3,1,2]"
   ]
  },
  {
   "cell_type": "code",
   "execution_count": 74,
   "id": "3d7047fe-5d04-476c-853e-75b3d0eea74b",
   "metadata": {},
   "outputs": [
    {
     "data": {
      "text/plain": [
       "array([[18, 19, 20],\n",
       "       [21, 22, 23],\n",
       "       [24, 25, 26]])"
      ]
     },
     "execution_count": 74,
     "metadata": {},
     "output_type": "execute_result"
    }
   ],
   "source": [
    "a[2]"
   ]
  },
  {
   "cell_type": "code",
   "execution_count": 76,
   "id": "26b7f43b-ca63-4ea7-9336-5e571941127b",
   "metadata": {},
   "outputs": [
    {
     "data": {
      "text/plain": [
       "26"
      ]
     },
     "execution_count": 76,
     "metadata": {},
     "output_type": "execute_result"
    }
   ],
   "source": [
    "a[2,2,2]"
   ]
  },
  {
   "cell_type": "code",
   "execution_count": 78,
   "id": "f3392d39-110f-472b-9107-30976cc2a204",
   "metadata": {},
   "outputs": [
    {
     "name": "stdout",
     "output_type": "stream",
     "text": [
      "content of a=\n",
      " [[[[ 0  1  2]\n",
      "   [ 3  4  5]\n",
      "   [ 6  7  8]]\n",
      "\n",
      "  [[ 9 10 11]\n",
      "   [12 13 14]\n",
      "   [15 16 17]]\n",
      "\n",
      "  [[18 19 20]\n",
      "   [21 22 23]\n",
      "   [24 25 26]]]\n",
      "\n",
      "\n",
      " [[[27 28 29]\n",
      "   [30 31 32]\n",
      "   [33 34 35]]\n",
      "\n",
      "  [[36 37 38]\n",
      "   [39 40 41]\n",
      "   [42 43 44]]\n",
      "\n",
      "  [[45 46 47]\n",
      "   [48 49 50]\n",
      "   [51 52 53]]]]\n"
     ]
    }
   ],
   "source": [
    "# indexing operation on multi-dimension\n",
    "import numpy as np\n",
    "a=np.arange(2*3*3*3).reshape(2,3,3,3)\n",
    "print(\"content of a=\\n\",a)"
   ]
  },
  {
   "cell_type": "code",
   "execution_count": 80,
   "id": "cf63121a-43c9-42fd-9b89-7d0d9f2dcdac",
   "metadata": {},
   "outputs": [
    {
     "data": {
      "text/plain": [
       "array([[[ 0,  1,  2],\n",
       "        [ 3,  4,  5],\n",
       "        [ 6,  7,  8]],\n",
       "\n",
       "       [[ 9, 10, 11],\n",
       "        [12, 13, 14],\n",
       "        [15, 16, 17]],\n",
       "\n",
       "       [[18, 19, 20],\n",
       "        [21, 22, 23],\n",
       "        [24, 25, 26]]])"
      ]
     },
     "execution_count": 80,
     "metadata": {},
     "output_type": "execute_result"
    }
   ],
   "source": [
    "# get first cluster \n",
    "a[0]"
   ]
  },
  {
   "cell_type": "code",
   "execution_count": 82,
   "id": "6c6865c2-70f4-4dfb-98e4-e84f5aeeaff9",
   "metadata": {},
   "outputs": [
    {
     "data": {
      "text/plain": [
       "array([[[27, 28, 29],\n",
       "        [30, 31, 32],\n",
       "        [33, 34, 35]],\n",
       "\n",
       "       [[36, 37, 38],\n",
       "        [39, 40, 41],\n",
       "        [42, 43, 44]],\n",
       "\n",
       "       [[45, 46, 47],\n",
       "        [48, 49, 50],\n",
       "        [51, 52, 53]]])"
      ]
     },
     "execution_count": 82,
     "metadata": {},
     "output_type": "execute_result"
    }
   ],
   "source": [
    "# get second cluster \n",
    "a[1]"
   ]
  },
  {
   "cell_type": "code",
   "execution_count": 84,
   "id": "77387f5f-e056-4676-bcf8-fbf30fe2d608",
   "metadata": {},
   "outputs": [
    {
     "data": {
      "text/plain": [
       "array([[0, 1, 2],\n",
       "       [3, 4, 5],\n",
       "       [6, 7, 8]])"
      ]
     },
     "execution_count": 84,
     "metadata": {},
     "output_type": "execute_result"
    }
   ],
   "source": [
    "a[0][0]"
   ]
  },
  {
   "cell_type": "code",
   "execution_count": 86,
   "id": "515a7e23-4b0e-4ebd-b6a5-04a4efa602ae",
   "metadata": {},
   "outputs": [
    {
     "data": {
      "text/plain": [
       "array([[[27, 28, 29],\n",
       "        [30, 31, 32],\n",
       "        [33, 34, 35]],\n",
       "\n",
       "       [[36, 37, 38],\n",
       "        [39, 40, 41],\n",
       "        [42, 43, 44]],\n",
       "\n",
       "       [[45, 46, 47],\n",
       "        [48, 49, 50],\n",
       "        [51, 52, 53]]])"
      ]
     },
     "execution_count": 86,
     "metadata": {},
     "output_type": "execute_result"
    }
   ],
   "source": [
    "a[1]"
   ]
  },
  {
   "cell_type": "code",
   "execution_count": 88,
   "id": "85029fe7-db23-44d1-9e9b-da2d15f7bc12",
   "metadata": {},
   "outputs": [
    {
     "data": {
      "text/plain": [
       "40"
      ]
     },
     "execution_count": 88,
     "metadata": {},
     "output_type": "execute_result"
    }
   ],
   "source": [
    "a[1,1,1,1]"
   ]
  },
  {
   "cell_type": "code",
   "execution_count": 90,
   "id": "3fc2e56c-c7b5-42ef-9b87-c3c449343754",
   "metadata": {},
   "outputs": [
    {
     "data": {
      "text/plain": [
       "53"
      ]
     },
     "execution_count": 90,
     "metadata": {},
     "output_type": "execute_result"
    }
   ],
   "source": [
    "a[-1,-1,-1,-1]"
   ]
  },
  {
   "cell_type": "code",
   "execution_count": null,
   "id": "a4718f2f-d283-4738-8a7a-7574be82f8e5",
   "metadata": {},
   "outputs": [],
   "source": []
  }
 ],
 "metadata": {
  "kernelspec": {
   "display_name": "Python 3 (ipykernel)",
   "language": "python",
   "name": "python3"
  },
  "language_info": {
   "codemirror_mode": {
    "name": "ipython",
    "version": 3
   },
   "file_extension": ".py",
   "mimetype": "text/x-python",
   "name": "python",
   "nbconvert_exporter": "python",
   "pygments_lexer": "ipython3",
   "version": "3.12.4"
  }
 },
 "nbformat": 4,
 "nbformat_minor": 5
}
