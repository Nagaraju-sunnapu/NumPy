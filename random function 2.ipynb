{
 "cells": [
  {
   "cell_type": "markdown",
   "id": "7c944bfb-60dc-46d1-8d96-03368bb89a21",
   "metadata": {},
   "source": [
    "## 21 st sep,2024"
   ]
  },
  {
   "cell_type": "code",
   "execution_count": null,
   "id": "e5eb120a-271d-4419-8a95-5c8b9951bea4",
   "metadata": {},
   "outputs": [],
   "source": []
  },
  {
   "cell_type": "markdown",
   "id": "98342c27-4a47-4bc9-90b9-7985f416da3a",
   "metadata": {},
   "source": [
    "## randn()"
   ]
  },
  {
   "cell_type": "code",
   "execution_count": 5,
   "id": "00f5169e-488d-4f2e-af05-ed3d83000e31",
   "metadata": {},
   "outputs": [],
   "source": [
    "# creating an ndarray object by using the randn() "
   ]
  },
  {
   "cell_type": "code",
   "execution_count": 6,
   "id": "6fba55d6-28df-404d-9fd1-d061e56d9f24",
   "metadata": {},
   "outputs": [
    {
     "name": "stdout",
     "output_type": "stream",
     "text": [
      "0.5196976447100011 <class 'float'>\n"
     ]
    }
   ],
   "source": [
    "import numpy as np\n",
    "a=np.random.randn()\n",
    "print(a,type(a))"
   ]
  },
  {
   "cell_type": "code",
   "execution_count": 7,
   "id": "713de625-8feb-4f1c-b434-6d69f4c727d9",
   "metadata": {},
   "outputs": [
    {
     "name": "stdout",
     "output_type": "stream",
     "text": [
      "0.46729729199776054 <class 'float'>\n"
     ]
    }
   ],
   "source": [
    "a=np.random.randn()\n",
    "print(a,type(a))"
   ]
  },
  {
   "cell_type": "code",
   "execution_count": 8,
   "id": "08037d2e-5b34-4d47-af10-cfb9189a5051",
   "metadata": {},
   "outputs": [
    {
     "name": "stdout",
     "output_type": "stream",
     "text": [
      "0.8047651551991192 <class 'float'>\n"
     ]
    }
   ],
   "source": [
    "a=np.random.randn()\n",
    "print(a,type(a))"
   ]
  },
  {
   "cell_type": "code",
   "execution_count": 9,
   "id": "772e8a32-02e2-438d-8634-574afb8400b5",
   "metadata": {},
   "outputs": [
    {
     "name": "stdout",
     "output_type": "stream",
     "text": [
      "-0.5682246997474585 <class 'float'>\n"
     ]
    }
   ],
   "source": [
    "a=np.random.randn()\n",
    "print(a,type(a))"
   ]
  },
  {
   "cell_type": "code",
   "execution_count": 10,
   "id": "60b986b3-eb29-4f59-800c-d77360a82798",
   "metadata": {},
   "outputs": [
    {
     "name": "stdout",
     "output_type": "stream",
     "text": [
      "0.3972662414225861 <class 'float'>\n"
     ]
    }
   ],
   "source": [
    "a=np.random.randn()\n",
    "print(a,type(a))"
   ]
  },
  {
   "cell_type": "code",
   "execution_count": 11,
   "id": "c0dd17f1-19ed-4322-91e4-813777419085",
   "metadata": {},
   "outputs": [
    {
     "name": "stdout",
     "output_type": "stream",
     "text": [
      "-0.19795338812919755 <class 'float'>\n"
     ]
    }
   ],
   "source": [
    "a=np.random.randn()\n",
    "print(a,type(a))"
   ]
  },
  {
   "cell_type": "code",
   "execution_count": 12,
   "id": "e044136e-56c5-46a5-9090-1b248bb66cca",
   "metadata": {},
   "outputs": [
    {
     "name": "stdout",
     "output_type": "stream",
     "text": [
      "0.323401246178334 <class 'float'>\n"
     ]
    }
   ],
   "source": [
    "a=np.random.randn()\n",
    "print(a,type(a))"
   ]
  },
  {
   "cell_type": "code",
   "execution_count": 13,
   "id": "c7d4a31d-db2a-4b3b-8ee9-f444f0aab3a5",
   "metadata": {},
   "outputs": [
    {
     "name": "stdout",
     "output_type": "stream",
     "text": [
      "0.24407839374992935 <class 'float'>\n",
      "-0.722101846159214 <class 'float'>\n",
      "-0.45447279021720116 <class 'float'>\n",
      "-0.740126660589188 <class 'float'>\n",
      "0.13812846988177585 <class 'float'>\n"
     ]
    }
   ],
   "source": [
    "for i in range(1,6):\n",
    "    a=np.random.randn()\n",
    "    print(a,type(a))"
   ]
  },
  {
   "cell_type": "code",
   "execution_count": 14,
   "id": "3daca062-3a47-4a62-ae24-59da9e01a704",
   "metadata": {},
   "outputs": [
    {
     "name": "stdout",
     "output_type": "stream",
     "text": [
      "0.33078318141188384 <class 'float'>\n",
      "-0.7719348954134463 <class 'float'>\n",
      "-0.15636025514140975 <class 'float'>\n",
      "0.09399278436781555 <class 'float'>\n",
      "0.3365791214039929 <class 'float'>\n"
     ]
    }
   ],
   "source": [
    "for i in range(1,6):\n",
    "    a=np.random.randn()\n",
    "    print(a,type(a))"
   ]
  },
  {
   "cell_type": "code",
   "execution_count": 15,
   "id": "87727042-f2fa-448b-ad8f-a7e19117aee0",
   "metadata": {},
   "outputs": [],
   "source": [
    "# syntax:varname=numpy.random.randn(value) creating 1-D array"
   ]
  },
  {
   "cell_type": "code",
   "execution_count": 16,
   "id": "998d8d67-afd6-4882-b446-68215767ff26",
   "metadata": {},
   "outputs": [
    {
     "name": "stdout",
     "output_type": "stream",
     "text": [
      "[ 1.34619618  0.50969829  0.34824214  1.07689987 -0.87908683] <class 'numpy.ndarray'>\n"
     ]
    }
   ],
   "source": [
    "a=np.random.randn(5)\n",
    "print(a,type(a))"
   ]
  },
  {
   "cell_type": "code",
   "execution_count": 17,
   "id": "7a2fc64d-7646-4e2a-9523-718615a79bf5",
   "metadata": {},
   "outputs": [
    {
     "name": "stdout",
     "output_type": "stream",
     "text": [
      "[-0.32878284  0.49870243  0.04173637  0.86093362  0.95587398  0.43651457\n",
      "  0.13899767  0.80672062  0.48871706  0.24392652] <class 'numpy.ndarray'>\n"
     ]
    }
   ],
   "source": [
    "a=np.random.randn(10)\n",
    "print(a,type(a))"
   ]
  },
  {
   "cell_type": "code",
   "execution_count": 18,
   "id": "f918b227-07d5-49e7-81a8-3f60aba3bff5",
   "metadata": {},
   "outputs": [
    {
     "name": "stdout",
     "output_type": "stream",
     "text": [
      "[ 1.47447069 -1.40446768 -0.63162151 -0.29111588  0.22676332] <class 'numpy.ndarray'>\n",
      "[-1.70329631  0.42835246 -2.25008447 -0.57079148  0.18736272] <class 'numpy.ndarray'>\n",
      "[-0.27138969  0.29660864 -0.43932376 -0.97152143  0.67938701] <class 'numpy.ndarray'>\n",
      "[ 1.28339893 -0.00798536 -0.88991259  0.52693244  0.09181578] <class 'numpy.ndarray'>\n",
      "[-1.73345203 -0.12925494 -0.52624056  0.49795279 -0.30175703] <class 'numpy.ndarray'>\n"
     ]
    }
   ],
   "source": [
    "for i in range(5):\n",
    "    a=np.random.randn(5)\n",
    "    print(a,type(a))"
   ]
  },
  {
   "cell_type": "code",
   "execution_count": 19,
   "id": "367a8797-c8c5-4eed-8cba-c467ea76e7a9",
   "metadata": {},
   "outputs": [],
   "source": [
    "# syntax3: varname=numpy.random.randn(row,col)"
   ]
  },
  {
   "cell_type": "code",
   "execution_count": 20,
   "id": "24f75b70-ccac-4a97-8184-5bcb508f00fe",
   "metadata": {},
   "outputs": [
    {
     "name": "stdout",
     "output_type": "stream",
     "text": [
      "[[ 0.61322136 -0.88297018  0.72876789]\n",
      " [ 1.63630297 -0.29709876  0.84530719]] <class 'numpy.ndarray'>\n"
     ]
    }
   ],
   "source": [
    "a=np.random.randn(2,3)\n",
    "print(a,type(a))"
   ]
  },
  {
   "cell_type": "code",
   "execution_count": 21,
   "id": "46bd9605-3dd1-4577-8722-65ebe1003681",
   "metadata": {},
   "outputs": [
    {
     "name": "stdout",
     "output_type": "stream",
     "text": [
      "[[ 0.1392871   0.00282993 -1.4063786  -0.75751259 -0.81609356  1.07437928\n",
      "  -1.48147739  0.04020376  0.13601362  0.64480765]\n",
      " [-0.19607293 -1.11276423  0.51466589  0.97601979 -0.02836339 -1.12800678\n",
      "   0.21875013  0.55791858 -1.54578478 -0.67168717]\n",
      " [-1.21405435  2.34253728 -1.10781937 -0.51498382  2.0378501  -0.18389541\n",
      "   0.31147936 -1.02144033  0.11897789  0.7006776 ]\n",
      " [ 0.13632854  1.48260937  1.06849673 -1.36493305  1.39697675 -0.8103427\n",
      "   0.16334839 -2.30779497 -0.84719322 -0.23316662]\n",
      " [ 0.37940005 -1.32595316  1.3124058  -0.49514233 -0.6645011   0.07020302\n",
      "   1.12798213  1.38725855 -0.23461186  1.14658003]\n",
      " [-0.05623037  0.28357875  1.6158535  -0.90549137  1.14352614  1.74979488\n",
      "   0.58863344 -1.30407513 -2.29477821 -1.12238552]\n",
      " [ 0.06934979 -0.15550872  0.62741324 -0.47796914  2.46626005  0.70050681\n",
      "   0.63481652 -0.79572712  0.37883865 -0.43250852]\n",
      " [-1.42812109  0.92446968  0.40684976  0.27567428 -0.25955772  0.04907836\n",
      "   0.83766363 -1.01623279 -0.29026005  0.05134989]\n",
      " [ 0.20290875  0.88514393  0.23844328 -2.40541139 -1.20618885 -0.25132779\n",
      "   0.69136554 -0.97977548  0.42600746 -0.09028595]\n",
      " [-1.00801258  1.21361297 -0.18519994 -0.17332815  0.44093482  1.27865176\n",
      "   0.11684382 -0.51618471 -0.6462308   0.25957569]] <class 'numpy.ndarray'>\n"
     ]
    }
   ],
   "source": [
    "a=np.random.randn(10,10)\n",
    "print(a,type(a))"
   ]
  },
  {
   "cell_type": "code",
   "execution_count": 22,
   "id": "9e140552-3194-4b68-998c-fede8f65c530",
   "metadata": {},
   "outputs": [
    {
     "name": "stdout",
     "output_type": "stream",
     "text": [
      "[[-1.18140439 -1.09685431 -1.10110722]\n",
      " [-0.31970834  0.14164447 -2.05631932]] <class 'numpy.ndarray'>\n",
      "[[-0.47242424 -0.37658093  1.29887161]\n",
      " [-1.23522894 -1.07131332 -1.63611142]] <class 'numpy.ndarray'>\n",
      "[[-0.01023692 -0.77974804  0.71770454]\n",
      " [-1.08504274 -0.77897539 -1.25682876]] <class 'numpy.ndarray'>\n",
      "[[-0.28341506  1.13962153  0.84959123]\n",
      " [-1.26882546  0.57434492  1.00429685]] <class 'numpy.ndarray'>\n",
      "[[-0.94219549 -0.05728447 -0.77991689]\n",
      " [ 0.40243497 -1.2506444  -1.42525975]] <class 'numpy.ndarray'>\n",
      "[[1.04976909 0.37963665 0.72565351]\n",
      " [0.3249977  1.34143481 2.14902547]] <class 'numpy.ndarray'>\n",
      "[[ 0.60687962 -1.78713152  1.57196823]\n",
      " [-0.57056068  1.06034806 -0.90246095]] <class 'numpy.ndarray'>\n",
      "[[-0.69936946  0.73324967  0.69947361]\n",
      " [-1.56122469  0.33805922  0.41681973]] <class 'numpy.ndarray'>\n",
      "[[ 0.4882641  -1.92012784 -0.42509379]\n",
      " [ 0.4750035   0.51532291  0.62796695]] <class 'numpy.ndarray'>\n",
      "[[ 0.16067886 -0.91339315  0.98536975]\n",
      " [-0.68177695 -0.23601325  0.49636921]] <class 'numpy.ndarray'>\n"
     ]
    }
   ],
   "source": [
    "for i in range(10):\n",
    "    a=np.random.randn(2,3)\n",
    "    print(a,type(a))"
   ]
  },
  {
   "cell_type": "code",
   "execution_count": 23,
   "id": "3ae842ca-595f-4455-8b1c-c6206e8ef287",
   "metadata": {},
   "outputs": [],
   "source": [
    "# syntax4: varname=numpy.random.randn(no.of.matrises,rows,cols)"
   ]
  },
  {
   "cell_type": "code",
   "execution_count": 24,
   "id": "1eb30660-3a10-4b22-b8a2-551c757989b4",
   "metadata": {},
   "outputs": [
    {
     "name": "stdout",
     "output_type": "stream",
     "text": [
      "[[[-0.97020889  1.28926393  1.09276022]\n",
      "  [-0.08144377  1.26588096 -0.19085694]\n",
      "  [ 0.05765488 -1.35198442  1.36971101]]\n",
      "\n",
      " [[ 0.60131495 -0.08768402  0.82687022]\n",
      "  [ 0.3656855   2.07043405  0.71065373]\n",
      "  [ 1.28480544  0.80934579  1.03132449]]] <class 'numpy.ndarray'>\n"
     ]
    }
   ],
   "source": [
    "a=np.random.randn(2,3,3)\n",
    "print(a,type(a))"
   ]
  },
  {
   "cell_type": "code",
   "execution_count": 25,
   "id": "eacf8f2e-a232-4791-ac4a-d337d9aeeb8b",
   "metadata": {},
   "outputs": [
    {
     "name": "stdout",
     "output_type": "stream",
     "text": [
      "[[[-0.18815682  0.88389832 -0.35327113]\n",
      "  [ 0.44769041 -1.02475868  0.05023997]\n",
      "  [-1.60845731  0.14752712  0.84270599]]\n",
      "\n",
      " [[ 1.86173918 -1.03955954  0.81828551]\n",
      "  [ 0.44099431  1.03567314  0.83758188]\n",
      "  [-0.80958127  0.0580189  -0.15495812]]\n",
      "\n",
      " [[-1.28298691 -1.48389193  1.29588106]\n",
      "  [-0.60565437 -0.20392781 -0.1893594 ]\n",
      "  [-0.65748592  1.19409397 -1.78307028]]] <class 'numpy.ndarray'>\n"
     ]
    }
   ],
   "source": [
    "a=np.random.randn(3,3,3)\n",
    "print(a,type(a))"
   ]
  },
  {
   "cell_type": "code",
   "execution_count": null,
   "id": "3279e4ce-aa31-4d48-ad46-204a3f9f364d",
   "metadata": {},
   "outputs": [],
   "source": []
  },
  {
   "cell_type": "markdown",
   "id": "262f6f57-08da-4662-97d0-ac8ade184cfa",
   "metadata": {},
   "source": [
    "## shuffle()"
   ]
  },
  {
   "cell_type": "code",
   "execution_count": 27,
   "id": "78f73cf7-2a79-4958-9778-1c993a7fff55",
   "metadata": {},
   "outputs": [
    {
     "name": "stdout",
     "output_type": "stream",
     "text": [
      "[0 1 2 3 4 5 6 7 8 9] <class 'numpy.ndarray'> 2196477298512\n",
      "------------------------\n",
      "[9 3 8 2 7 0 4 5 6 1] <class 'numpy.ndarray'>\n"
     ]
    }
   ],
   "source": [
    "a=np.arange(10)\n",
    "print(a,type(a),id(a))\n",
    "print(\"------------------------\")\n",
    "np.random.shuffle(a)\n",
    "print(a,type(a))"
   ]
  },
  {
   "cell_type": "code",
   "execution_count": 28,
   "id": "c5668f6a-3ea5-4832-9580-87bba48174f0",
   "metadata": {},
   "outputs": [
    {
     "name": "stdout",
     "output_type": "stream",
     "text": [
      "[6 8 4 5 0 3 9 2 1 7] <class 'numpy.ndarray'>\n"
     ]
    }
   ],
   "source": [
    "np.random.shuffle(a)\n",
    "print(a,type(a))"
   ]
  },
  {
   "cell_type": "code",
   "execution_count": 29,
   "id": "bc94216f-ed52-45c0-84e4-a64ef266a1c1",
   "metadata": {},
   "outputs": [
    {
     "name": "stdout",
     "output_type": "stream",
     "text": [
      "[6 7 5 0 8 4 3 9 1 2] <class 'numpy.ndarray'>\n"
     ]
    }
   ],
   "source": [
    "np.random.shuffle(a)\n",
    "print(a,type(a))"
   ]
  },
  {
   "cell_type": "code",
   "execution_count": 30,
   "id": "c7c78aa0-b6a5-4882-972e-cd1f1dbe1a01",
   "metadata": {},
   "outputs": [
    {
     "name": "stdout",
     "output_type": "stream",
     "text": [
      "[[19 20 18 13 13]\n",
      " [15 11 15 20 15]] <class 'numpy.ndarray'>\n"
     ]
    }
   ],
   "source": [
    "a=np.random.randint(10,21,size=(2,5))\n",
    "print(a,type(a))"
   ]
  },
  {
   "cell_type": "code",
   "execution_count": 31,
   "id": "391148cd-dd0c-4e96-ba0d-a5866b7de191",
   "metadata": {},
   "outputs": [
    {
     "name": "stdout",
     "output_type": "stream",
     "text": [
      "[[15 11 15 20 15]\n",
      " [19 20 18 13 13]] <class 'numpy.ndarray'>\n"
     ]
    }
   ],
   "source": [
    "np.random.shuffle(a)\n",
    "print(a,type(a))"
   ]
  },
  {
   "cell_type": "code",
   "execution_count": 32,
   "id": "6e2ef750-e9be-4ac7-b671-48fdde924133",
   "metadata": {},
   "outputs": [
    {
     "name": "stdout",
     "output_type": "stream",
     "text": [
      "[[19 20 18 13 13]\n",
      " [15 11 15 20 15]] <class 'numpy.ndarray'>\n"
     ]
    }
   ],
   "source": [
    "np.random.shuffle(a)\n",
    "print(a,type(a))"
   ]
  },
  {
   "cell_type": "code",
   "execution_count": 33,
   "id": "4f71d87a-1d2c-4b5c-8ed0-66ffab9237a9",
   "metadata": {},
   "outputs": [
    {
     "name": "stdout",
     "output_type": "stream",
     "text": [
      "[[[ 0  1  2  3]\n",
      "  [ 4  5  6  7]\n",
      "  [ 8  9 10 11]\n",
      "  [12 13 14 15]]\n",
      "\n",
      " [[16 17 18 19]\n",
      "  [20 21 22 23]\n",
      "  [24 25 26 27]\n",
      "  [28 29 30 31]]\n",
      "\n",
      " [[32 33 34 35]\n",
      "  [36 37 38 39]\n",
      "  [40 41 42 43]\n",
      "  [44 45 46 47]]] <class 'numpy.ndarray'>\n"
     ]
    }
   ],
   "source": [
    "a=np.arange(48).reshape(3,4,4)\n",
    "print(a,type(a))"
   ]
  },
  {
   "cell_type": "code",
   "execution_count": 34,
   "id": "c960f0bb-521e-4222-9c7f-7f5aba1344ac",
   "metadata": {},
   "outputs": [
    {
     "name": "stdout",
     "output_type": "stream",
     "text": [
      "[[[16 17 18 19]\n",
      "  [20 21 22 23]\n",
      "  [24 25 26 27]\n",
      "  [28 29 30 31]]\n",
      "\n",
      " [[32 33 34 35]\n",
      "  [36 37 38 39]\n",
      "  [40 41 42 43]\n",
      "  [44 45 46 47]]\n",
      "\n",
      " [[ 0  1  2  3]\n",
      "  [ 4  5  6  7]\n",
      "  [ 8  9 10 11]\n",
      "  [12 13 14 15]]] <class 'numpy.ndarray'>\n"
     ]
    }
   ],
   "source": [
    "np.random.shuffle(a)\n",
    "print(a,type(a))"
   ]
  },
  {
   "cell_type": "code",
   "execution_count": 35,
   "id": "1018b154-a8bb-44f0-a8e7-a83f89ead770",
   "metadata": {},
   "outputs": [
    {
     "name": "stdout",
     "output_type": "stream",
     "text": [
      "[[[ 0  1  2  3]\n",
      "  [ 4  5  6  7]\n",
      "  [ 8  9 10 11]\n",
      "  [12 13 14 15]]\n",
      "\n",
      " [[32 33 34 35]\n",
      "  [36 37 38 39]\n",
      "  [40 41 42 43]\n",
      "  [44 45 46 47]]\n",
      "\n",
      " [[16 17 18 19]\n",
      "  [20 21 22 23]\n",
      "  [24 25 26 27]\n",
      "  [28 29 30 31]]] <class 'numpy.ndarray'>\n"
     ]
    }
   ],
   "source": [
    "np.random.shuffle(a)\n",
    "print(a,type(a))"
   ]
  },
  {
   "cell_type": "code",
   "execution_count": 36,
   "id": "e5df8dea-0e25-49fb-894f-edade37198d4",
   "metadata": {},
   "outputs": [
    {
     "name": "stdout",
     "output_type": "stream",
     "text": [
      "[[[[ 0  1]\n",
      "   [ 2  3]\n",
      "   [ 4  5]\n",
      "   [ 6  7]]\n",
      "\n",
      "  [[ 8  9]\n",
      "   [10 11]\n",
      "   [12 13]\n",
      "   [14 15]]\n",
      "\n",
      "  [[16 17]\n",
      "   [18 19]\n",
      "   [20 21]\n",
      "   [22 23]]]\n",
      "\n",
      "\n",
      " [[[24 25]\n",
      "   [26 27]\n",
      "   [28 29]\n",
      "   [30 31]]\n",
      "\n",
      "  [[32 33]\n",
      "   [34 35]\n",
      "   [36 37]\n",
      "   [38 39]]\n",
      "\n",
      "  [[40 41]\n",
      "   [42 43]\n",
      "   [44 45]\n",
      "   [46 47]]]] <class 'numpy.ndarray'>\n"
     ]
    }
   ],
   "source": [
    "x=np.arange(48).reshape(2,3,4,2)\n",
    "print(x,type(x))"
   ]
  },
  {
   "cell_type": "code",
   "execution_count": 37,
   "id": "7c902f64-10b7-49e6-a474-b57335c198f6",
   "metadata": {},
   "outputs": [
    {
     "name": "stdout",
     "output_type": "stream",
     "text": [
      "[[[[ 0  1]\n",
      "   [ 2  3]\n",
      "   [ 4  5]\n",
      "   [ 6  7]]\n",
      "\n",
      "  [[ 8  9]\n",
      "   [10 11]\n",
      "   [12 13]\n",
      "   [14 15]]\n",
      "\n",
      "  [[16 17]\n",
      "   [18 19]\n",
      "   [20 21]\n",
      "   [22 23]]]\n",
      "\n",
      "\n",
      " [[[24 25]\n",
      "   [26 27]\n",
      "   [28 29]\n",
      "   [30 31]]\n",
      "\n",
      "  [[32 33]\n",
      "   [34 35]\n",
      "   [36 37]\n",
      "   [38 39]]\n",
      "\n",
      "  [[40 41]\n",
      "   [42 43]\n",
      "   [44 45]\n",
      "   [46 47]]]] <class 'numpy.ndarray'>\n"
     ]
    }
   ],
   "source": [
    "np.random.shuffle(x)\n",
    "print(x,type(x))"
   ]
  },
  {
   "cell_type": "code",
   "execution_count": null,
   "id": "c466e57c-f588-4649-80af-544bac43701c",
   "metadata": {},
   "outputs": [],
   "source": []
  },
  {
   "cell_type": "markdown",
   "id": "9fbd1042-f2fc-4187-b301-31921fa981e8",
   "metadata": {},
   "source": [
    "## choice()"
   ]
  },
  {
   "cell_type": "code",
   "execution_count": 39,
   "id": "20dfeddf-0056-416d-852e-b1e8015a7adf",
   "metadata": {},
   "outputs": [
    {
     "name": "stdout",
     "output_type": "stream",
     "text": [
      "[10 20 30 40 50 60 70 80 90] <class 'numpy.ndarray'>\n",
      "--------------------------------------\n",
      "20\n"
     ]
    }
   ],
   "source": [
    "a=np.array([10,20,30,40,50,60,70,80,90])\n",
    "print(a,type(a))\n",
    "print(\"--------------------------------------\")\n",
    "x=np.random.choice(a)\n",
    "print(x)"
   ]
  },
  {
   "cell_type": "code",
   "execution_count": 40,
   "id": "9ea955e5-3e36-4c61-80d1-b63b9b322ce6",
   "metadata": {},
   "outputs": [
    {
     "name": "stdout",
     "output_type": "stream",
     "text": [
      "40\n"
     ]
    }
   ],
   "source": [
    "x=np.random.choice(a)\n",
    "print(x)"
   ]
  },
  {
   "cell_type": "code",
   "execution_count": 41,
   "id": "bbba69a9-cd89-47d2-9102-dc9141e1de5c",
   "metadata": {},
   "outputs": [
    {
     "name": "stdout",
     "output_type": "stream",
     "text": [
      "20\n"
     ]
    }
   ],
   "source": [
    "x=np.random.choice(a)\n",
    "print(x)"
   ]
  },
  {
   "cell_type": "code",
   "execution_count": 45,
   "id": "c1b5e30d-2eb1-4452-8db3-1029b2c36d65",
   "metadata": {},
   "outputs": [
    {
     "name": "stdout",
     "output_type": "stream",
     "text": [
      "UjYB5\n",
      "kjpHs\n",
      "1TbZX\n",
      "SWhPW\n",
      "VL2Lk\n",
      "8ryDx\n",
      "1bB30\n",
      "LssVc\n",
      "2CbnT\n",
      "ZuW6k\n"
     ]
    }
   ],
   "source": [
    "s=\"ABCDEFGHIJKLMNOPQRSTUVWXYZabcdefghijklmnopqrstuvwxyz0987654321\"\n",
    "a=np.array(list(s))\n",
    "for i in range(1,11):\n",
    "    x=np.random.choice(a,size=5)\n",
    "    print(\"\".join(x))"
   ]
  },
  {
   "cell_type": "code",
   "execution_count": 221,
   "id": "1350c2c9-04aa-4e68-be3a-c98b6f21fc4c",
   "metadata": {},
   "outputs": [
    {
     "name": "stdout",
     "output_type": "stream",
     "text": [
      "eTJNA\n",
      "E3VBk\n",
      "sj9FB\n",
      "l4327\n",
      "hhFI2\n",
      "vbE9L\n",
      "e2hXH\n",
      "nPJH6\n",
      "QwshM\n",
      "F0Vq9\n"
     ]
    }
   ],
   "source": [
    "s=\"ABCDEFGHIJKLMNOPQRSTUVWXYZabcdefghijklmnopqrstuvwxyz0987654321\"\n",
    "a=np.array(list(s))\n",
    "for i in range(1,11):\n",
    "    x=np.random.choice(a,size=5)\n",
    "    print(\"\".join(x))"
   ]
  },
  {
   "cell_type": "code",
   "execution_count": 223,
   "id": "5ee9f808-8692-4988-9a92-9880422155fd",
   "metadata": {},
   "outputs": [
    {
     "name": "stdout",
     "output_type": "stream",
     "text": [
      "TG 67 VO 8907\n",
      "UD 18 ZZ 1351\n",
      "UD 22 KH 8325\n",
      "KN 67 CM 5042\n",
      "UD 39 UL 5416\n",
      "MH 22 LF 1212\n",
      "TG 67 CD 5092\n",
      "AP 39 NH 9341\n",
      "TN 13 GM 3543\n",
      "TG 13 BJ 5132\n",
      "TN 67 CB 3748\n",
      "TG 56 JQ 4485\n",
      "KN 56 LS 9472\n",
      "KN 22 EH 9765\n",
      "TN 39 ES 4211\n",
      "AP 67 MR 4380\n",
      "MH 56 YU 4920\n",
      "MH 67 JU 3481\n",
      "MH 18 AC 5224\n",
      "UD 18 TG 1567\n"
     ]
    }
   ],
   "source": [
    "state=[\"AP\",\"TG\",\"MH\",\"UD\",\"TN\",\"KN\"]\n",
    "rtacode=[39,18,22,56,67,13]\n",
    "s=\"ABCDEFGHIJKLMNOPQRSTUVWXYZ\"\n",
    "st=np.array(state)\n",
    "r=np.array(rtacode)\n",
    "a=np.array(list(s))\n",
    "for i in range(1,21):\n",
    "    j=np.random.choice(st)\n",
    "    k=np.random.choice(r)\n",
    "    l=np.random.choice(a,size=2)\n",
    "    m=np.random.randint(1000,10000)\n",
    "    print(j,k,\"\".join(l),m)"
   ]
  },
  {
   "cell_type": "code",
   "execution_count": null,
   "id": "37c8eca1-ed1a-4576-83c0-d6191fef2140",
   "metadata": {},
   "outputs": [],
   "source": []
  }
 ],
 "metadata": {
  "kernelspec": {
   "display_name": "Python 3 (ipykernel)",
   "language": "python",
   "name": "python3"
  },
  "language_info": {
   "codemirror_mode": {
    "name": "ipython",
    "version": 3
   },
   "file_extension": ".py",
   "mimetype": "text/x-python",
   "name": "python",
   "nbconvert_exporter": "python",
   "pygments_lexer": "ipython3",
   "version": "3.12.4"
  }
 },
 "nbformat": 4,
 "nbformat_minor": 5
}
