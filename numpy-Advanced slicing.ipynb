{
 "cells": [
  {
   "cell_type": "markdown",
   "id": "ce4db181-fed0-496f-a40f-857b0f9fab31",
   "metadata": {},
   "source": [
    "## Advanced slicing operations  on 1-D"
   ]
  },
  {
   "cell_type": "code",
   "execution_count": 2,
   "id": "40392598-5c12-434f-b047-c0dc493a454e",
   "metadata": {},
   "outputs": [
    {
     "name": "stdout",
     "output_type": "stream",
     "text": [
      "content of a=[10 20 30 40 50 60 70 80 90]\n",
      "dimension of a=1\n"
     ]
    }
   ],
   "source": [
    "import numpy as np\n",
    "a=np.array([10,20,30,40,50,60,70,80,90])\n",
    "print(\"content of a={}\".format(a))\n",
    "print(\"dimension of a={}\".format(a.ndim))"
   ]
  },
  {
   "cell_type": "code",
   "execution_count": 3,
   "id": "bfe22399-123e-4af8-9807-f3d08950e40b",
   "metadata": {},
   "outputs": [],
   "source": [
    "# get random values like 10 60 80 of 1-D\n",
    "\n",
    "# step-1:identity the indices of 10 60 and 80---[0,5,7] or [-9,-4,-2]\n",
    "# step-2:pass random elements indecies to 1-darray object ----ndarrayobj[[indices]]"
   ]
  },
  {
   "cell_type": "code",
   "execution_count": 4,
   "id": "4ace0451-2cfd-4b56-ac14-3c3bff796125",
   "metadata": {},
   "outputs": [
    {
     "data": {
      "text/plain": [
       "array([10, 60, 80])"
      ]
     },
     "execution_count": 4,
     "metadata": {},
     "output_type": "execute_result"
    }
   ],
   "source": [
    "# get random values like 10 60 80 of 1-D\n",
    "#step-1\n",
    "rind=[0,5,7]\n",
    "# step-2\n",
    "a[rind]"
   ]
  },
  {
   "cell_type": "code",
   "execution_count": 5,
   "id": "ddc86130-4b0d-41d0-9466-0c0e041c7797",
   "metadata": {},
   "outputs": [
    {
     "data": {
      "text/plain": [
       "array([10, 60, 80])"
      ]
     },
     "execution_count": 5,
     "metadata": {},
     "output_type": "execute_result"
    }
   ],
   "source": [
    "# OR\n",
    "# step-1\n",
    "rind=[-9,-4,-2]\n",
    "# step-2\n",
    "a[rind]"
   ]
  },
  {
   "cell_type": "code",
   "execution_count": 6,
   "id": "80df3672-1728-482d-8d82-8fa6ffe7b2db",
   "metadata": {},
   "outputs": [
    {
     "data": {
      "text/plain": [
       "array([10, 60, 80])"
      ]
     },
     "execution_count": 6,
     "metadata": {},
     "output_type": "execute_result"
    }
   ],
   "source": [
    "# OR \n",
    "a[[0,5,7]]"
   ]
  },
  {
   "cell_type": "code",
   "execution_count": 7,
   "id": "612ce3b7-ee33-4e45-a1af-78a5807b87ba",
   "metadata": {},
   "outputs": [
    {
     "data": {
      "text/plain": [
       "array([10, 60, 80])"
      ]
     },
     "execution_count": 7,
     "metadata": {},
     "output_type": "execute_result"
    }
   ],
   "source": [
    "# OR \n",
    "a[[-9,-4,-2]]"
   ]
  },
  {
   "cell_type": "code",
   "execution_count": 8,
   "id": "b4d976c9-a97c-42a6-85e1-0f66691a27eb",
   "metadata": {},
   "outputs": [
    {
     "name": "stdout",
     "output_type": "stream",
     "text": [
      "[10 20 30 40 50 60 70 80 90]\n"
     ]
    }
   ],
   "source": [
    "print(a)"
   ]
  },
  {
   "cell_type": "code",
   "execution_count": 9,
   "id": "aae60c75-2eae-45a0-9cae-5858f7df05ac",
   "metadata": {},
   "outputs": [
    {
     "data": {
      "text/plain": [
       "array([20, 80, 20])"
      ]
     },
     "execution_count": 9,
     "metadata": {},
     "output_type": "execute_result"
    }
   ],
   "source": [
    "a[[1,-2,1]]"
   ]
  },
  {
   "cell_type": "code",
   "execution_count": 10,
   "id": "8a8b2f07-4b4c-48e0-b4ce-1ec6b0a56848",
   "metadata": {},
   "outputs": [
    {
     "data": {
      "text/plain": [
       "array([20, 80, 20])"
      ]
     },
     "execution_count": 10,
     "metadata": {},
     "output_type": "execute_result"
    }
   ],
   "source": [
    "x=np.array([1,-2,1])\n",
    "a[x]"
   ]
  },
  {
   "cell_type": "markdown",
   "id": "f0b37a81-0339-47b0-96e0-49019df811eb",
   "metadata": {},
   "source": [
    "## Advanced slicing operation on 2-D slicing"
   ]
  },
  {
   "cell_type": "code",
   "execution_count": 21,
   "id": "0cff382e-4b49-4872-b575-a6154e9b3dfc",
   "metadata": {},
   "outputs": [
    {
     "name": "stdout",
     "output_type": "stream",
     "text": [
      "content of a\n",
      " [[10 20 30]\n",
      " [40 50 60]\n",
      " [70 80 90]]\n",
      "dimension of a= 2\n"
     ]
    }
   ],
   "source": [
    "a=np.array([10,20,30,40,50,60,70,80,90]).reshape(3,3)\n",
    "print(\"content of a\\n\",a)\n",
    "print(\"dimension of a=\",a.ndim)"
   ]
  },
  {
   "cell_type": "code",
   "execution_count": 23,
   "id": "bd98e7c5-8686-4921-9e6a-7e69f1abc8da",
   "metadata": {},
   "outputs": [
    {
     "data": {
      "text/plain": [
       "array([10, 50, 90])"
      ]
     },
     "execution_count": 23,
     "metadata": {},
     "output_type": "execute_result"
    }
   ],
   "source": [
    "# get the principle diagnol elements 10 50 90\n",
    "rind=(0,1,2) # here rind presents the row indices\n",
    "cind=(0,1,2) # here cind presents the column indices\n",
    "a[rind,cind]"
   ]
  },
  {
   "cell_type": "code",
   "execution_count": 27,
   "id": "30085bab-e48a-4cd4-a076-e5b56a57826b",
   "metadata": {},
   "outputs": [
    {
     "data": {
      "text/plain": [
       "array([10, 50, 90])"
      ]
     },
     "execution_count": 27,
     "metadata": {},
     "output_type": "execute_result"
    }
   ],
   "source": [
    "a[(0,1,2),(0,1,2)]"
   ]
  },
  {
   "cell_type": "code",
   "execution_count": 29,
   "id": "ae18a702-d8bc-45b1-823a-bad1707f49b0",
   "metadata": {},
   "outputs": [
    {
     "data": {
      "text/plain": [
       "array([10, 50, 90])"
      ]
     },
     "execution_count": 29,
     "metadata": {},
     "output_type": "execute_result"
    }
   ],
   "source": [
    "a[[0,1,2],[0,1,2]]"
   ]
  },
  {
   "cell_type": "code",
   "execution_count": 31,
   "id": "b1c0e58d-48ca-4c11-b1c1-615a5c43c160",
   "metadata": {},
   "outputs": [
    {
     "data": {
      "text/plain": [
       "array([10, 50, 90])"
      ]
     },
     "execution_count": 31,
     "metadata": {},
     "output_type": "execute_result"
    }
   ],
   "source": [
    "a[(0,1,2),[0,1,2]]"
   ]
  },
  {
   "cell_type": "code",
   "execution_count": 33,
   "id": "5f2f41a6-9c6e-4052-9d87-d1c71b8e8aa0",
   "metadata": {},
   "outputs": [
    {
     "name": "stdout",
     "output_type": "stream",
     "text": [
      "[[10 20 30]\n",
      " [40 50 60]\n",
      " [70 80 90]]\n"
     ]
    }
   ],
   "source": [
    "print(a)"
   ]
  },
  {
   "cell_type": "code",
   "execution_count": 37,
   "id": "d3ced345-2026-4dd6-8efd-5ee40d35798e",
   "metadata": {},
   "outputs": [
    {
     "data": {
      "text/plain": [
       "array([30, 50, 70])"
      ]
     },
     "execution_count": 37,
     "metadata": {},
     "output_type": "execute_result"
    }
   ],
   "source": [
    "# get the values of 30 50 70 the principle diagonal elements in reverse order\n",
    "# row indecies for values of 30 50 70\n",
    "rind=(0,1,2)\n",
    "# column indecies for values of 30 50 70\n",
    "cind=[2,1,0]\n",
    "# pass the values to the ndarrat object \n",
    "a[rind,cind]"
   ]
  },
  {
   "cell_type": "code",
   "execution_count": 39,
   "id": "ec9b3069-431a-43b5-9a62-d34e2c899277",
   "metadata": {},
   "outputs": [
    {
     "name": "stdout",
     "output_type": "stream",
     "text": [
      "[[10 20 30]\n",
      " [40 50 60]\n",
      " [70 80 90]]\n"
     ]
    }
   ],
   "source": [
    "print(a)"
   ]
  },
  {
   "cell_type": "code",
   "execution_count": 41,
   "id": "398e222c-fe76-4bc8-ac33-b299202b0420",
   "metadata": {},
   "outputs": [
    {
     "data": {
      "text/plain": [
       "array([10, 40, 60, 90])"
      ]
     },
     "execution_count": 41,
     "metadata": {},
     "output_type": "execute_result"
    }
   ],
   "source": [
    "# get the elements of 10 40 60 90 \n",
    "a[(0,1,1,2),(0,0,2,2)]"
   ]
  },
  {
   "cell_type": "code",
   "execution_count": 43,
   "id": "9dfe00fe-39f8-4555-8e25-139cd0dddf73",
   "metadata": {},
   "outputs": [
    {
     "data": {
      "text/plain": [
       "array([10, 60, 70])"
      ]
     },
     "execution_count": 43,
     "metadata": {},
     "output_type": "execute_result"
    }
   ],
   "source": [
    "# get the elmens of 10 60 70\n",
    "a[(0,1,2),(0,2,0)]"
   ]
  },
  {
   "cell_type": "code",
   "execution_count": 45,
   "id": "5a7a0930-53b1-4bdb-8477-ae3107c9d89c",
   "metadata": {},
   "outputs": [
    {
     "data": {
      "text/plain": [
       "array([10, 60, 70])"
      ]
     },
     "execution_count": 45,
     "metadata": {},
     "output_type": "execute_result"
    }
   ],
   "source": [
    "# get the elmens of 10 60 70 with -ve indexing \n",
    "a[(-3,-2,-1),[-3,-1,-3]]"
   ]
  },
  {
   "cell_type": "markdown",
   "id": "e5731f28-156e-4939-94de-09801caaac32",
   "metadata": {},
   "source": [
    "## Advanced slicing operation on 3-D "
   ]
  },
  {
   "cell_type": "code",
   "execution_count": 49,
   "id": "6ee71323-fa60-49dd-914c-04b4a66d721d",
   "metadata": {},
   "outputs": [
    {
     "name": "stdout",
     "output_type": "stream",
     "text": [
      "content of a\n",
      " [[[ 0  1  2]\n",
      "  [ 3  4  5]\n",
      "  [ 6  7  8]]\n",
      "\n",
      " [[ 9 10 11]\n",
      "  [12 13 14]\n",
      "  [15 16 17]]\n",
      "\n",
      " [[18 19 20]\n",
      "  [21 22 23]\n",
      "  [24 25 26]]]\n"
     ]
    }
   ],
   "source": [
    "a=np.arange(27).reshape(3,3,3)\n",
    "print(\"content of a\\n\",a)"
   ]
  },
  {
   "cell_type": "code",
   "execution_count": 51,
   "id": "5ca30ec1-12ae-477e-a1f1-66541be58ef0",
   "metadata": {},
   "outputs": [
    {
     "data": {
      "text/plain": [
       "array([ 4, 12, 26])"
      ]
     },
     "execution_count": 51,
     "metadata": {},
     "output_type": "execute_result"
    }
   ],
   "source": [
    "# get the elements of 4 12 26\n",
    "# matrics indices of 4 12 26\n",
    "mind=(0,1,2)\n",
    "# row indices of 4 12 26\n",
    "rind=(1,1,2)\n",
    "# matrics indices of 4 12 26\n",
    "cind=(1,0,2)\n",
    "# pass the values to the ndarray object\n",
    "a[mind,rind,cind]"
   ]
  },
  {
   "cell_type": "code",
   "execution_count": 53,
   "id": "b443a853-059e-45ba-bf7c-35cf084bef9e",
   "metadata": {},
   "outputs": [
    {
     "data": {
      "text/plain": [
       "array([ 4, 12, 26])"
      ]
     },
     "execution_count": 53,
     "metadata": {},
     "output_type": "execute_result"
    }
   ],
   "source": [
    "a[(0,1,2),(1,1,2),(1,0,2)]"
   ]
  },
  {
   "cell_type": "code",
   "execution_count": 55,
   "id": "941bf512-470e-464e-9e39-2ff78693ad8a",
   "metadata": {},
   "outputs": [
    {
     "name": "stdout",
     "output_type": "stream",
     "text": [
      "[[[ 0  1  2]\n",
      "  [ 3  4  5]\n",
      "  [ 6  7  8]]\n",
      "\n",
      " [[ 9 10 11]\n",
      "  [12 13 14]\n",
      "  [15 16 17]]\n",
      "\n",
      " [[18 19 20]\n",
      "  [21 22 23]\n",
      "  [24 25 26]]]\n"
     ]
    }
   ],
   "source": [
    "print(a)"
   ]
  },
  {
   "cell_type": "code",
   "execution_count": 57,
   "id": "8a06b6a1-f8c5-4b06-8dae-0e9aa2438c44",
   "metadata": {},
   "outputs": [
    {
     "data": {
      "text/plain": [
       "array([ 0,  4,  8, 20, 22, 24])"
      ]
     },
     "execution_count": 57,
     "metadata": {},
     "output_type": "execute_result"
    }
   ],
   "source": [
    "# get 0 4 8 20 22 24\n",
    "a[(0,0,0,2,2,2),(0,1,2,0,1,2),(0,1,2,2,1,0)]"
   ]
  },
  {
   "cell_type": "code",
   "execution_count": 59,
   "id": "fc87f856-3fb6-4341-bbea-81bfdc47ca87",
   "metadata": {},
   "outputs": [
    {
     "name": "stdout",
     "output_type": "stream",
     "text": [
      "[[[ 0  1  2]\n",
      "  [ 3  4  5]\n",
      "  [ 6  7  8]]\n",
      "\n",
      " [[ 9 10 11]\n",
      "  [12 13 14]\n",
      "  [15 16 17]]\n",
      "\n",
      " [[18 19 20]\n",
      "  [21 22 23]\n",
      "  [24 25 26]]]\n"
     ]
    }
   ],
   "source": [
    "print(a)"
   ]
  },
  {
   "cell_type": "code",
   "execution_count": 61,
   "id": "79710498-feb1-48e4-b23a-cfdb80509cd3",
   "metadata": {},
   "outputs": [
    {
     "data": {
      "text/plain": [
       "array([ 0,  4,  8, 20, 22, 24])"
      ]
     },
     "execution_count": 61,
     "metadata": {},
     "output_type": "execute_result"
    }
   ],
   "source": [
    "a[[-3,-3,-3,-1,-1,-1],[-3,-2,-1,-3,-2,-1],[-3,-2,-1,-1,-2,-3]]"
   ]
  },
  {
   "cell_type": "code",
   "execution_count": null,
   "id": "02102bff-7509-45b9-a6d4-475702bfbacb",
   "metadata": {},
   "outputs": [],
   "source": []
  }
 ],
 "metadata": {
  "kernelspec": {
   "display_name": "Python 3 (ipykernel)",
   "language": "python",
   "name": "python3"
  },
  "language_info": {
   "codemirror_mode": {
    "name": "ipython",
    "version": 3
   },
   "file_extension": ".py",
   "mimetype": "text/x-python",
   "name": "python",
   "nbconvert_exporter": "python",
   "pygments_lexer": "ipython3",
   "version": "3.12.4"
  }
 },
 "nbformat": 4,
 "nbformat_minor": 5
}
