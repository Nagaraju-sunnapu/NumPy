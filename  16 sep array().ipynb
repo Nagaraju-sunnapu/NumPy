{
 "cells": [
  {
   "cell_type": "code",
   "execution_count": 5,
   "id": "284db660-9a50-4aae-88bb-dc114c7d5d67",
   "metadata": {},
   "outputs": [],
   "source": [
    "# creating an object of ndarray by using array()"
   ]
  },
  {
   "cell_type": "code",
   "execution_count": 6,
   "id": "71b352ef-3753-44d6-8ee1-d7946e59a70b",
   "metadata": {},
   "outputs": [],
   "source": [
    "# syntax:varname=numpy.array(object,dtype)"
   ]
  },
  {
   "cell_type": "code",
   "execution_count": 7,
   "id": "db4ae08c-bbb6-4c1a-b68a-90fd36a149a7",
   "metadata": {},
   "outputs": [
    {
     "name": "stdout",
     "output_type": "stream",
     "text": [
      "val of a=10\n",
      "type of a=<class 'int'>\n",
      "----------------------------------\n",
      "val of nda=10\n",
      "type of nda=<class 'numpy.ndarray'>\n",
      "------------------------------------\n",
      "dimension nda=0\n",
      "shape of nda=()\n",
      "size of nad=  1\n",
      "data type of nda=  int32\n",
      "item size of nda=  4\n"
     ]
    }
   ],
   "source": [
    "# converting int type value into ndarray\n",
    "import numpy as np\n",
    "a=10\n",
    "print(\"val of a={}\".format(a))\n",
    "print(\"type of a={}\".format(type(a)))\n",
    "print(\"----------------------------------\")\n",
    "nda=np.array(a)\n",
    "print(\"val of nda={}\".format(nda))\n",
    "print(\"type of nda={}\".format(type(nda)))\n",
    "print(\"------------------------------------\")\n",
    "print(\"dimension nda={}\".format(nda.ndim))\n",
    "print(\"shape of nda={}\".format(nda.shape))\n",
    "print(\"size of nad= \",nda.size)\n",
    "print(\"data type of nda= \",nda.dtype)\n",
    "print(\"item size of nda= \",nda.itemsize)"
   ]
  },
  {
   "cell_type": "code",
   "execution_count": 28,
   "id": "32d5c5dd-35dd-4b19-8142-7d8106397644",
   "metadata": {},
   "outputs": [
    {
     "name": "stdout",
     "output_type": "stream",
     "text": [
      "val of a=10.32\n",
      "type of a=<class 'float'>\n",
      "--------------------------------------\n",
      "val of nda=10.32\n",
      "type of nda=<class 'numpy.ndarray'>\n",
      "--------------------------------------\n",
      "dimension of nda=0\n",
      "shape of nda=()\n",
      "size of nda=1\n",
      "datatype of nda=float64\n",
      "itemsize of nda=8\n"
     ]
    }
   ],
   "source": [
    "a=10.32\n",
    "print(\"val of a={}\".format(a))\n",
    "print(\"type of a={}\".format(type(a)))\n",
    "print(\"--------------------------------------\")\n",
    "nda=np.array(a)\n",
    "print(\"val of nda={}\".format(nda))\n",
    "print(\"type of nda={}\".format(type(nda)))\n",
    "print(\"--------------------------------------\")\n",
    "print(\"dimension of nda={}\".format(nda.ndim))\n",
    "print(\"shape of nda={}\".format(nda.shape))\n",
    "print(\"size of nda={}\".format(nda.size))\n",
    "print(\"datatype of nda={}\".format(nda.dtype))\n",
    "print(\"itemsize of nda={}\".format(nda.itemsize))"
   ]
  },
  {
   "cell_type": "code",
   "execution_count": 44,
   "id": "45d78025-02ae-49e3-998e-235093903f5d",
   "metadata": {},
   "outputs": [
    {
     "name": "stdout",
     "output_type": "stream",
     "text": [
      "val of s=PYTHON\n",
      "type of s=<class 'str'>\n",
      "-----------------------------\n",
      "val of nd=PYTHON\n",
      "type of nd=<class 'numpy.ndarray'>\n",
      "------------------------------------\n",
      "dimension of nd=0\n",
      "shape of nd=()\n",
      "size of nd=1\n",
      "datatype of nd=<U6\n",
      "itemsize of nd=24\n"
     ]
    }
   ],
   "source": [
    "s=\"PYTHON\"\n",
    "print(\"val of s={}\".format(s))\n",
    "print(\"type of s={}\".format(type(s)))\n",
    "print(\"-----------------------------\")\n",
    "nd=np.array(s)\n",
    "print(\"val of nd={}\".format(nd))\n",
    "print(\"type of nd={}\".format(type(nd)))\n",
    "print(\"------------------------------------\")\n",
    "print(\"dimension of nd={}\".format(nd.ndim))\n",
    "print(\"shape of nd={}\".format(nd.shape))\n",
    "print(\"size of nd={}\".format(nd.size))\n",
    "print(\"datatype of nd={}\".format(nd.dtype))\n",
    "print(\"itemsize of nd={}\".format(nd.itemsize))"
   ]
  },
  {
   "cell_type": "code",
   "execution_count": 50,
   "id": "fe541de4-03c7-4229-aac1-0876e227d6ef",
   "metadata": {},
   "outputs": [
    {
     "name": "stdout",
     "output_type": "stream",
     "text": [
      "0 1 2 3 4 5 6 7 8 9 "
     ]
    }
   ],
   "source": [
    "r=range(10)\n",
    "for val in r:\n",
    "    print(val,end=\" \")"
   ]
  },
  {
   "cell_type": "code",
   "execution_count": 74,
   "id": "78d5f28b-f25b-4982-a8db-a9e7c498ce5a",
   "metadata": {},
   "outputs": [
    {
     "name": "stdout",
     "output_type": "stream",
     "text": [
      "val of a= [0 1 2 3 4 5 6 7 8 9]\n",
      "<class 'numpy.ndarray'>\n",
      "dimension of a=1\n",
      "shape of a= (10,)\n",
      "size of a= 10\n",
      "datatype of a= int32\n"
     ]
    }
   ],
   "source": [
    "r=range(10)\n",
    "a=np.array(r)\n",
    "print(\"val of a=\",a)\n",
    "print(type(a))\n",
    "print(\"dimension of a={}\".format(a.ndim))\n",
    "print(\"shape of a=\",a.shape)\n",
    "print(\"size of a=\",a.size)\n",
    "print(\"datatype of a=\",a.dtype)"
   ]
  },
  {
   "cell_type": "code",
   "execution_count": 89,
   "id": "03a4246f-6db9-47d7-94f9-2ab0f243feee",
   "metadata": {},
   "outputs": [
    {
     "name": "stdout",
     "output_type": "stream",
     "text": [
      "val of r= [ 1  2  3  4  5  6  7  8  9 10]\n",
      "<class 'numpy.ndarray'>\n",
      "dimension of a= 1\n",
      "shape of a= (10,)\n",
      "size of a= 10\n",
      "datatype of a= int32\n"
     ]
    }
   ],
   "source": [
    "r=range(1,11)\n",
    "a1=np.array(r)\n",
    "print(\"val of r=\",a1)\n",
    "print(type(a1))\n",
    "print(\"dimension of a=\",a1.ndim)\n",
    "print(\"shape of a=\",a1.shape)\n",
    "print(\"size of a=\",a1.size)\n",
    "print(\"datatype of a=\",a1.dtype)"
   ]
  },
  {
   "cell_type": "code",
   "execution_count": 91,
   "id": "f7ff08fd-cd75-423e-9bba-970b140ca64d",
   "metadata": {},
   "outputs": [
    {
     "name": "stdout",
     "output_type": "stream",
     "text": [
      "val of r= [ 0  2  4  6  8 10]\n",
      "<class 'numpy.ndarray'>\n",
      "dimension of a= 1\n",
      "shape of a= (6,)\n",
      "size of a= 6\n",
      "datatype of a= int32\n"
     ]
    }
   ],
   "source": [
    "r=range(0,11,2)\n",
    "a2=np.array(r)\n",
    "print(\"val of a2=\",a2)\n",
    "print(type(a2))\n",
    "print(\"dimension of a2=\",a2.ndim)\n",
    "print(\"shape of a2=\",a2.shape)\n",
    "print(\"size of a2=\",a2.size)\n",
    "print(\"datatype of a2=\",a2.dtype)"
   ]
  },
  {
   "cell_type": "code",
   "execution_count": 103,
   "id": "18694126-3c55-4284-a257-5a9cc1310d2e",
   "metadata": {},
   "outputs": [
    {
     "name": "stdout",
     "output_type": "stream",
     "text": [
      "val of a3= [100. 102. 104. 106. 108. 110. 112. 114. 116. 118. 120.]\n",
      "<class 'numpy.ndarray'>\n",
      "dimension of a3= 1\n",
      "shape of a3= (11,)\n",
      "size of a3= 11\n",
      "datatype of a3= float64\n"
     ]
    }
   ],
   "source": [
    "r=range(100,121,2)\n",
    "a3=np.array(r,dtype=float)\n",
    "print(\"val of a3=\",a3)\n",
    "print(type(a3))\n",
    "print(\"dimension of a3=\",a3.ndim)\n",
    "print(\"shape of a3=\",a3.shape)\n",
    "print(\"size of a3=\",a3.size)\n",
    "print(\"datatype of a3=\",a3.dtype)"
   ]
  },
  {
   "cell_type": "code",
   "execution_count": 107,
   "id": "2a09a193-0cb5-4ce8-b41a-e05e97a95872",
   "metadata": {},
   "outputs": [
    {
     "name": "stdout",
     "output_type": "stream",
     "text": [
      "val of a4= [False  True  True  True  True]\n",
      "<class 'numpy.ndarray'>\n",
      "dimension of a4= 1\n",
      "shape of a4= (5,)\n",
      "size of a4= 5\n",
      "datatype of a4= bool\n"
     ]
    }
   ],
   "source": [
    "r=range(0,21,5)\n",
    "a4=np.array(r,dtype=bool)\n",
    "print(\"val of a4=\",a4)\n",
    "print(type(a4))\n",
    "print(\"dimension of a4=\",a4.ndim)\n",
    "print(\"shape of a4=\",a4.shape)\n",
    "print(\"size of a4=\",a4.size)\n",
    "print(\"datatype of a4=\",a4.dtype)"
   ]
  },
  {
   "cell_type": "code",
   "execution_count": 128,
   "id": "ff02cfb8-8851-4e97-876e-b7b68d845867",
   "metadata": {},
   "outputs": [
    {
     "name": "stdout",
     "output_type": "stream",
     "text": [
      "content of a5= [ 0  1  2  3  4  5  6  7  8  9 10 11]\n",
      "dimension of a5= 1\n",
      "-------------------------------\n",
      "content os a5=[[ 0  1  2  3]\n",
      " [ 4  5  6  7]\n",
      " [ 8  9 10 11]]\n",
      "dimension of a5= 2\n",
      "shape of a5= (3, 4)\n",
      "size of a5= 12\n",
      "datatype of a5= int32\n"
     ]
    }
   ],
   "source": [
    "r=range(0,12)\n",
    "a5=np.array(r)\n",
    "print(\"content of a5=\",a5)\n",
    "print(\"dimension of a5=\",a5.ndim)\n",
    "print(\"-------------------------------\")\n",
    "# convert ndarray object into 2-D array----by using reshap()\n",
    "a5=a5.reshape(3,4)\n",
    "print(\"content os a5={}\".format(a5))\n",
    "print(\"dimension of a5=\",a5.ndim)\n",
    "print(\"shape of a5=\",a5.shape)\n",
    "print(\"size of a5=\",a5.size)\n",
    "print(\"datatype of a5=\",a5.dtype)"
   ]
  },
  {
   "cell_type": "code",
   "execution_count": 148,
   "id": "97da8a48-1e2b-4206-b592-5f1a0b62c704",
   "metadata": {},
   "outputs": [
    {
     "name": "stdout",
     "output_type": "stream",
     "text": [
      "content of a6\n",
      "[ 0  1  2  3  4  5  6  7  8  9 10 11]\n",
      "dimension of a5= 1\n",
      "-------------------------------\n",
      "content of a6\n",
      "[[[ 0  1]\n",
      "  [ 2  3]\n",
      "  [ 4  5]]\n",
      "\n",
      " [[ 6  7]\n",
      "  [ 8  9]\n",
      "  [10 11]]]\n",
      "dimension of a6= 3\n",
      "shape of a6= (2, 3, 2)\n",
      "size of a6= 12\n",
      "datatype of a6= int32\n"
     ]
    }
   ],
   "source": [
    "r=range(0,12)\n",
    "a6=np.array(r)\n",
    "print(\"content of a6\")\n",
    "print(a6)\n",
    "print(\"dimension of a5=\",a6.ndim)\n",
    "print(\"-------------------------------\")\n",
    "# convert ndarray object into 3-D array----by using reshap()\n",
    "a6=a6.reshape(2,3,2)\n",
    "print(\"content of a6\")\n",
    "print(a6)\n",
    "print(\"dimension of a6=\",a6.ndim)\n",
    "print(\"shape of a6=\",a6.shape)\n",
    "print(\"size of a6=\",a6.size)\n",
    "print(\"datatype of a6=\",a6.dtype)"
   ]
  },
  {
   "cell_type": "code",
   "execution_count": 152,
   "id": "0382faee-367b-4be3-b0c6-3563704688f2",
   "metadata": {},
   "outputs": [
    {
     "name": "stdout",
     "output_type": "stream",
     "text": [
      "--------------------------------------\n",
      "content of b= [ 0  1  2  3  4  5  6  7  8  9 10 11]\n",
      "dimension of b= 1\n",
      "----------------------------------------\n",
      "content of b\n",
      "[[ 0  1]\n",
      " [ 2  3]\n",
      " [ 4  5]\n",
      " [ 6  7]\n",
      " [ 8  9]\n",
      " [10 11]]\n",
      "dimension of b= 2\n",
      "shape of b= (6, 2)\n",
      "size of b= 12\n",
      "datatype of b= int32\n"
     ]
    }
   ],
   "source": [
    "r=range(0,12)\n",
    "b=np.array(r)\n",
    "print(\"--------------------------------------\")\n",
    "print(\"content of b=\",b)\n",
    "print(\"dimension of b=\",b.ndim)\n",
    "print(\"---------------------------------\")\n",
    "# convert ndarray object into 2-D array----by using shape attribute\n",
    "b.shape=(6,2)\n",
    "print(\"content of b\")\n",
    "print(b)\n",
    "print(\"dimension of b=\",b.ndim)\n",
    "print(\"shape of b=\",b.shape)\n",
    "print(\"size of b=\",b.size)\n",
    "print(\"datatype of b=\",b.dtype)"
   ]
  },
  {
   "cell_type": "code",
   "execution_count": 159,
   "id": "12c11776-a6e3-43ac-93fe-8c4cc19be440",
   "metadata": {},
   "outputs": [
    {
     "name": "stdout",
     "output_type": "stream",
     "text": [
      "--------------------------------------\n",
      "content of b= [ 0  1  2  3  4  5  6  7  8  9 10 11]\n",
      "dimension of b= 1\n",
      "----------------------------------------\n",
      "content of b\n",
      "[[[ 0  1  2]\n",
      "  [ 3  4  5]]\n",
      "\n",
      " [[ 6  7  8]\n",
      "  [ 9 10 11]]]\n",
      "dimension of b= 3\n",
      "shape of b= (2, 2, 3)\n",
      "size of b= 12\n",
      "datatype of b= int32\n"
     ]
    }
   ],
   "source": [
    "r=range(0,12)\n",
    "b=np.array(r)\n",
    "print(\"--------------------------------------\")\n",
    "print(\"content of b=\",b)\n",
    "print(\"dimension of b=\",b.ndim)\n",
    "print(\"----------------------------------------\")\n",
    "# convert ndarray object into 3-D array----by using shape attribute\n",
    "b.shape=(2,2,3)\n",
    "print(\"content of b\")\n",
    "print(b)\n",
    "print(\"dimension of b=\",b.ndim)\n",
    "print(\"shape of b=\",b.shape)\n",
    "print(\"size of b=\",b.size)\n",
    "print(\"datatype of b=\",b.dtype)"
   ]
  },
  {
   "cell_type": "code",
   "execution_count": null,
   "id": "555e0fe5-ed1a-47fe-a905-e31b074e51e2",
   "metadata": {},
   "outputs": [],
   "source": []
  }
 ],
 "metadata": {
  "kernelspec": {
   "display_name": "Python 3 (ipykernel)",
   "language": "python",
   "name": "python3"
  },
  "language_info": {
   "codemirror_mode": {
    "name": "ipython",
    "version": 3
   },
   "file_extension": ".py",
   "mimetype": "text/x-python",
   "name": "python",
   "nbconvert_exporter": "python",
   "pygments_lexer": "ipython3",
   "version": "3.12.4"
  }
 },
 "nbformat": 4,
 "nbformat_minor": 5
}
