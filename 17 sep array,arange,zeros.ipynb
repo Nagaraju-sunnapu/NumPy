{
 "cells": [
  {
   "cell_type": "markdown",
   "id": "9039c5a7-f5d4-4990-a91a-39512d580ecc",
   "metadata": {},
   "source": [
    "## array()"
   ]
  },
  {
   "cell_type": "code",
   "execution_count": 2,
   "id": "dc54112c-ef36-4da1-896d-5dc0cd6b3653",
   "metadata": {},
   "outputs": [],
   "source": [
    "# creating an object of ndarray by using array()"
   ]
  },
  {
   "cell_type": "code",
   "execution_count": 3,
   "id": "04bb57f9-4e4f-43e8-a744-6c4f71e38dee",
   "metadata": {},
   "outputs": [],
   "source": [
    "# syntax=>varname=numpy.array(object,dtype)"
   ]
  },
  {
   "cell_type": "code",
   "execution_count": 4,
   "id": "620fbb76-7663-402b-8271-8dce584eb9a0",
   "metadata": {},
   "outputs": [
    {
     "name": "stdout",
     "output_type": "stream",
     "text": [
      "content of lst= [10, 20, 30, 40, 50, 60, 70, 80, 90, 15, 25, 35]\n",
      "type of lst= <class 'list'>\n"
     ]
    }
   ],
   "source": [
    "lst=[10,20,30,40,50,60,70,80,90,15,25,35]\n",
    "print(\"content of lst=\",lst)\n",
    "print(\"type of lst=\",type(lst))"
   ]
  },
  {
   "cell_type": "code",
   "execution_count": 5,
   "id": "2b7ecc9d-6dcd-4877-a399-4f2490a9c674",
   "metadata": {},
   "outputs": [
    {
     "name": "stdout",
     "output_type": "stream",
     "text": [
      "content of a= [10 20 30 40 50 60 70 80 90 15 25 35]\n",
      "type of a= <class 'numpy.ndarray'>\n"
     ]
    }
   ],
   "source": [
    "import numpy as np\n",
    "a=np.array(lst)\n",
    "print(\"content of a=\",a)\n",
    "print(\"type of a=\",type(a))"
   ]
  },
  {
   "cell_type": "code",
   "execution_count": 6,
   "id": "a0c4ff4f-e89d-4456-af6f-b71182eb5cb7",
   "metadata": {},
   "outputs": [
    {
     "name": "stdout",
     "output_type": "stream",
     "text": [
      "content of lst= [10, 20, 30, 40, 50, 60, 70, 80, 90, 15, 25, 35]\n",
      "type of lst= <class 'list'>\n",
      "---------------------------------\n",
      "content of a= [10. 20. 30. 40. 50. 60. 70. 80. 90. 15. 25. 35.]\n",
      "type of a= <class 'numpy.ndarray'>\n",
      "datatype of a= float64\n",
      "dimension of a = 1\n",
      "shape of a= (12,)\n",
      "size of a= 12\n"
     ]
    }
   ],
   "source": [
    "lst=[10,20,30,40,50,60,70,80,90,15,25,35]\n",
    "print(\"content of lst=\",lst)\n",
    "print(\"type of lst=\",type(lst))\n",
    "print(\"---------------------------------\")\n",
    "a=np.array(lst,dtype=float)\n",
    "print(\"content of a=\",a)\n",
    "print(\"type of a=\",type(a))\n",
    "print(\"datatype of a=\",a.dtype)\n",
    "print(\"dimension of a =\",a.ndim)\n",
    "print(\"shape of a=\",a.shape)\n",
    "print(\"size of a=\",a.size)"
   ]
  },
  {
   "cell_type": "code",
   "execution_count": 7,
   "id": "13de1969-14eb-42c6-89b7-48f4424ec9fa",
   "metadata": {},
   "outputs": [
    {
     "name": "stdout",
     "output_type": "stream",
     "text": [
      "content of a\n",
      "\n",
      "[[10. 20. 30. 40.]\n",
      " [50. 60. 70. 80.]\n",
      " [90. 15. 25. 35.]]\n",
      "dimension of a= 2\n",
      "shape of a= (3, 4)\n"
     ]
    }
   ],
   "source": [
    "# reshape of ndarray to 3x4 by using the reshape function\n",
    "a=a.reshape(3,4)\n",
    "print(\"content of a\\n\")\n",
    "print(a)\n",
    "print(\"dimension of a=\",a.ndim)\n",
    "print(\"shape of a=\",a.shape)"
   ]
  },
  {
   "cell_type": "code",
   "execution_count": 8,
   "id": "06596870-6175-4a7b-82b4-1cf66dc67e40",
   "metadata": {},
   "outputs": [
    {
     "name": "stdout",
     "output_type": "stream",
     "text": [
      "content of a \n",
      " [[10. 20. 30.]\n",
      " [40. 50. 60.]\n",
      " [70. 80. 90.]\n",
      " [15. 25. 35.]]\n",
      "dimension of a= 2\n",
      "shape of a= (4, 3)\n"
     ]
    }
   ],
   "source": [
    "# reshape of ndarray to 4X3 by using the shape attribute\n",
    "a.shape=(4,3)\n",
    "print(\"content of a \\n\",a)\n",
    "print(\"dimension of a=\",a.ndim)\n",
    "print(\"shape of a=\",a.shape)"
   ]
  },
  {
   "cell_type": "code",
   "execution_count": 9,
   "id": "20489af0-d368-4583-bd84-00ed8a6c9e21",
   "metadata": {},
   "outputs": [
    {
     "name": "stdout",
     "output_type": "stream",
     "text": [
      "content of a \n",
      " [[[10. 20.]\n",
      "  [30. 40.]\n",
      "  [50. 60.]]\n",
      "\n",
      " [[70. 80.]\n",
      "  [90. 15.]\n",
      "  [25. 35.]]]\n",
      "dimension of a= 3\n",
      "shape of a= (2, 3, 2)\n"
     ]
    }
   ],
   "source": [
    "# reshape of ndarray by using the shape attribute\n",
    "a.shape=(2,3,2)\n",
    "print(\"content of a \\n\",a)\n",
    "print(\"dimension of a=\",a.ndim)\n",
    "print(\"shape of a=\",a.shape)"
   ]
  },
  {
   "cell_type": "code",
   "execution_count": 10,
   "id": "501a4d9c-9ccb-45e7-a841-8116b6e37969",
   "metadata": {},
   "outputs": [
    {
     "name": "stdout",
     "output_type": "stream",
     "text": [
      "content of a\n",
      "[10. 20. 30. 40. 50. 60. 70. 80. 90. 15. 25. 35.]\n"
     ]
    }
   ],
   "source": [
    "# flaten the ndarray get it into 1-D \n",
    "a.shape=(12,)\n",
    "print(\"content of a\")\n",
    "print(a)"
   ]
  },
  {
   "cell_type": "code",
   "execution_count": 11,
   "id": "fde1043d-8ac3-4ad4-80ef-b30a8d9ff779",
   "metadata": {},
   "outputs": [
    {
     "name": "stdout",
     "output_type": "stream",
     "text": [
      "content of lst= [[10, 20, 30], [40, 50, 60], [70, 80, 90]]\n",
      "type of lst= <class 'list'>\n",
      "content of a \n",
      "\n",
      "[[10 20 30]\n",
      " [40 50 60]\n",
      " [70 80 90]]\n",
      "dimension of a= 2\n",
      "shape of a= (3, 3)\n"
     ]
    }
   ],
   "source": [
    "# converting ineer list object into ndarray\n",
    "lst=[[10,20,30],[40,50,60],[70,80,90]]\n",
    "print(\"content of lst=\",lst)\n",
    "print(\"type of lst=\",type(lst))\n",
    "a=np.array(lst)\n",
    "print(\"content of a \\n\")\n",
    "print(a)\n",
    "print(\"dimension of a=\",a.ndim)\n",
    "print(\"shape of a=\",a.shape)"
   ]
  },
  {
   "cell_type": "code",
   "execution_count": 12,
   "id": "70c8b868-dbdd-431c-aeb6-effd504c35bb",
   "metadata": {},
   "outputs": [
    {
     "name": "stdout",
     "output_type": "stream",
     "text": [
      "content of a ([10, 20, 30], [40, 50, 60], [70, 80, 90])\n",
      "type of tpl= <class 'tuple'>\n",
      "---------------------------\n",
      "content of a \n",
      " [[10 20 30]\n",
      " [40 50 60]\n",
      " [70 80 90]]\n",
      "dimension of a= 2\n",
      "shape of a= (3, 3)\n"
     ]
    }
   ],
   "source": [
    "# converting the inner tuple object into ndarray\n",
    "tpl=([10,20,30],[40,50,60],[70,80,90])\n",
    "print(\"content of a\",tpl)\n",
    "print(\"type of tpl=\",type(tpl))\n",
    "print(\"---------------------------\")\n",
    "a=np.array(tpl)\n",
    "print(\"content of a \\n\",a)\n",
    "print(\"dimension of a=\",a.ndim)\n",
    "print(\"shape of a=\",a.shape)"
   ]
  },
  {
   "cell_type": "code",
   "execution_count": 13,
   "id": "729aba91-7d08-43d0-8317-3406698be18d",
   "metadata": {},
   "outputs": [
    {
     "name": "stdout",
     "output_type": "stream",
     "text": [
      "content of tpl= ([[10, 20, 30], [40, 50, 60], [70, 80, 90]], [[1, 2, 3], [4, 5, 6], [7, 8, 9]])\n",
      "tpe of tpl= <class 'tuple'>\n",
      "---------------------------\n",
      "content of a\n",
      " [[[10 20 30]\n",
      "  [40 50 60]\n",
      "  [70 80 90]]\n",
      "\n",
      " [[ 1  2  3]\n",
      "  [ 4  5  6]\n",
      "  [ 7  8  9]]]\n",
      "type of a= <class 'numpy.ndarray'>\n",
      "dimension of a= 3\n",
      "shape of a= (2, 3, 3)\n"
     ]
    }
   ],
   "source": [
    "# converting the tuple into ndarray object\n",
    "tpl=([[10,20,30],[40,50,60],[70,80,90]],[[1,2,3],[4,5,6],[7,8,9]])\n",
    "print(\"content of tpl=\",tpl)\n",
    "print(\"tpe of tpl=\",type(tpl))\n",
    "print(\"---------------------------\")\n",
    "a=np.array(tpl)\n",
    "\n",
    "print(\"content of a\\n\",a)\n",
    "print(\"type of a=\",type(a))\n",
    "print(\"dimension of a=\",a.ndim)\n",
    "print(\"shape of a=\",a.shape)"
   ]
  },
  {
   "cell_type": "code",
   "execution_count": 14,
   "id": "364e10ab-7965-45e0-9cd1-bac11c89bf40",
   "metadata": {},
   "outputs": [
    {
     "name": "stdout",
     "output_type": "stream",
     "text": [
      "content of s= {50, 20, 40, 10, 60, 30}\n",
      "type of s= <class 'set'>\n",
      "---------------------\n",
      "content of a= {50, 20, 40, 10, 60, 30}\n",
      "type of a= <class 'numpy.ndarray'>\n",
      "dimension of a= 0\n",
      "shape of a= ()\n",
      "size of a= 1\n",
      "datatype of a= object\n"
     ]
    }
   ],
   "source": [
    "# converting set object into ndarray object \n",
    "s={10,20,30,40,50,60}\n",
    "print(\"content of s=\",s)\n",
    "print(\"type of s=\",type(s))\n",
    "print(\"---------------------\")\n",
    "a=np.array(s)\n",
    "print(\"content of a=\",a)\n",
    "print(\"type of a=\",type(a))\n",
    "print(\"dimension of a=\",a.ndim)\n",
    "print(\"shape of a=\",a.shape)\n",
    "print(\"size of a=\",a.size)\n",
    "print(\"datatype of a=\",a.dtype)"
   ]
  },
  {
   "cell_type": "code",
   "execution_count": 15,
   "id": "bc600a51-89a8-42e3-bed8-e57d0a6ab769",
   "metadata": {},
   "outputs": [
    {
     "name": "stdout",
     "output_type": "stream",
     "text": [
      "content of d= {10: 'mango', 20: 'apple', 30: 'banana'}\n",
      "type of d= <class 'dict'>\n",
      "---------------------\n",
      "content of a= {10: 'mango', 20: 'apple', 30: 'banana'}\n",
      "type of a= <class 'numpy.ndarray'>\n",
      "dimension of a= 0\n",
      "shape of a= ()\n",
      "size of a= 1\n",
      "datatype of a= object\n"
     ]
    }
   ],
   "source": [
    "# converting dict object into ndarray object \n",
    "d={10:\"mango\",20:\"apple\",30:\"banana\"}\n",
    "print(\"content of d=\",d)\n",
    "print(\"type of d=\",type(d))\n",
    "print(\"---------------------\")\n",
    "a=np.array(d)\n",
    "print(\"content of a=\",a)\n",
    "print(\"type of a=\",type(a))\n",
    "print(\"dimension of a=\",a.ndim)\n",
    "print(\"shape of a=\",a.shape)\n",
    "print(\"size of a=\",a.size)\n",
    "print(\"datatype of a=\",a.dtype)"
   ]
  },
  {
   "cell_type": "code",
   "execution_count": 16,
   "id": "7a8d1a41-b087-4ec2-90d5-95d009787630",
   "metadata": {},
   "outputs": [
    {
     "name": "stdout",
     "output_type": "stream",
     "text": [
      "['P', 'Y', 'T', 'H', 'O', 'N']\n",
      "content of a= ['P' 'Y' 'T' 'H' 'O' 'N']\n",
      "type of a= <class 'numpy.ndarray'>\n"
     ]
    }
   ],
   "source": [
    "# misc points\n",
    "s=\"PYTHON\"\n",
    "a=list(s)\n",
    "print(a)\n",
    "a=np.array(a)\n",
    "print(\"content of a=\",a)\n",
    "print(\"type of a=\",type(a))"
   ]
  },
  {
   "cell_type": "code",
   "execution_count": 17,
   "id": "190c3415-8e6c-4356-aa36-4b51afb982b3",
   "metadata": {},
   "outputs": [
    {
     "name": "stdout",
     "output_type": "stream",
     "text": [
      "['P', 'Y', 'T', 'H', 'O', 'N']\n",
      "content of a= ['P' 'Y' 'T' 'H' 'O' 'N']\n",
      "------------------------\n",
      "content of a\n",
      " [['P' 'Y' 'T']\n",
      " ['H' 'O' 'N']]\n"
     ]
    }
   ],
   "source": [
    "s=\"PYTHON\"\n",
    "a=list(s)\n",
    "print(a)\n",
    "a=np.array(a)\n",
    "print(\"content of a=\",a)\n",
    "print(\"------------------------\")\n",
    "a=a.reshape(2,3)\n",
    "print(\"content of a\\n\",a)"
   ]
  },
  {
   "cell_type": "code",
   "execution_count": 18,
   "id": "f3855b55-bf23-4b0a-9da7-91373516f786",
   "metadata": {},
   "outputs": [
    {
     "name": "stdout",
     "output_type": "stream",
     "text": [
      "python is an oop lang\n",
      "    python developed by the guido van rossum\n"
     ]
    },
    {
     "data": {
      "text/plain": [
       "12"
      ]
     },
     "execution_count": 18,
     "metadata": {},
     "output_type": "execute_result"
    }
   ],
   "source": [
    "s=\"\"\"python is an oop lang\n",
    "    python developed by the guido van rossum\"\"\"\n",
    "print(s)\n",
    "words=s.split()\n",
    "len(words)"
   ]
  },
  {
   "cell_type": "code",
   "execution_count": 19,
   "id": "d5262381-58ca-489f-bc29-e27b9c1d5943",
   "metadata": {},
   "outputs": [
    {
     "name": "stdout",
     "output_type": "stream",
     "text": [
      "python is an oop lang\n",
      "    python developed by the guido van rossum\n",
      "content of a\n",
      "[['python' 'is' 'an']\n",
      " ['oop' 'lang' 'python']\n",
      " ['developed' 'by' 'the']\n",
      " ['guido' 'van' 'rossum']]\n"
     ]
    }
   ],
   "source": [
    "s=\"\"\"python is an oop lang\n",
    "    python developed by the guido van rossum\"\"\"\n",
    "print(s)\n",
    "words=s.split()\n",
    "a=np.array(words)\n",
    "a=a.reshape(4,3)\n",
    "print(\"content of a\")\n",
    "print(a)"
   ]
  },
  {
   "cell_type": "code",
   "execution_count": 39,
   "id": "d6622a18-fcaa-4817-bca6-61b4de215115",
   "metadata": {},
   "outputs": [],
   "source": [
    "import numpy as np"
   ]
  },
  {
   "cell_type": "code",
   "execution_count": 41,
   "id": "aab73709-f900-42a8-b2fb-c0f119179378",
   "metadata": {},
   "outputs": [],
   "source": [
    "a=np.arange(20)"
   ]
  },
  {
   "cell_type": "code",
   "execution_count": 43,
   "id": "0a0f5d4a-f417-4408-9bff-f9d222721967",
   "metadata": {},
   "outputs": [
    {
     "name": "stdout",
     "output_type": "stream",
     "text": [
      "[ 0  1  2  3  4  5  6  7  8  9 10 11 12 13 14 15 16 17 18 19] <class 'numpy.ndarray'>\n"
     ]
    }
   ],
   "source": [
    "print(a,type(a))"
   ]
  },
  {
   "cell_type": "code",
   "execution_count": 47,
   "id": "7894ce6c-df63-4a7b-b55c-e31d5ddb4c64",
   "metadata": {},
   "outputs": [],
   "source": [
    "a.shape=(10,2)"
   ]
  },
  {
   "cell_type": "code",
   "execution_count": 49,
   "id": "64ee2b26-95a2-4fb4-ac27-14c3ca979bb0",
   "metadata": {},
   "outputs": [
    {
     "name": "stdout",
     "output_type": "stream",
     "text": [
      "content of a\n",
      "[[ 0  1]\n",
      " [ 2  3]\n",
      " [ 4  5]\n",
      " [ 6  7]\n",
      " [ 8  9]\n",
      " [10 11]\n",
      " [12 13]\n",
      " [14 15]\n",
      " [16 17]\n",
      " [18 19]]\n"
     ]
    }
   ],
   "source": [
    "print(\"content of a\")\n",
    "print(a)"
   ]
  },
  {
   "cell_type": "code",
   "execution_count": 53,
   "id": "1095d533-6818-4827-8c92-41ee8b8699f2",
   "metadata": {},
   "outputs": [
    {
     "name": "stdout",
     "output_type": "stream",
     "text": [
      "content of a\n",
      "[[0 1 2 3 4]\n",
      " [5 6 7 8 9]]\n"
     ]
    }
   ],
   "source": [
    "a=np.arange(10).reshape(2,5)\n",
    "print(\"content of a\")\n",
    "print(a)"
   ]
  },
  {
   "cell_type": "code",
   "execution_count": 59,
   "id": "22efa1bc-b8e0-4a14-abc3-b20fadd24534",
   "metadata": {},
   "outputs": [
    {
     "name": "stdout",
     "output_type": "stream",
     "text": [
      "content of a \n",
      "[ 2  3  4  5  6  7  8  9 10 11 12 13 14 15 16 17 18 19] <class 'numpy.ndarray'>\n",
      "type of a= int32\n",
      "dimension of a= 1\n",
      "shape of a= (18,)\n",
      "size of a= 18\n"
     ]
    }
   ],
   "source": [
    "a=np.arange(2,20)\n",
    "print(\"content of a \")\n",
    "print(a,type(a))\n",
    "print(\"datatype of a=\",a.dtype)\n",
    "print(\"dimension of a=\",a.ndim)\n",
    "print(\"shape of a=\",a.shape)\n",
    "print(\"size of a=\",a.size)"
   ]
  },
  {
   "cell_type": "code",
   "execution_count": 61,
   "id": "1e06553b-4725-413b-9456-82022dcbb5fc",
   "metadata": {},
   "outputs": [
    {
     "name": "stdout",
     "output_type": "stream",
     "text": [
      "content of a \n",
      " [[ 0  1  2  3  4  5  6  7  8  9]\n",
      " [10 11 12 13 14 15 16 17 18 19]\n",
      " [20 21 22 23 24 25 26 27 28 29]\n",
      " [30 31 32 33 34 35 36 37 38 39]\n",
      " [40 41 42 43 44 45 46 47 48 49]\n",
      " [50 51 52 53 54 55 56 57 58 59]\n",
      " [60 61 62 63 64 65 66 67 68 69]\n",
      " [70 71 72 73 74 75 76 77 78 79]\n",
      " [80 81 82 83 84 85 86 87 88 89]\n",
      " [90 91 92 93 94 95 96 97 98 99]]\n",
      "dimension of a= 2\n"
     ]
    }
   ],
   "source": [
    "a=np.arange(0,100).reshape(10,10)\n",
    "print(\"content of a \\n\",a)\n",
    "print(\"dimension of a=\",a.ndim)"
   ]
  },
  {
   "cell_type": "markdown",
   "id": "5fd38865-29d5-418e-933b-0c4054d2cee2",
   "metadata": {},
   "source": [
    "## zeros()"
   ]
  },
  {
   "cell_type": "code",
   "execution_count": 66,
   "id": "0ddfaf66-0b14-4b16-971b-82e529462ff7",
   "metadata": {},
   "outputs": [
    {
     "name": "stdout",
     "output_type": "stream",
     "text": [
      "[0. 0. 0. 0.]\n"
     ]
    }
   ],
   "source": [
    "import numpy as np\n",
    "a=np.zeros(4)\n",
    "print(a)"
   ]
  },
  {
   "cell_type": "code",
   "execution_count": 70,
   "id": "28badea7-7f33-405c-b6b0-7f0c1245e321",
   "metadata": {},
   "outputs": [
    {
     "name": "stdout",
     "output_type": "stream",
     "text": [
      "[0. 0. 0. 0. 0. 0. 0. 0. 0. 0.]\n"
     ]
    }
   ],
   "source": [
    "a=np.zeros(10)\n",
    "print(a)"
   ]
  },
  {
   "cell_type": "code",
   "execution_count": 74,
   "id": "a8c72e97-4ff8-4434-a848-3987b06e0377",
   "metadata": {},
   "outputs": [
    {
     "name": "stdout",
     "output_type": "stream",
     "text": [
      "[[0 0 0 0 0]\n",
      " [0 0 0 0 0]\n",
      " [0 0 0 0 0]\n",
      " [0 0 0 0 0]\n",
      " [0 0 0 0 0]]\n"
     ]
    }
   ],
   "source": [
    "a=np.zeros((5,5),int)\n",
    "print(a)"
   ]
  },
  {
   "cell_type": "code",
   "execution_count": 78,
   "id": "2342daa3-62c7-42a0-a369-f956832f1f8c",
   "metadata": {},
   "outputs": [
    {
     "name": "stdout",
     "output_type": "stream",
     "text": [
      "[[[0 0 0]\n",
      "  [0 0 0]\n",
      "  [0 0 0]]\n",
      "\n",
      " [[0 0 0]\n",
      "  [0 0 0]\n",
      "  [0 0 0]]\n",
      "\n",
      " [[0 0 0]\n",
      "  [0 0 0]\n",
      "  [0 0 0]]]\n",
      "dimension of a= 3\n"
     ]
    }
   ],
   "source": [
    "a=np.zeros((3,3,3),int)\n",
    "print(a)\n",
    "print(\"dimension of a=\",a.ndim)"
   ]
  },
  {
   "cell_type": "code",
   "execution_count": null,
   "id": "00f2af12-690b-4c1c-a196-fddfa1a60284",
   "metadata": {},
   "outputs": [],
   "source": []
  }
 ],
 "metadata": {
  "kernelspec": {
   "display_name": "Python 3 (ipykernel)",
   "language": "python",
   "name": "python3"
  },
  "language_info": {
   "codemirror_mode": {
    "name": "ipython",
    "version": 3
   },
   "file_extension": ".py",
   "mimetype": "text/x-python",
   "name": "python",
   "nbconvert_exporter": "python",
   "pygments_lexer": "ipython3",
   "version": "3.12.4"
  }
 },
 "nbformat": 4,
 "nbformat_minor": 5
}
