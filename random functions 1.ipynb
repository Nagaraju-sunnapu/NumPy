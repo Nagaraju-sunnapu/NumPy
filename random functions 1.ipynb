{
 "cells": [
  {
   "cell_type": "markdown",
   "id": "f37820f5-5b70-4fc6-9522-26cf52282686",
   "metadata": {},
   "source": [
    "## 1.randint()"
   ]
  },
  {
   "cell_type": "code",
   "execution_count": 3,
   "id": "0f56c7f0-0b7d-4d4e-b34f-a4b5893d5253",
   "metadata": {},
   "outputs": [],
   "source": [
    "# create an object of ndarray by using the randint()"
   ]
  },
  {
   "cell_type": "code",
   "execution_count": 5,
   "id": "1075cb38-9e05-410b-854d-90e08fc16374",
   "metadata": {},
   "outputs": [],
   "source": [
    "# syntax: varname=numpy.random.randint(value)"
   ]
  },
  {
   "cell_type": "code",
   "execution_count": 7,
   "id": "7992ad67-73a2-486b-9e06-cd40b66b2253",
   "metadata": {},
   "outputs": [],
   "source": [
    "import numpy as np"
   ]
  },
  {
   "cell_type": "code",
   "execution_count": 9,
   "id": "72a7416f-e6e1-4d8b-b295-4994bcb59e9a",
   "metadata": {},
   "outputs": [
    {
     "name": "stdout",
     "output_type": "stream",
     "text": [
      "3 <class 'int'>\n"
     ]
    }
   ],
   "source": [
    "x=np.random.randint(10)\n",
    "print(x,type(x))"
   ]
  },
  {
   "cell_type": "code",
   "execution_count": 13,
   "id": "87dd8838-33e8-4eca-bb72-bc87b68131f6",
   "metadata": {},
   "outputs": [
    {
     "name": "stdout",
     "output_type": "stream",
     "text": [
      "2 <class 'int'>\n"
     ]
    }
   ],
   "source": [
    "x=np.random.randint(10)\n",
    "print(x,type(x))"
   ]
  },
  {
   "cell_type": "code",
   "execution_count": 15,
   "id": "91e0bd3a-a0f1-414d-b46c-6314d42f7b94",
   "metadata": {},
   "outputs": [
    {
     "name": "stdout",
     "output_type": "stream",
     "text": [
      "0 <class 'int'>\n"
     ]
    }
   ],
   "source": [
    "x=np.random.randint(10)\n",
    "print(x,type(x))"
   ]
  },
  {
   "cell_type": "code",
   "execution_count": 17,
   "id": "b7ceb183-e0a5-49b0-9647-31a6446b43a7",
   "metadata": {},
   "outputs": [
    {
     "name": "stdout",
     "output_type": "stream",
     "text": [
      "4 <class 'int'>\n"
     ]
    }
   ],
   "source": [
    "x=np.random.randint(10)\n",
    "print(x,type(x))"
   ]
  },
  {
   "cell_type": "code",
   "execution_count": 21,
   "id": "2a565710-9cf1-4d7b-8d8c-4d34689eed98",
   "metadata": {},
   "outputs": [
    {
     "name": "stdout",
     "output_type": "stream",
     "text": [
      "7 <class 'int'>\n"
     ]
    }
   ],
   "source": [
    "x=np.random.randint(10)\n",
    "print(x,type(x))"
   ]
  },
  {
   "cell_type": "code",
   "execution_count": 23,
   "id": "322f9e5b-6cf5-40c9-b966-6a1b88efd607",
   "metadata": {},
   "outputs": [
    {
     "name": "stdout",
     "output_type": "stream",
     "text": [
      "7 <class 'int'>\n"
     ]
    }
   ],
   "source": [
    "x=np.random.randint(10)\n",
    "print(x,type(x))"
   ]
  },
  {
   "cell_type": "code",
   "execution_count": 25,
   "id": "578832c8-86ac-4af7-817c-f1112a7964be",
   "metadata": {},
   "outputs": [
    {
     "name": "stdout",
     "output_type": "stream",
     "text": [
      "3 <class 'int'>\n"
     ]
    }
   ],
   "source": [
    "x=np.random.randint(10)\n",
    "print(x,type(x))"
   ]
  },
  {
   "cell_type": "code",
   "execution_count": 27,
   "id": "0f8c0ea8-30c1-43cf-9edb-e1d57e094308",
   "metadata": {},
   "outputs": [],
   "source": [
    "# synatax2: varname=numpy.random.randint(low,high)"
   ]
  },
  {
   "cell_type": "code",
   "execution_count": 29,
   "id": "d5d7bcda-e09b-439c-8bc8-982886b39ad2",
   "metadata": {},
   "outputs": [
    {
     "name": "stdout",
     "output_type": "stream",
     "text": [
      "124 <class 'int'>\n"
     ]
    }
   ],
   "source": [
    "x=np.random.randint(100,200)\n",
    "print(x,type(x))"
   ]
  },
  {
   "cell_type": "code",
   "execution_count": 31,
   "id": "67fa3dee-d49f-4f74-8122-0492fc3f6e57",
   "metadata": {},
   "outputs": [
    {
     "name": "stdout",
     "output_type": "stream",
     "text": [
      "137 <class 'int'>\n"
     ]
    }
   ],
   "source": [
    "x=np.random.randint(100,200)\n",
    "print(x,type(x))"
   ]
  },
  {
   "cell_type": "code",
   "execution_count": 35,
   "id": "cdb2199b-2c67-45e4-aee2-e412ab0c9074",
   "metadata": {},
   "outputs": [
    {
     "name": "stdout",
     "output_type": "stream",
     "text": [
      "155 <class 'int'>\n"
     ]
    }
   ],
   "source": [
    "x=np.random.randint(100,200)\n",
    "print(x,type(x))"
   ]
  },
  {
   "cell_type": "code",
   "execution_count": 39,
   "id": "a3734128-0241-43ce-add2-6eef69d49fcd",
   "metadata": {},
   "outputs": [
    {
     "name": "stdout",
     "output_type": "stream",
     "text": [
      "167 <class 'int'>\n"
     ]
    }
   ],
   "source": [
    "x=np.random.randint(100,200)\n",
    "print(x,type(x))"
   ]
  },
  {
   "cell_type": "code",
   "execution_count": 41,
   "id": "a5a79c6f-bc62-4ad5-9b20-c0630805b6a6",
   "metadata": {},
   "outputs": [
    {
     "name": "stdout",
     "output_type": "stream",
     "text": [
      "4956 <class 'int'>\n"
     ]
    }
   ],
   "source": [
    "x=np.random.randint(1000,10000)\n",
    "print(x,type(x))"
   ]
  },
  {
   "cell_type": "code",
   "execution_count": 43,
   "id": "30bc46a9-8756-4fef-8b63-46694993316d",
   "metadata": {},
   "outputs": [
    {
     "name": "stdout",
     "output_type": "stream",
     "text": [
      "23841 <class 'int'>\n"
     ]
    }
   ],
   "source": [
    "x=np.random.randint(10000,100000)\n",
    "print(x,type(x))"
   ]
  },
  {
   "cell_type": "code",
   "execution_count": 45,
   "id": "e5b6f56c-e082-4563-b0aa-60ce11622604",
   "metadata": {},
   "outputs": [
    {
     "name": "stdout",
     "output_type": "stream",
     "text": [
      "9341 <class 'int'>\n",
      "3533 <class 'int'>\n",
      "4884 <class 'int'>\n",
      "7436 <class 'int'>\n",
      "5087 <class 'int'>\n",
      "6269 <class 'int'>\n",
      "7487 <class 'int'>\n",
      "6717 <class 'int'>\n",
      "4181 <class 'int'>\n",
      "4209 <class 'int'>\n",
      "6245 <class 'int'>\n"
     ]
    }
   ],
   "source": [
    "for i in range(11):\n",
    "    x=np.random.randint(1000,10000)\n",
    "    print(x,type(x))"
   ]
  },
  {
   "cell_type": "code",
   "execution_count": 47,
   "id": "622545a2-d4a0-475c-bf0a-41d6f00563b5",
   "metadata": {},
   "outputs": [
    {
     "name": "stdout",
     "output_type": "stream",
     "text": [
      "7 <class 'int'>\n",
      "66 <class 'int'>\n",
      "88 <class 'int'>\n",
      "88 <class 'int'>\n",
      "30 <class 'int'>\n",
      "71 <class 'int'>\n",
      "82 <class 'int'>\n",
      "97 <class 'int'>\n",
      "79 <class 'int'>\n",
      "13 <class 'int'>\n"
     ]
    }
   ],
   "source": [
    "for i in range(10):\n",
    "    x=np.random.randint(100)\n",
    "    print(x,type(x))"
   ]
  },
  {
   "cell_type": "code",
   "execution_count": 58,
   "id": "478db106-d546-44ce-81e8-aca8f255509d",
   "metadata": {},
   "outputs": [
    {
     "name": "stdout",
     "output_type": "stream",
     "text": [
      "G- 35309 <class 'int'>\n",
      "G- 44318 <class 'int'>\n",
      "G- 89901 <class 'int'>\n",
      "G- 85934 <class 'int'>\n",
      "G- 98280 <class 'int'>\n",
      "G- 33905 <class 'int'>\n",
      "G- 25212 <class 'int'>\n",
      "G- 73946 <class 'int'>\n",
      "G- 37514 <class 'int'>\n",
      "G- 98175 <class 'int'>\n"
     ]
    }
   ],
   "source": [
    "for i in range(10):\n",
    "    x=np.random.randint(10000,100000)\n",
    "    print(\"G-\",x,type(x))"
   ]
  },
  {
   "cell_type": "code",
   "execution_count": 53,
   "id": "32fa0de2-b0af-4057-b9cc-4ab32fac7525",
   "metadata": {},
   "outputs": [],
   "source": [
    "# syntax-3: varname=numpy.random.randint(low,high,size)"
   ]
  },
  {
   "cell_type": "code",
   "execution_count": 60,
   "id": "a092acb8-d81c-4777-8c7e-07cda51e343b",
   "metadata": {},
   "outputs": [
    {
     "name": "stdout",
     "output_type": "stream",
     "text": [
      "[19 18 13 13] <class 'numpy.ndarray'>\n"
     ]
    }
   ],
   "source": [
    "x=np.random.randint(10,21,size=4)\n",
    "print(x,type(x))"
   ]
  },
  {
   "cell_type": "code",
   "execution_count": 62,
   "id": "c2e10803-1997-4d4c-b905-ff29a624fc28",
   "metadata": {},
   "outputs": [
    {
     "name": "stdout",
     "output_type": "stream",
     "text": [
      "[17 17 11] <class 'numpy.ndarray'>\n"
     ]
    }
   ],
   "source": [
    "x=np.random.randint(10,21,size=3)\n",
    "print(x,type(x))"
   ]
  },
  {
   "cell_type": "code",
   "execution_count": 68,
   "id": "0ef8a092-aa13-4fb8-8a74-32c1fd447a81",
   "metadata": {},
   "outputs": [
    {
     "name": "stdout",
     "output_type": "stream",
     "text": [
      "0 ) [16 16 19 15] <class 'numpy.ndarray'>\n",
      "1 ) [16 11 11 18] <class 'numpy.ndarray'>\n",
      "2 ) [13 13 12 15] <class 'numpy.ndarray'>\n",
      "3 ) [17 13 17 13] <class 'numpy.ndarray'>\n",
      "4 ) [12 14 15 18] <class 'numpy.ndarray'>\n",
      "5 ) [12 10 14 15] <class 'numpy.ndarray'>\n",
      "6 ) [10 19 19 19] <class 'numpy.ndarray'>\n",
      "7 ) [10 14 18 11] <class 'numpy.ndarray'>\n",
      "8 ) [15 18 12 17] <class 'numpy.ndarray'>\n",
      "9 ) [16 18 18 15] <class 'numpy.ndarray'>\n"
     ]
    }
   ],
   "source": [
    "for i in range(10):\n",
    "    x=np.random.randint(10,20,size=4)\n",
    "    print(i,\")\",x,type(x))"
   ]
  },
  {
   "cell_type": "code",
   "execution_count": 70,
   "id": "facee49b-f6b4-4a6a-b9f0-5b54e4591620",
   "metadata": {},
   "outputs": [
    {
     "name": "stdout",
     "output_type": "stream",
     "text": [
      "[[75 73 26 84]\n",
      " [76 71 54 66]\n",
      " [29 22 59 61]] <class 'numpy.ndarray'>\n"
     ]
    }
   ],
   "source": [
    "x=np.random.randint(10,100,size=(3,4))\n",
    "print(x,type(x))"
   ]
  },
  {
   "cell_type": "code",
   "execution_count": 74,
   "id": "1a684832-c4de-4eee-9515-24116c691bff",
   "metadata": {},
   "outputs": [
    {
     "name": "stdout",
     "output_type": "stream",
     "text": [
      "[[790 743 921]\n",
      " [251 223 189]\n",
      " [851 759 636]] <class 'numpy.ndarray'>\n",
      "-------------------------\n",
      "[[815 368 721]\n",
      " [899 668 442]\n",
      " [848 238 970]] <class 'numpy.ndarray'>\n",
      "-------------------------\n",
      "[[508 156 391]\n",
      " [567 478 205]\n",
      " [321 380 488]] <class 'numpy.ndarray'>\n",
      "-------------------------\n",
      "[[175 646 147]\n",
      " [564 980 750]\n",
      " [899 462 657]] <class 'numpy.ndarray'>\n",
      "-------------------------\n",
      "[[327 933 901]\n",
      " [569 755 856]\n",
      " [189 447 747]] <class 'numpy.ndarray'>\n",
      "-------------------------\n",
      "[[188 609 753]\n",
      " [769 675 470]\n",
      " [914 787 359]] <class 'numpy.ndarray'>\n",
      "-------------------------\n",
      "[[994 526 184]\n",
      " [229 486 983]\n",
      " [931 998 853]] <class 'numpy.ndarray'>\n",
      "-------------------------\n",
      "[[747 137 622]\n",
      " [575 728 167]\n",
      " [873 548 878]] <class 'numpy.ndarray'>\n",
      "-------------------------\n",
      "[[871 559 996]\n",
      " [301 892 439]\n",
      " [637 956 978]] <class 'numpy.ndarray'>\n",
      "-------------------------\n"
     ]
    }
   ],
   "source": [
    "for i in range(1,10):\n",
    "    x=np.random.randint(100,1000,size=(3,3))\n",
    "    print(x,type(x))\n",
    "    print(\"-------------------------\")"
   ]
  },
  {
   "cell_type": "code",
   "execution_count": 78,
   "id": "98e7a46b-9885-4e4a-9f2b-354b57c4aba3",
   "metadata": {},
   "outputs": [
    {
     "name": "stdout",
     "output_type": "stream",
     "text": [
      "[[[49 63 58]\n",
      "  [85 76 87]\n",
      "  [34 62 56]]\n",
      "\n",
      " [[51 48 86]\n",
      "  [97 56 28]\n",
      "  [82 45 40]]\n",
      "\n",
      " [[98 73 97]\n",
      "  [22 93 60]\n",
      "  [78 30 80]]] <class 'numpy.ndarray'>\n"
     ]
    }
   ],
   "source": [
    "x=np.random.randint(10,100,size=(3,3,3))\n",
    "print(x,type(x))"
   ]
  },
  {
   "cell_type": "code",
   "execution_count": 86,
   "id": "ce52d5b8-e546-42f4-a2f7-7383bea71c20",
   "metadata": {},
   "outputs": [
    {
     "name": "stdout",
     "output_type": "stream",
     "text": [
      "1 [[[9741 8186]\n",
      "  [7900 2035]\n",
      "  [6643 2999]]\n",
      "\n",
      " [[1434 3358]\n",
      "  [3756 7623]\n",
      "  [2659 6275]]] <class 'numpy.ndarray'>\n",
      "==================================================\n",
      "2 [[[8248 5413]\n",
      "  [5897 9665]\n",
      "  [8035 3553]]\n",
      "\n",
      " [[4213 1878]\n",
      "  [7361 7777]\n",
      "  [1390 5462]]] <class 'numpy.ndarray'>\n",
      "==================================================\n",
      "3 [[[4732 6710]\n",
      "  [8811 4708]\n",
      "  [2189 3486]]\n",
      "\n",
      " [[1370 5906]\n",
      "  [5644 4433]\n",
      "  [6522 3911]]] <class 'numpy.ndarray'>\n",
      "==================================================\n",
      "4 [[[1850 3718]\n",
      "  [4718 4070]\n",
      "  [3390 4935]]\n",
      "\n",
      " [[8383 8351]\n",
      "  [3802 9190]\n",
      "  [6508 1955]]] <class 'numpy.ndarray'>\n",
      "==================================================\n",
      "5 [[[4573 7217]\n",
      "  [4328 8593]\n",
      "  [8139 2914]]\n",
      "\n",
      " [[5267 6729]\n",
      "  [5550 9091]\n",
      "  [8118 2550]]] <class 'numpy.ndarray'>\n",
      "==================================================\n"
     ]
    }
   ],
   "source": [
    "for i in range(1,6):\n",
    "    x=np.random.randint(1000,10000,size=(2,3,2))\n",
    "    print(i,x,type(x))\n",
    "    print(\"=\"*50)"
   ]
  },
  {
   "cell_type": "code",
   "execution_count": null,
   "id": "0a642298-58d4-4713-874a-a0103b1adb53",
   "metadata": {},
   "outputs": [],
   "source": []
  },
  {
   "cell_type": "markdown",
   "id": "98c66e81-2e30-4af9-9c69-149bf6893eb2",
   "metadata": {},
   "source": [
    "## rand()"
   ]
  },
  {
   "cell_type": "code",
   "execution_count": 91,
   "id": "7a561fef-4ee9-4bf1-be84-1751a9da7562",
   "metadata": {},
   "outputs": [],
   "source": [
    "# create an object of ndarray by using rand()"
   ]
  },
  {
   "cell_type": "code",
   "execution_count": 93,
   "id": "fc9b6a9b-78d9-4a4b-a512-5cbb3a0d8216",
   "metadata": {},
   "outputs": [],
   "source": [
    "# syntax: numpy.random.rand()"
   ]
  },
  {
   "cell_type": "code",
   "execution_count": 95,
   "id": "62dd0414-adc4-4c99-95b4-5d8962d36a65",
   "metadata": {},
   "outputs": [],
   "source": [
    "import numpy as np"
   ]
  },
  {
   "cell_type": "code",
   "execution_count": 97,
   "id": "eecf9e3e-7631-404f-8cc6-97016c6f72ca",
   "metadata": {},
   "outputs": [],
   "source": [
    "a=np.random.rand()"
   ]
  },
  {
   "cell_type": "code",
   "execution_count": 99,
   "id": "9bc6bfc7-0581-4930-a87e-5b0072f75e62",
   "metadata": {},
   "outputs": [
    {
     "name": "stdout",
     "output_type": "stream",
     "text": [
      "0.23088388626241385 <class 'float'>\n"
     ]
    }
   ],
   "source": [
    "print(a,type(a))"
   ]
  },
  {
   "cell_type": "code",
   "execution_count": 101,
   "id": "8a21cb30-56c9-4bc5-8102-1f763fccfa59",
   "metadata": {},
   "outputs": [
    {
     "name": "stdout",
     "output_type": "stream",
     "text": [
      "0.26654274880447026 <class 'float'>\n"
     ]
    }
   ],
   "source": [
    "a=np.random.rand()\n",
    "print(a,type(a))"
   ]
  },
  {
   "cell_type": "code",
   "execution_count": 103,
   "id": "1f6a073b-c9fe-4de0-a461-18b0231e5898",
   "metadata": {},
   "outputs": [
    {
     "name": "stdout",
     "output_type": "stream",
     "text": [
      "0.026233554410042048 <class 'float'>\n"
     ]
    }
   ],
   "source": [
    "a=np.random.rand()\n",
    "print(a,type(a))"
   ]
  },
  {
   "cell_type": "code",
   "execution_count": 105,
   "id": "c72dd30b-7ea5-4bbf-881a-8304fa834f61",
   "metadata": {},
   "outputs": [
    {
     "name": "stdout",
     "output_type": "stream",
     "text": [
      "0.8169105063355123 <class 'float'>\n",
      "0.25406379916790967 <class 'float'>\n",
      "0.24042223974680388 <class 'float'>\n",
      "0.6745486552518214 <class 'float'>\n"
     ]
    }
   ],
   "source": [
    "for i in range(1,5):\n",
    "    a=np.random.rand()\n",
    "    print(a,type(a))"
   ]
  },
  {
   "cell_type": "code",
   "execution_count": 107,
   "id": "6f11ab07-886f-46cf-84a1-555fc09a17e5",
   "metadata": {},
   "outputs": [
    {
     "name": "stdout",
     "output_type": "stream",
     "text": [
      "0.96\n",
      "0.85\n",
      "0.38\n",
      "0.02\n",
      "0.58\n"
     ]
    }
   ],
   "source": [
    "for i in range(5):\n",
    "    a=np.random.rand()\n",
    "    print(\"%0.2f\" %a)"
   ]
  },
  {
   "cell_type": "code",
   "execution_count": 117,
   "id": "55f9b2ab-4f3a-4925-a963-53452446b08e",
   "metadata": {},
   "outputs": [
    {
     "name": "stdout",
     "output_type": "stream",
     "text": [
      "0.41 <class 'float'>\n",
      "0.9 <class 'float'>\n",
      "0.71 <class 'float'>\n",
      "0.31 <class 'float'>\n",
      "0.73 <class 'float'>\n"
     ]
    }
   ],
   "source": [
    "for i in range(5):\n",
    "    a=np.random.rand()\n",
    "    print(round(a,2),type(a))"
   ]
  },
  {
   "cell_type": "code",
   "execution_count": 135,
   "id": "7decebf5-8982-45a5-9a3c-14bc18ad3b73",
   "metadata": {},
   "outputs": [],
   "source": [
    "# syntax2: varname=numpy.random.rand(value)"
   ]
  },
  {
   "cell_type": "code",
   "execution_count": 137,
   "id": "ee14cb80-aef6-4b1b-af30-2ff452aa4944",
   "metadata": {},
   "outputs": [
    {
     "name": "stdout",
     "output_type": "stream",
     "text": [
      "[0.55152808 0.98033238 0.5894722  0.05440658] <class 'numpy.ndarray'>\n"
     ]
    }
   ],
   "source": [
    "a=np.random.rand(4)\n",
    "print(a,type(a))"
   ]
  },
  {
   "cell_type": "code",
   "execution_count": 139,
   "id": "8889e8e2-142f-4091-af63-dfc8388a5273",
   "metadata": {},
   "outputs": [
    {
     "name": "stdout",
     "output_type": "stream",
     "text": [
      "[0.36376602 0.81239352 0.22901995 0.9924943  0.63155717] <class 'numpy.ndarray'>\n"
     ]
    }
   ],
   "source": [
    "a=np.random.rand(5)\n",
    "print(a,type(a))"
   ]
  },
  {
   "cell_type": "code",
   "execution_count": 141,
   "id": "34191f5f-58ab-43c0-8647-503468951acf",
   "metadata": {},
   "outputs": [],
   "source": [
    "# syntax3: varname=numpy.random.rand(rows,cols)"
   ]
  },
  {
   "cell_type": "code",
   "execution_count": 147,
   "id": "71b2b5c8-b090-4a7d-9dae-d1c166af20fa",
   "metadata": {},
   "outputs": [
    {
     "name": "stdout",
     "output_type": "stream",
     "text": [
      "[[0.34162749 0.20041014 0.1179666  0.90464682 0.23977262]] <class 'numpy.ndarray'>\n",
      "dimension= 2\n"
     ]
    }
   ],
   "source": [
    "a=np.random.rand(1,5)\n",
    "print(a,type(a))\n",
    "print(\"dimension=\",a.ndim)"
   ]
  },
  {
   "cell_type": "code",
   "execution_count": 149,
   "id": "f6a83780-e8d3-4802-a553-19239e0f96d3",
   "metadata": {},
   "outputs": [],
   "source": [
    "# syntax4: varname=numpy.random.rand(no.of.matrices,rows,cols)"
   ]
  },
  {
   "cell_type": "code",
   "execution_count": 151,
   "id": "0431aa8a-25d1-419e-91cf-3217c887a1f2",
   "metadata": {},
   "outputs": [
    {
     "name": "stdout",
     "output_type": "stream",
     "text": [
      "[[[0.11108171 0.80120054 0.60019055]\n",
      "  [0.8714855  0.05467902 0.36619045]\n",
      "  [0.71444566 0.80166076 0.76751299]]\n",
      "\n",
      " [[0.24550483 0.45764826 0.75515312]\n",
      "  [0.54200104 0.60898267 0.08570937]\n",
      "  [0.10310756 0.41992585 0.566998  ]]] <class 'numpy.ndarray'>\n",
      "Dimension of a= 3\n"
     ]
    }
   ],
   "source": [
    "a=np.random.rand(2,3,3)\n",
    "print(a,type(a))\n",
    "print(\"Dimension of a=\",a.ndim)"
   ]
  },
  {
   "cell_type": "code",
   "execution_count": null,
   "id": "872acf96-2d0b-4a3e-a9ed-8fe54af7364e",
   "metadata": {},
   "outputs": [],
   "source": []
  },
  {
   "cell_type": "markdown",
   "id": "6999c591-f1f3-453b-96bc-69b81ec1a235",
   "metadata": {},
   "source": [
    "## uniform()"
   ]
  },
  {
   "cell_type": "code",
   "execution_count": 154,
   "id": "c8db3c55-8cde-4b54-b60c-f8131e664d47",
   "metadata": {},
   "outputs": [
    {
     "name": "stdout",
     "output_type": "stream",
     "text": [
      "0.6127450808366831 <class 'float'>\n"
     ]
    }
   ],
   "source": [
    "a=np.random.uniform()\n",
    "print(a,type(a))"
   ]
  },
  {
   "cell_type": "code",
   "execution_count": 157,
   "id": "cb370b8f-afa5-448b-972e-2e56dc2b003d",
   "metadata": {},
   "outputs": [
    {
     "name": "stdout",
     "output_type": "stream",
     "text": [
      "0.6451062069123845 <class 'float'>\n"
     ]
    }
   ],
   "source": [
    "a=np.random.uniform()\n",
    "print(a,type(a))"
   ]
  },
  {
   "cell_type": "code",
   "execution_count": 159,
   "id": "a03059b5-eb49-41a4-8a6a-86b42caae09a",
   "metadata": {},
   "outputs": [
    {
     "name": "stdout",
     "output_type": "stream",
     "text": [
      "0.7393319437439484 <class 'float'>\n"
     ]
    }
   ],
   "source": [
    "a=np.random.uniform()\n",
    "print(a,type(a))"
   ]
  },
  {
   "cell_type": "code",
   "execution_count": 161,
   "id": "0cab4184-34ee-4ef5-a685-31276631c6aa",
   "metadata": {},
   "outputs": [],
   "source": [
    "# syntax2: varname=numpy.random.uniform(low,high)"
   ]
  },
  {
   "cell_type": "code",
   "execution_count": 163,
   "id": "e96a43f8-f566-4787-9cd6-bfc17b1ec942",
   "metadata": {},
   "outputs": [
    {
     "name": "stdout",
     "output_type": "stream",
     "text": [
      "3.1019438580469725 <class 'float'>\n"
     ]
    }
   ],
   "source": [
    "a=np.random.uniform(1.2,5.6)\n",
    "print(a,type(a))"
   ]
  },
  {
   "cell_type": "code",
   "execution_count": 165,
   "id": "a79fb03c-85cb-437a-bfc3-64c435d7502c",
   "metadata": {},
   "outputs": [
    {
     "name": "stdout",
     "output_type": "stream",
     "text": [
      "4.163910584987369 <class 'float'>\n",
      "1.569377076280237 <class 'float'>\n",
      "2.6085476767449025 <class 'float'>\n",
      "3.4959873427562074 <class 'float'>\n",
      "4.769669890089785 <class 'float'>\n",
      "1.8008110487552038 <class 'float'>\n",
      "4.522548796609253 <class 'float'>\n",
      "2.0207012671543665 <class 'float'>\n",
      "4.57949922926511 <class 'float'>\n",
      "3.3557484375867697 <class 'float'>\n"
     ]
    }
   ],
   "source": [
    "for i in range(10):\n",
    "    a=np.random.uniform(1.5,5.6)\n",
    "    print(a,type(a))"
   ]
  },
  {
   "cell_type": "code",
   "execution_count": 167,
   "id": "6e7a6b0a-39f9-4131-b48f-9e1e995acc73",
   "metadata": {},
   "outputs": [
    {
     "name": "stdout",
     "output_type": "stream",
     "text": [
      "1.860853386141697 <class 'float'>\n",
      "1.6829216070666768 <class 'float'>\n",
      "1.7604650307644778 <class 'float'>\n",
      "2.3903018817712782 <class 'float'>\n",
      "2.052107945890765 <class 'float'>\n"
     ]
    }
   ],
   "source": [
    "for i in range(5):\n",
    "    a=np.random.uniform(1.5,2.5)\n",
    "    print(a,type(a))"
   ]
  },
  {
   "cell_type": "code",
   "execution_count": 169,
   "id": "ec3e8e63-16b9-4280-afe9-ebba09ad5401",
   "metadata": {},
   "outputs": [],
   "source": [
    "# syntax: varname=numpy.random.uniform(low,high,size)"
   ]
  },
  {
   "cell_type": "code",
   "execution_count": 171,
   "id": "be5a7203-d952-449d-868a-042a6eb402e4",
   "metadata": {},
   "outputs": [
    {
     "name": "stdout",
     "output_type": "stream",
     "text": [
      "[11.85047822 10.93923417 10.66949043 10.07480207] <class 'numpy.ndarray'>\n"
     ]
    }
   ],
   "source": [
    "a=np.random.uniform(10,12,4)\n",
    "print(a,type(a))"
   ]
  },
  {
   "cell_type": "code",
   "execution_count": 173,
   "id": "881d54b4-39d1-45a5-9097-f69ec6e89a8c",
   "metadata": {},
   "outputs": [
    {
     "name": "stdout",
     "output_type": "stream",
     "text": [
      "[12.27190773 10.78598568 12.29058549 11.40132489 11.19085975] <class 'numpy.ndarray'>\n",
      "[10.50076715 12.74105081 11.68817364 10.12127925 11.26869954] <class 'numpy.ndarray'>\n",
      "[11.15480879 12.93305346 12.7766624  11.53568793 12.82175429] <class 'numpy.ndarray'>\n",
      "[12.9926041  12.4364117  10.92566632 11.11576635 10.91189309] <class 'numpy.ndarray'>\n",
      "[10.95633276 12.4947708  11.13122001 12.32350692 12.2079369 ] <class 'numpy.ndarray'>\n"
     ]
    }
   ],
   "source": [
    "for i in range(5):\n",
    "    a=np.random.uniform(10,13,5)\n",
    "    print(a,type(a))"
   ]
  },
  {
   "cell_type": "code",
   "execution_count": 175,
   "id": "92c8ec0c-b886-40eb-9e00-65728b9e85dd",
   "metadata": {},
   "outputs": [
    {
     "name": "stdout",
     "output_type": "stream",
     "text": [
      "[[19.41114608 14.85920693 10.38526397]\n",
      " [10.06902906 15.10971512 17.07483287]\n",
      " [12.11365403 14.52567578 17.98383368]] <class 'numpy.ndarray'>\n"
     ]
    }
   ],
   "source": [
    "a=np.random.uniform(10,20,size=(3,3))\n",
    "print(a,type(a))"
   ]
  },
  {
   "cell_type": "code",
   "execution_count": 177,
   "id": "de8e7683-6933-4dbb-8ce8-d654537be7a4",
   "metadata": {},
   "outputs": [
    {
     "name": "stdout",
     "output_type": "stream",
     "text": [
      "[[[12.89361974 10.03245316 11.04737776]\n",
      "  [13.73109586 11.93142321 13.19943949]\n",
      "  [14.12351812 10.59779875 13.48508527]]\n",
      "\n",
      " [[14.85903869 11.4369465  13.39771269]\n",
      "  [11.59923649 10.80579992 14.75963199]\n",
      "  [10.9028339  12.03932299 13.97433158]]] <class 'numpy.ndarray'>\n"
     ]
    }
   ],
   "source": [
    "a=np.random.uniform(10,15,(2,3,3))\n",
    "print(a,type(a))"
   ]
  },
  {
   "cell_type": "code",
   "execution_count": null,
   "id": "341d26d5-973a-408b-92f6-994320e938a7",
   "metadata": {},
   "outputs": [],
   "source": []
  }
 ],
 "metadata": {
  "kernelspec": {
   "display_name": "Python 3 (ipykernel)",
   "language": "python",
   "name": "python3"
  },
  "language_info": {
   "codemirror_mode": {
    "name": "ipython",
    "version": 3
   },
   "file_extension": ".py",
   "mimetype": "text/x-python",
   "name": "python",
   "nbconvert_exporter": "python",
   "pygments_lexer": "ipython3",
   "version": "3.12.4"
  }
 },
 "nbformat": 4,
 "nbformat_minor": 5
}
