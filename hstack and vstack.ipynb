{
 "cells": [
  {
   "cell_type": "markdown",
   "id": "cc5e4cb5-5e8b-41e9-9b00-c85cc83197d1",
   "metadata": {},
   "source": [
    "## hstack() and vstack()"
   ]
  },
  {
   "cell_type": "code",
   "execution_count": 3,
   "id": "bb3c1376-29db-40f0-9361-1d6d262b4c58",
   "metadata": {},
   "outputs": [],
   "source": [
    "# creating an object of ndarry by using hstack()"
   ]
  },
  {
   "cell_type": "code",
   "execution_count": 5,
   "id": "6b242358-ce11-471f-838a-abc1d585deb5",
   "metadata": {},
   "outputs": [],
   "source": [
    "# syntax:varname=numpy.hstack((ndarrayobj1,ndarrayobj2))"
   ]
  },
  {
   "cell_type": "code",
   "execution_count": 7,
   "id": "45f825bd-51a6-4607-b990-fd287ed27509",
   "metadata": {},
   "outputs": [
    {
     "name": "stdout",
     "output_type": "stream",
     "text": [
      "[1 2 3]\n",
      "[4 5 8]\n"
     ]
    }
   ],
   "source": [
    "import numpy as np\n",
    "a=np.array([1,2,3])\n",
    "b=np.array([4,5,8])\n",
    "print(a)\n",
    "print(b)"
   ]
  },
  {
   "cell_type": "code",
   "execution_count": 9,
   "id": "74b0e397-00ba-4bcd-90d8-44203695c63a",
   "metadata": {},
   "outputs": [
    {
     "name": "stdout",
     "output_type": "stream",
     "text": [
      "[1 2 3 4 5 8] <class 'numpy.ndarray'>\n"
     ]
    }
   ],
   "source": [
    "c=np.hstack((a,b))\n",
    "print(c,type(c))"
   ]
  },
  {
   "cell_type": "code",
   "execution_count": 11,
   "id": "759138f3-e4f1-4de4-9521-5219864bc003",
   "metadata": {},
   "outputs": [
    {
     "name": "stdout",
     "output_type": "stream",
     "text": [
      "[4 5 8 1 2 3] <class 'numpy.ndarray'>\n"
     ]
    }
   ],
   "source": [
    "d=np.hstack((b,a))\n",
    "print(d,type(d))"
   ]
  },
  {
   "cell_type": "code",
   "execution_count": 13,
   "id": "13b2fed6-5044-431a-907f-b3faba9e7087",
   "metadata": {},
   "outputs": [
    {
     "name": "stdout",
     "output_type": "stream",
     "text": [
      "[[0 1 2]\n",
      " [3 4 5]\n",
      " [6 7 8]] <class 'numpy.ndarray'>\n",
      "[[10 20 30]\n",
      " [40 50 60]\n",
      " [70 80 90]] <class 'numpy.ndarray'>\n"
     ]
    }
   ],
   "source": [
    "a=np.arange(3*3).reshape(3,3)\n",
    "b=np.array([[10,20,30],[40,50,60],[70,80,90]])\n",
    "print(a,type(a))\n",
    "print(b,type(b))"
   ]
  },
  {
   "cell_type": "code",
   "execution_count": 15,
   "id": "095d6071-6178-47bb-b124-b2a67a1d5bde",
   "metadata": {},
   "outputs": [
    {
     "name": "stdout",
     "output_type": "stream",
     "text": [
      "[[ 0  1  2 10 20 30]\n",
      " [ 3  4  5 40 50 60]\n",
      " [ 6  7  8 70 80 90]] <class 'numpy.ndarray'>\n"
     ]
    }
   ],
   "source": [
    "c=np.hstack((a,b))\n",
    "print(c,type(c))"
   ]
  },
  {
   "cell_type": "code",
   "execution_count": 19,
   "id": "7e805c22-a653-421a-b57a-cb66d764c191",
   "metadata": {},
   "outputs": [
    {
     "name": "stdout",
     "output_type": "stream",
     "text": [
      "A-matrix\n",
      "[[ 0  1  2  3]\n",
      " [ 4  5  6  7]\n",
      " [ 8  9 10 11]]\n",
      "B-matrix\n",
      "[[10 20 30]\n",
      " [40 50 60]\n",
      " [70 80 90]]\n"
     ]
    }
   ],
   "source": [
    "a=np.arange(3*4).reshape(3,4)\n",
    "b=np.array([[10,20,30],[40,50,60],[70,80,90]])\n",
    "print(\"A-matrix\")\n",
    "print(a)\n",
    "print(\"B-matrix\")\n",
    "print(b)"
   ]
  },
  {
   "cell_type": "code",
   "execution_count": 21,
   "id": "55a00d9c-76a4-4ddc-9a59-eb10984b44dd",
   "metadata": {},
   "outputs": [
    {
     "name": "stdout",
     "output_type": "stream",
     "text": [
      "C-matrix\n",
      "[[ 0  1  2  3 10 20 30]\n",
      " [ 4  5  6  7 40 50 60]\n",
      " [ 8  9 10 11 70 80 90]] <class 'numpy.ndarray'>\n"
     ]
    }
   ],
   "source": [
    "print(\"C-matrix\")\n",
    "c=np.hstack((a,b))\n",
    "print(c,type(c))"
   ]
  },
  {
   "cell_type": "code",
   "execution_count": 23,
   "id": "74c4adee-a7c4-4dc8-916b-b1ab012d5aa0",
   "metadata": {},
   "outputs": [
    {
     "name": "stdout",
     "output_type": "stream",
     "text": [
      "D-matrix\n",
      "[[10 20 30  0  1  2  3]\n",
      " [40 50 60  4  5  6  7]\n",
      " [70 80 90  8  9 10 11]] <class 'numpy.ndarray'>\n"
     ]
    }
   ],
   "source": [
    "print(\"D-matrix\")\n",
    "d=np.hstack((b,a))\n",
    "print(d,type(d))"
   ]
  },
  {
   "cell_type": "code",
   "execution_count": null,
   "id": "5c74449c-1f72-4578-90c4-ef0321501ab1",
   "metadata": {},
   "outputs": [],
   "source": []
  },
  {
   "cell_type": "markdown",
   "id": "cf630a0b-998e-4342-bac7-e675400e1bd8",
   "metadata": {},
   "source": [
    "## vstack()"
   ]
  },
  {
   "cell_type": "code",
   "execution_count": 26,
   "id": "450b8b4f-0b71-4bd0-8922-f4d5d17529d6",
   "metadata": {},
   "outputs": [],
   "source": [
    "# creating the an object of ndarray by using the vstack()"
   ]
  },
  {
   "cell_type": "code",
   "execution_count": 28,
   "id": "91d80e4f-7179-4586-adc3-0021fe866df1",
   "metadata": {},
   "outputs": [],
   "source": [
    "# syntax: varname=numpy.vstack((numpyobj1,numpyobj2))"
   ]
  },
  {
   "cell_type": "code",
   "execution_count": 34,
   "id": "7b5d3ac2-0cca-4fc0-b0a4-0842a1ce56d0",
   "metadata": {},
   "outputs": [
    {
     "name": "stdout",
     "output_type": "stream",
     "text": [
      "A-matrix\n",
      "[[0 1 2]\n",
      " [3 4 5]\n",
      " [6 7 8]]\n",
      "B-matrix\n",
      "[[10 11 12]\n",
      " [13 14 15]]\n"
     ]
    }
   ],
   "source": [
    "a=np.array(range(0,9)).reshape(3,3)\n",
    "b=np.array(range(10,16)).reshape(2,3)\n",
    "print(\"A-matrix\")\n",
    "print(a)\n",
    "print(\"B-matrix\")\n",
    "print(b)"
   ]
  },
  {
   "cell_type": "code",
   "execution_count": 36,
   "id": "3deac2b7-2e8e-456c-ab9b-7c3599ded193",
   "metadata": {},
   "outputs": [
    {
     "name": "stdout",
     "output_type": "stream",
     "text": [
      "C-matrix\n",
      "[[ 0  1  2]\n",
      " [ 3  4  5]\n",
      " [ 6  7  8]\n",
      " [10 11 12]\n",
      " [13 14 15]] <class 'numpy.ndarray'>\n"
     ]
    }
   ],
   "source": [
    "print(\"C-matrix\")\n",
    "c=np.vstack((a,b))\n",
    "print(c,type(c))"
   ]
  },
  {
   "cell_type": "code",
   "execution_count": 38,
   "id": "f6fd9dca-a909-426f-a49d-408d4beb2503",
   "metadata": {},
   "outputs": [
    {
     "name": "stdout",
     "output_type": "stream",
     "text": [
      "D-matrix\n",
      "[[10 11 12]\n",
      " [13 14 15]\n",
      " [ 0  1  2]\n",
      " [ 3  4  5]\n",
      " [ 6  7  8]] <class 'numpy.ndarray'>\n"
     ]
    }
   ],
   "source": [
    "print(\"D-matrix\")\n",
    "d=np.vstack((b,a))\n",
    "print(d,type(d))"
   ]
  },
  {
   "cell_type": "code",
   "execution_count": null,
   "id": "60da2e23-57ed-4253-82a6-fda3fc5c81ae",
   "metadata": {},
   "outputs": [],
   "source": []
  }
 ],
 "metadata": {
  "kernelspec": {
   "display_name": "Python 3 (ipykernel)",
   "language": "python",
   "name": "python3"
  },
  "language_info": {
   "codemirror_mode": {
    "name": "ipython",
    "version": 3
   },
   "file_extension": ".py",
   "mimetype": "text/x-python",
   "name": "python",
   "nbconvert_exporter": "python",
   "pygments_lexer": "ipython3",
   "version": "3.12.4"
  }
 },
 "nbformat": 4,
 "nbformat_minor": 5
}
