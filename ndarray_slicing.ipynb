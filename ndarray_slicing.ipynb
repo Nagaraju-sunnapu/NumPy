{
 "cells": [
  {
   "cell_type": "markdown",
   "id": "9c0a4ab9-570c-42bc-8c1a-3294a6d2ea89",
   "metadata": {},
   "source": [
    "## slicing operations on 1-D array"
   ]
  },
  {
   "cell_type": "code",
   "execution_count": 3,
   "id": "94707c91-30f1-481d-8606-ee44fd3be70b",
   "metadata": {},
   "outputs": [
    {
     "name": "stdout",
     "output_type": "stream",
     "text": [
      "content of a\n",
      "[10 20 30 40 50 60 70 80 90]\n"
     ]
    }
   ],
   "source": [
    "import numpy as np\n",
    "a=np.array([10,20,30,40,50,60,70,80,90])\n",
    "print(\"content of a\")\n",
    "print(a)"
   ]
  },
  {
   "cell_type": "code",
   "execution_count": 5,
   "id": "039b405d-2e0e-4ab4-a1af-38dee14986bd",
   "metadata": {},
   "outputs": [
    {
     "data": {
      "text/plain": [
       "10"
      ]
     },
     "execution_count": 5,
     "metadata": {},
     "output_type": "execute_result"
    }
   ],
   "source": [
    "a[0]"
   ]
  },
  {
   "cell_type": "code",
   "execution_count": 7,
   "id": "b6f12d2b-6f15-4a46-9f79-ab8dc252a73c",
   "metadata": {
    "scrolled": true
   },
   "outputs": [
    {
     "data": {
      "text/plain": [
       "array([10, 20, 30, 40])"
      ]
     },
     "execution_count": 7,
     "metadata": {},
     "output_type": "execute_result"
    }
   ],
   "source": [
    "a[0:4]"
   ]
  },
  {
   "cell_type": "code",
   "execution_count": 9,
   "id": "24ca4ca5-2dd2-4123-b52f-4d5ab22974f5",
   "metadata": {},
   "outputs": [
    {
     "data": {
      "text/plain": [
       "array([10, 20, 30, 40, 50, 60, 70, 80])"
      ]
     },
     "execution_count": 9,
     "metadata": {},
     "output_type": "execute_result"
    }
   ],
   "source": [
    "a[0:len(a)-1]"
   ]
  },
  {
   "cell_type": "code",
   "execution_count": 11,
   "id": "05936c23-c81a-465f-b091-605989ae1a9c",
   "metadata": {},
   "outputs": [
    {
     "data": {
      "text/plain": [
       "array([10, 20, 30, 40, 50, 60, 70, 80, 90])"
      ]
     },
     "execution_count": 11,
     "metadata": {},
     "output_type": "execute_result"
    }
   ],
   "source": [
    "a[0:len(a)]"
   ]
  },
  {
   "cell_type": "raw",
   "id": "cdd3b4f7-3fda-4ce1-ad8a-f70b2aef730a",
   "metadata": {},
   "source": [
    "a[0:5]"
   ]
  },
  {
   "cell_type": "code",
   "execution_count": 13,
   "id": "c4322728-6c1c-4d38-b84c-9f879f323ddd",
   "metadata": {},
   "outputs": [
    {
     "data": {
      "text/plain": [
       "array([10, 20, 30, 40, 50])"
      ]
     },
     "execution_count": 13,
     "metadata": {},
     "output_type": "execute_result"
    }
   ],
   "source": [
    "a[0:5]"
   ]
  },
  {
   "cell_type": "code",
   "execution_count": 15,
   "id": "5be43039-bb70-48c9-ad5e-89dad256f927",
   "metadata": {},
   "outputs": [
    {
     "data": {
      "text/plain": [
       "array([], dtype=int32)"
      ]
     },
     "execution_count": 15,
     "metadata": {},
     "output_type": "execute_result"
    }
   ],
   "source": [
    "a[4:0]"
   ]
  },
  {
   "cell_type": "code",
   "execution_count": 17,
   "id": "1158b002-d7d0-4bf8-b3e8-1098a453e1ac",
   "metadata": {},
   "outputs": [
    {
     "data": {
      "text/plain": [
       "array([10, 20, 30, 40, 50, 60, 70, 80, 90])"
      ]
     },
     "execution_count": 17,
     "metadata": {},
     "output_type": "execute_result"
    }
   ],
   "source": [
    "a[0:10:1]"
   ]
  },
  {
   "cell_type": "code",
   "execution_count": 19,
   "id": "161af3e0-b3c5-4545-b64b-69dc86d1942c",
   "metadata": {},
   "outputs": [
    {
     "data": {
      "text/plain": [
       "array([10, 30, 50, 70, 90])"
      ]
     },
     "execution_count": 19,
     "metadata": {},
     "output_type": "execute_result"
    }
   ],
   "source": [
    "a[0:10:2]"
   ]
  },
  {
   "cell_type": "code",
   "execution_count": 21,
   "id": "68164a67-a634-40ba-aa7c-d3ab444188de",
   "metadata": {},
   "outputs": [
    {
     "data": {
      "text/plain": [
       "array([], dtype=int32)"
      ]
     },
     "execution_count": 21,
     "metadata": {},
     "output_type": "execute_result"
    }
   ],
   "source": [
    "a[-1:-10]"
   ]
  },
  {
   "cell_type": "code",
   "execution_count": 25,
   "id": "dcefaee9-fa1f-4b55-a3c3-f0f76b06d047",
   "metadata": {},
   "outputs": [
    {
     "data": {
      "text/plain": [
       "array([90, 80, 70, 60, 50, 40, 30, 20, 10])"
      ]
     },
     "execution_count": 25,
     "metadata": {},
     "output_type": "execute_result"
    }
   ],
   "source": [
    "a[-1:-10:-1]"
   ]
  },
  {
   "cell_type": "code",
   "execution_count": 27,
   "id": "25f64bd9-9f45-4572-9125-c62363361964",
   "metadata": {},
   "outputs": [
    {
     "data": {
      "text/plain": [
       "array([10, 20, 30, 40, 50, 60, 70, 80, 90])"
      ]
     },
     "execution_count": 27,
     "metadata": {},
     "output_type": "execute_result"
    }
   ],
   "source": [
    "a[:10]"
   ]
  },
  {
   "cell_type": "code",
   "execution_count": 29,
   "id": "3dec5bc3-8bfa-49c5-a5eb-a7f6386fd770",
   "metadata": {},
   "outputs": [
    {
     "data": {
      "text/plain": [
       "array([10, 20, 30, 40, 50, 60, 70, 80, 90])"
      ]
     },
     "execution_count": 29,
     "metadata": {},
     "output_type": "execute_result"
    }
   ],
   "source": [
    "a[0:]"
   ]
  },
  {
   "cell_type": "code",
   "execution_count": 31,
   "id": "3cf7c41f-6b14-415d-a8aa-86a9adaed0a5",
   "metadata": {},
   "outputs": [
    {
     "data": {
      "text/plain": [
       "array([10, 20, 30, 40, 50, 60, 70, 80, 90])"
      ]
     },
     "execution_count": 31,
     "metadata": {},
     "output_type": "execute_result"
    }
   ],
   "source": [
    "a[:10]"
   ]
  },
  {
   "cell_type": "code",
   "execution_count": 33,
   "id": "7d8410bc-6f1f-4ff7-a0ae-fa7db81fc78c",
   "metadata": {},
   "outputs": [
    {
     "name": "stdout",
     "output_type": "stream",
     "text": [
      "[10 20 30 40 50 60 70 80 90]\n"
     ]
    }
   ],
   "source": [
    "print(a)"
   ]
  },
  {
   "cell_type": "code",
   "execution_count": 35,
   "id": "387e8c1d-41d3-476c-87a2-7962174b8052",
   "metadata": {},
   "outputs": [
    {
     "data": {
      "text/plain": [
       "array([10, 20, 30, 40, 50, 60, 70, 80, 90])"
      ]
     },
     "execution_count": 35,
     "metadata": {},
     "output_type": "execute_result"
    }
   ],
   "source": [
    "a[:]"
   ]
  },
  {
   "cell_type": "code",
   "execution_count": 37,
   "id": "c25ac459-653e-4717-a54c-8cd69fd51ce4",
   "metadata": {},
   "outputs": [
    {
     "data": {
      "text/plain": [
       "array([90, 80, 70, 60, 50, 40, 30, 20, 10])"
      ]
     },
     "execution_count": 37,
     "metadata": {},
     "output_type": "execute_result"
    }
   ],
   "source": [
    "a[::-1]"
   ]
  },
  {
   "cell_type": "code",
   "execution_count": 41,
   "id": "dd369346-5852-4164-b876-cb5cdd500c9a",
   "metadata": {},
   "outputs": [
    {
     "name": "stdout",
     "output_type": "stream",
     "text": [
      "[90 70 50 30 10]\n"
     ]
    }
   ],
   "source": [
    "print(a[::-2])"
   ]
  },
  {
   "cell_type": "markdown",
   "id": "8590bee1-0e7b-4ff9-b6ed-ef1864b9f7b1",
   "metadata": {},
   "source": [
    "## slicing operations on 2-D Array"
   ]
  },
  {
   "cell_type": "code",
   "execution_count": 44,
   "id": "6d42c31f-e765-4836-a27e-be020b78f9e4",
   "metadata": {},
   "outputs": [
    {
     "name": "stdout",
     "output_type": "stream",
     "text": [
      "content of a\n",
      "[[10 20 30]\n",
      " [40 50 60]\n",
      " [70 80 90]]\n"
     ]
    }
   ],
   "source": [
    "a=np.array([10,20,30,40,50,60,70,80,90]).reshape(3,3)\n",
    "print(\"content of a\")\n",
    "print(a)"
   ]
  },
  {
   "cell_type": "code",
   "execution_count": 46,
   "id": "8e0a7ad1-2f95-47aa-82d3-d62d49a67b3d",
   "metadata": {},
   "outputs": [
    {
     "name": "stdout",
     "output_type": "stream",
     "text": [
      "[[10]\n",
      " [40]\n",
      " [70]]\n"
     ]
    }
   ],
   "source": [
    "print(a[0:3,0:1])"
   ]
  },
  {
   "cell_type": "code",
   "execution_count": 48,
   "id": "e5c9a943-4470-47d5-8841-81bf3e3c4f2a",
   "metadata": {},
   "outputs": [
    {
     "data": {
      "text/plain": [
       "array([[10],\n",
       "       [40],\n",
       "       [70]])"
      ]
     },
     "execution_count": 48,
     "metadata": {},
     "output_type": "execute_result"
    }
   ],
   "source": [
    "a[:,0:1]"
   ]
  },
  {
   "cell_type": "code",
   "execution_count": 50,
   "id": "b37d13f4-0791-4daa-9ba4-fef6a67bac2c",
   "metadata": {},
   "outputs": [
    {
     "data": {
      "text/plain": [
       "array([[10],\n",
       "       [40],\n",
       "       [70]])"
      ]
     },
     "execution_count": 50,
     "metadata": {},
     "output_type": "execute_result"
    }
   ],
   "source": [
    "a[0:,0:1]"
   ]
  },
  {
   "cell_type": "code",
   "execution_count": 52,
   "id": "0a50b350-c6f2-45a7-886d-aafc7afe255a",
   "metadata": {},
   "outputs": [
    {
     "data": {
      "text/plain": [
       "array([[10],\n",
       "       [40],\n",
       "       [70]])"
      ]
     },
     "execution_count": 52,
     "metadata": {},
     "output_type": "execute_result"
    }
   ],
   "source": [
    "a[:,:1]"
   ]
  },
  {
   "cell_type": "code",
   "execution_count": 54,
   "id": "aaae2df1-0049-485b-b72a-e803f9edd43a",
   "metadata": {},
   "outputs": [
    {
     "data": {
      "text/plain": [
       "array([[10],\n",
       "       [40],\n",
       "       [70]])"
      ]
     },
     "execution_count": 54,
     "metadata": {},
     "output_type": "execute_result"
    }
   ],
   "source": [
    "a[0:,:1]"
   ]
  },
  {
   "cell_type": "code",
   "execution_count": 56,
   "id": "b9f5fd75-5302-44eb-a31f-ab1bd5b7cd69",
   "metadata": {},
   "outputs": [
    {
     "data": {
      "text/plain": [
       "array([[10],\n",
       "       [40],\n",
       "       [70]])"
      ]
     },
     "execution_count": 56,
     "metadata": {},
     "output_type": "execute_result"
    }
   ],
   "source": [
    "a[:3,:1]"
   ]
  },
  {
   "cell_type": "code",
   "execution_count": 58,
   "id": "a1fdda05-d5dc-4528-8769-0161b97da5c7",
   "metadata": {},
   "outputs": [
    {
     "data": {
      "text/plain": [
       "array([[10],\n",
       "       [40],\n",
       "       [70]])"
      ]
     },
     "execution_count": 58,
     "metadata": {},
     "output_type": "execute_result"
    }
   ],
   "source": [
    "a[::,0:1]"
   ]
  },
  {
   "cell_type": "code",
   "execution_count": 60,
   "id": "c9978e50-c598-4f0b-8f02-b6e388bb9886",
   "metadata": {},
   "outputs": [
    {
     "data": {
      "text/plain": [
       "array([[10],\n",
       "       [40],\n",
       "       [70]])"
      ]
     },
     "execution_count": 60,
     "metadata": {},
     "output_type": "execute_result"
    }
   ],
   "source": [
    "a[::,0:1:1]"
   ]
  },
  {
   "cell_type": "code",
   "execution_count": 62,
   "id": "b989946c-de97-4a09-b782-e938fe9ca371",
   "metadata": {},
   "outputs": [
    {
     "data": {
      "text/plain": [
       "array([[10],\n",
       "       [40],\n",
       "       [70]])"
      ]
     },
     "execution_count": 62,
     "metadata": {},
     "output_type": "execute_result"
    }
   ],
   "source": [
    "a[::1,:1:]"
   ]
  },
  {
   "cell_type": "code",
   "execution_count": 64,
   "id": "e2c20060-bf2c-435d-9f72-e8167ab436b3",
   "metadata": {},
   "outputs": [
    {
     "name": "stdout",
     "output_type": "stream",
     "text": [
      "[[10 20 30]\n",
      " [40 50 60]\n",
      " [70 80 90]]\n"
     ]
    }
   ],
   "source": [
    "print(a)"
   ]
  },
  {
   "cell_type": "code",
   "execution_count": 68,
   "id": "e7f2d3a3-aa8a-4f25-ba63-f117ac56d5d5",
   "metadata": {},
   "outputs": [
    {
     "data": {
      "text/plain": [
       "array([[10],\n",
       "       [40],\n",
       "       [70]])"
      ]
     },
     "execution_count": 68,
     "metadata": {},
     "output_type": "execute_result"
    }
   ],
   "source": [
    "a[-3:,-3:-2]"
   ]
  },
  {
   "cell_type": "code",
   "execution_count": 72,
   "id": "b21803b9-3abd-4d7e-9511-035b27a27810",
   "metadata": {},
   "outputs": [
    {
     "data": {
      "text/plain": [
       "array([[10],\n",
       "       [40],\n",
       "       [70]])"
      ]
     },
     "execution_count": 72,
     "metadata": {},
     "output_type": "execute_result"
    }
   ],
   "source": [
    "a[-3::1,-3:-2:1]"
   ]
  },
  {
   "cell_type": "code",
   "execution_count": 74,
   "id": "15e2c77a-fd3f-433c-bfe0-8e0ee667aaf5",
   "metadata": {},
   "outputs": [
    {
     "name": "stdout",
     "output_type": "stream",
     "text": [
      "[[10 20 30]\n",
      " [40 50 60]\n",
      " [70 80 90]]\n"
     ]
    }
   ],
   "source": [
    "print(a)"
   ]
  },
  {
   "cell_type": "code",
   "execution_count": 76,
   "id": "8543401d-77f3-4acb-9221-938518762aa9",
   "metadata": {},
   "outputs": [
    {
     "data": {
      "text/plain": [
       "array([[40, 50],\n",
       "       [70, 80]])"
      ]
     },
     "execution_count": 76,
     "metadata": {},
     "output_type": "execute_result"
    }
   ],
   "source": [
    "a[1:3:1,0:2:1]"
   ]
  },
  {
   "cell_type": "code",
   "execution_count": 78,
   "id": "8ab93e43-af8c-4108-be8f-b57d2bdd35ac",
   "metadata": {},
   "outputs": [
    {
     "data": {
      "text/plain": [
       "array([[40, 50],\n",
       "       [70, 80]])"
      ]
     },
     "execution_count": 78,
     "metadata": {},
     "output_type": "execute_result"
    }
   ],
   "source": [
    "a[1:,:2]"
   ]
  },
  {
   "cell_type": "code",
   "execution_count": 80,
   "id": "36f66979-d489-4056-b6ad-9620fc0aba9a",
   "metadata": {},
   "outputs": [
    {
     "data": {
      "text/plain": [
       "array([[40, 50],\n",
       "       [70, 80]])"
      ]
     },
     "execution_count": 80,
     "metadata": {},
     "output_type": "execute_result"
    }
   ],
   "source": [
    "a[1::1,:2:1]"
   ]
  },
  {
   "cell_type": "code",
   "execution_count": 82,
   "id": "3998b204-7fc4-415c-b048-c4d7c6466736",
   "metadata": {},
   "outputs": [
    {
     "data": {
      "text/plain": [
       "array([[40, 50],\n",
       "       [70, 80]])"
      ]
     },
     "execution_count": 82,
     "metadata": {},
     "output_type": "execute_result"
    }
   ],
   "source": [
    "a[-2:,-3:-1]"
   ]
  },
  {
   "cell_type": "code",
   "execution_count": 84,
   "id": "ddb3b6c8-72d3-420c-94cd-a8c6807b39a7",
   "metadata": {},
   "outputs": [
    {
     "data": {
      "text/plain": [
       "array([[40, 50],\n",
       "       [70, 80]])"
      ]
     },
     "execution_count": 84,
     "metadata": {},
     "output_type": "execute_result"
    }
   ],
   "source": [
    "a[-2::1,-3:-1:1]"
   ]
  },
  {
   "cell_type": "code",
   "execution_count": 86,
   "id": "ec358280-758c-4d44-8cbd-c4e792fc0547",
   "metadata": {},
   "outputs": [
    {
     "data": {
      "text/plain": [
       "array([[40, 50],\n",
       "       [70, 80]])"
      ]
     },
     "execution_count": 86,
     "metadata": {},
     "output_type": "execute_result"
    }
   ],
   "source": [
    "a[1:,-3:-1:1]"
   ]
  },
  {
   "cell_type": "code",
   "execution_count": 88,
   "id": "a0c66e24-e559-497c-89c0-d6f71e4b2adc",
   "metadata": {},
   "outputs": [
    {
     "data": {
      "text/plain": [
       "array([[20, 30],\n",
       "       [50, 60]])"
      ]
     },
     "execution_count": 88,
     "metadata": {},
     "output_type": "execute_result"
    }
   ],
   "source": [
    "a[0:2,1:3]"
   ]
  },
  {
   "cell_type": "code",
   "execution_count": 90,
   "id": "1fe71607-0f26-4b65-8b9d-a38f2ad0a051",
   "metadata": {},
   "outputs": [
    {
     "data": {
      "text/plain": [
       "array([[10, 20, 30],\n",
       "       [70, 80, 90]])"
      ]
     },
     "execution_count": 90,
     "metadata": {},
     "output_type": "execute_result"
    }
   ],
   "source": [
    "a[0:3:2,0:3]"
   ]
  },
  {
   "cell_type": "code",
   "execution_count": 92,
   "id": "cb30b1c6-3eb5-4e87-b002-6bddcbadce80",
   "metadata": {},
   "outputs": [
    {
     "data": {
      "text/plain": [
       "array([[10, 20, 30],\n",
       "       [70, 80, 90]])"
      ]
     },
     "execution_count": 92,
     "metadata": {},
     "output_type": "execute_result"
    }
   ],
   "source": [
    "a[::2,:]"
   ]
  },
  {
   "cell_type": "code",
   "execution_count": 94,
   "id": "26855561-d9b9-48b0-9f2c-1cb20131ee65",
   "metadata": {},
   "outputs": [
    {
     "data": {
      "text/plain": [
       "array([[10, 20, 30],\n",
       "       [70, 80, 90]])"
      ]
     },
     "execution_count": 94,
     "metadata": {},
     "output_type": "execute_result"
    }
   ],
   "source": [
    "a[::2,::]"
   ]
  },
  {
   "cell_type": "code",
   "execution_count": 96,
   "id": "32c39f17-b95e-4de5-9be3-d94dc622df0f",
   "metadata": {},
   "outputs": [
    {
     "data": {
      "text/plain": [
       "array([[10, 20, 30],\n",
       "       [70, 80, 90]])"
      ]
     },
     "execution_count": 96,
     "metadata": {},
     "output_type": "execute_result"
    }
   ],
   "source": [
    "a[0::2,0::1]"
   ]
  },
  {
   "cell_type": "code",
   "execution_count": 98,
   "id": "2410a0fd-aba5-4513-ac3f-bbb65c28f373",
   "metadata": {},
   "outputs": [
    {
     "name": "stdout",
     "output_type": "stream",
     "text": [
      "[[10 20 30]\n",
      " [40 50 60]\n",
      " [70 80 90]]\n"
     ]
    }
   ],
   "source": [
    "print(a)"
   ]
  },
  {
   "cell_type": "code",
   "execution_count": 100,
   "id": "ff9255ad-179e-4a75-903a-94c75697dc34",
   "metadata": {},
   "outputs": [
    {
     "data": {
      "text/plain": [
       "array([[20],\n",
       "       [50],\n",
       "       [80]])"
      ]
     },
     "execution_count": 100,
     "metadata": {},
     "output_type": "execute_result"
    }
   ],
   "source": [
    "a[:,1:2]"
   ]
  },
  {
   "cell_type": "code",
   "execution_count": 102,
   "id": "6ae733b2-4fd5-4970-86f0-928eea66c7ba",
   "metadata": {},
   "outputs": [
    {
     "data": {
      "text/plain": [
       "array([[10, 30],\n",
       "       [40, 60],\n",
       "       [70, 90]])"
      ]
     },
     "execution_count": 102,
     "metadata": {},
     "output_type": "execute_result"
    }
   ],
   "source": [
    "a[:,::2]"
   ]
  },
  {
   "cell_type": "code",
   "execution_count": 104,
   "id": "af9b1d69-5f2a-4e57-b391-dbb455f815c3",
   "metadata": {},
   "outputs": [
    {
     "name": "stdout",
     "output_type": "stream",
     "text": [
      "[[10 20 30]\n",
      " [40 50 60]\n",
      " [70 80 90]]\n"
     ]
    }
   ],
   "source": [
    "print(a)"
   ]
  },
  {
   "cell_type": "code",
   "execution_count": 108,
   "id": "ccf006cb-a588-4c6e-8351-fa3107cac26f",
   "metadata": {},
   "outputs": [
    {
     "data": {
      "text/plain": [
       "array([[10, 30],\n",
       "       [70, 90]])"
      ]
     },
     "execution_count": 108,
     "metadata": {},
     "output_type": "execute_result"
    }
   ],
   "source": [
    "a[::2,::2] # all corner elements"
   ]
  },
  {
   "cell_type": "code",
   "execution_count": 110,
   "id": "f25c941c-0f8d-4336-8400-80c8be0f1fca",
   "metadata": {},
   "outputs": [
    {
     "data": {
      "text/plain": [
       "array([[10, 30],\n",
       "       [70, 90]])"
      ]
     },
     "execution_count": 110,
     "metadata": {},
     "output_type": "execute_result"
    }
   ],
   "source": [
    "a[0:3:2,0:3:2]"
   ]
  },
  {
   "cell_type": "markdown",
   "id": "d4d46b1d-022a-4f03-8c4b-388cbd77431b",
   "metadata": {},
   "source": [
    "## slicing operation on N-D Array"
   ]
  },
  {
   "cell_type": "code",
   "execution_count": 1,
   "id": "2c805379-e20e-4d4d-943c-151e3738cf5e",
   "metadata": {},
   "outputs": [],
   "source": [
    "# syntax:ndarrayobj[mat beg:mat end:mat step,row beg:row end:row step,col beg:col end:col step]"
   ]
  },
  {
   "cell_type": "code",
   "execution_count": 5,
   "id": "b8be7020-869f-44df-b467-3465d0fa615e",
   "metadata": {},
   "outputs": [
    {
     "name": "stdout",
     "output_type": "stream",
     "text": [
      "content of a\n",
      "[[[20 46 14]\n",
      "  [47 48 35]\n",
      "  [13 37 26]]\n",
      "\n",
      " [[31 41 34]\n",
      "  [38 16 42]\n",
      "  [22 21 19]]\n",
      "\n",
      " [[26 45 23]\n",
      "  [42 33 21]\n",
      "  [34 12 45]]]\n"
     ]
    }
   ],
   "source": [
    "import numpy as np\n",
    "a=np.random.randint(10,50,size=(3,3,3))\n",
    "print(\"content of a\")\n",
    "print(a)"
   ]
  },
  {
   "cell_type": "code",
   "execution_count": 7,
   "id": "fb2a3a81-38dd-41bb-94cb-5a64accb8333",
   "metadata": {},
   "outputs": [
    {
     "data": {
      "text/plain": [
       "array([[[48],\n",
       "        [37]]])"
      ]
     },
     "execution_count": 7,
     "metadata": {},
     "output_type": "execute_result"
    }
   ],
   "source": [
    "a[0:1,1:3,1:2]"
   ]
  },
  {
   "cell_type": "code",
   "execution_count": 9,
   "id": "b55c958c-a561-490b-b778-9c677cca942f",
   "metadata": {},
   "outputs": [
    {
     "data": {
      "text/plain": [
       "array([[[48],\n",
       "        [37]]])"
      ]
     },
     "execution_count": 9,
     "metadata": {},
     "output_type": "execute_result"
    }
   ],
   "source": [
    "a[:1,1:,1:2]"
   ]
  },
  {
   "cell_type": "code",
   "execution_count": 11,
   "id": "ff64b45d-fc9e-40ec-bb37-052df869e470",
   "metadata": {},
   "outputs": [
    {
     "data": {
      "text/plain": [
       "array([[[48],\n",
       "        [37]]])"
      ]
     },
     "execution_count": 11,
     "metadata": {},
     "output_type": "execute_result"
    }
   ],
   "source": [
    "a[:1:1,1::1,1:2:1]"
   ]
  },
  {
   "cell_type": "code",
   "execution_count": 13,
   "id": "d6917676-565e-4ee0-b42f-794f44e03d82",
   "metadata": {},
   "outputs": [
    {
     "name": "stdout",
     "output_type": "stream",
     "text": [
      "[[[20 46 14]\n",
      "  [47 48 35]\n",
      "  [13 37 26]]\n",
      "\n",
      " [[31 41 34]\n",
      "  [38 16 42]\n",
      "  [22 21 19]]\n",
      "\n",
      " [[26 45 23]\n",
      "  [42 33 21]\n",
      "  [34 12 45]]]\n"
     ]
    }
   ],
   "source": [
    "print(a)"
   ]
  },
  {
   "cell_type": "code",
   "execution_count": 15,
   "id": "f81722a5-5ff3-476a-a97f-d0a7b2b9d15b",
   "metadata": {},
   "outputs": [
    {
     "data": {
      "text/plain": [
       "array([[[48],\n",
       "        [37]]])"
      ]
     },
     "execution_count": 15,
     "metadata": {},
     "output_type": "execute_result"
    }
   ],
   "source": [
    "a[-3:-2,-2:,-2:-1]"
   ]
  },
  {
   "cell_type": "code",
   "execution_count": 17,
   "id": "651adab7-7431-43c7-a40d-070f6c599130",
   "metadata": {},
   "outputs": [
    {
     "name": "stdout",
     "output_type": "stream",
     "text": [
      "[[[20 46 14]\n",
      "  [47 48 35]\n",
      "  [13 37 26]]\n",
      "\n",
      " [[31 41 34]\n",
      "  [38 16 42]\n",
      "  [22 21 19]]\n",
      "\n",
      " [[26 45 23]\n",
      "  [42 33 21]\n",
      "  [34 12 45]]]\n"
     ]
    }
   ],
   "source": [
    "print(a)"
   ]
  },
  {
   "cell_type": "code",
   "execution_count": 19,
   "id": "099effd1-9dc2-4822-a8f9-6c39876f6647",
   "metadata": {},
   "outputs": [
    {
     "data": {
      "text/plain": [
       "array([[[13, 37, 26]],\n",
       "\n",
       "       [[22, 21, 19]],\n",
       "\n",
       "       [[34, 12, 45]]])"
      ]
     },
     "execution_count": 19,
     "metadata": {},
     "output_type": "execute_result"
    }
   ],
   "source": [
    "a[:,2:,:]"
   ]
  },
  {
   "cell_type": "code",
   "execution_count": 21,
   "id": "4bcea823-fe19-498e-9c73-2299f6f8a0d9",
   "metadata": {},
   "outputs": [
    {
     "name": "stdout",
     "output_type": "stream",
     "text": [
      "[[[20 46 14]\n",
      "  [47 48 35]\n",
      "  [13 37 26]]\n",
      "\n",
      " [[31 41 34]\n",
      "  [38 16 42]\n",
      "  [22 21 19]]\n",
      "\n",
      " [[26 45 23]\n",
      "  [42 33 21]\n",
      "  [34 12 45]]]\n"
     ]
    }
   ],
   "source": [
    "print(a)"
   ]
  },
  {
   "cell_type": "code",
   "execution_count": 25,
   "id": "721c4b1b-15fd-47ee-bc66-6c181e7382a0",
   "metadata": {},
   "outputs": [
    {
     "data": {
      "text/plain": [
       "array([[[46],\n",
       "        [48],\n",
       "        [37]],\n",
       "\n",
       "       [[45],\n",
       "        [33],\n",
       "        [12]]])"
      ]
     },
     "execution_count": 25,
     "metadata": {},
     "output_type": "execute_result"
    }
   ],
   "source": [
    "a[::2,:,1:2]"
   ]
  },
  {
   "cell_type": "code",
   "execution_count": 27,
   "id": "af9762ef-b49a-47b7-90e9-43c8b9506e91",
   "metadata": {},
   "outputs": [
    {
     "name": "stdout",
     "output_type": "stream",
     "text": [
      "[[[20 46 14]\n",
      "  [47 48 35]\n",
      "  [13 37 26]]\n",
      "\n",
      " [[31 41 34]\n",
      "  [38 16 42]\n",
      "  [22 21 19]]\n",
      "\n",
      " [[26 45 23]\n",
      "  [42 33 21]\n",
      "  [34 12 45]]]\n"
     ]
    }
   ],
   "source": [
    "print(a)"
   ]
  },
  {
   "cell_type": "code",
   "execution_count": 29,
   "id": "fa0ea104-b95f-4531-84e6-1d2efeb1f185",
   "metadata": {},
   "outputs": [
    {
     "data": {
      "text/plain": [
       "array([[[46, 14],\n",
       "        [48, 35]],\n",
       "\n",
       "       [[41, 34],\n",
       "        [16, 42]],\n",
       "\n",
       "       [[45, 23],\n",
       "        [33, 21]]])"
      ]
     },
     "execution_count": 29,
     "metadata": {},
     "output_type": "execute_result"
    }
   ],
   "source": [
    "a[:,:2,1:3]"
   ]
  },
  {
   "cell_type": "code",
   "execution_count": 31,
   "id": "4d86bc09-85f9-4e54-9671-8383a55388b0",
   "metadata": {},
   "outputs": [
    {
     "data": {
      "text/plain": [
       "array([[[46, 14],\n",
       "        [48, 35]],\n",
       "\n",
       "       [[41, 34],\n",
       "        [16, 42]],\n",
       "\n",
       "       [[45, 23],\n",
       "        [33, 21]]])"
      ]
     },
     "execution_count": 31,
     "metadata": {},
     "output_type": "execute_result"
    }
   ],
   "source": [
    "a[::,:2:,1:3]"
   ]
  },
  {
   "cell_type": "code",
   "execution_count": 33,
   "id": "d0c59cfe-e250-4dae-835e-df0fa18c8e5f",
   "metadata": {},
   "outputs": [
    {
     "name": "stdout",
     "output_type": "stream",
     "text": [
      "[[[20 46 14]\n",
      "  [47 48 35]\n",
      "  [13 37 26]]\n",
      "\n",
      " [[31 41 34]\n",
      "  [38 16 42]\n",
      "  [22 21 19]]\n",
      "\n",
      " [[26 45 23]\n",
      "  [42 33 21]\n",
      "  [34 12 45]]]\n"
     ]
    }
   ],
   "source": [
    "print(a)"
   ]
  },
  {
   "cell_type": "code",
   "execution_count": 35,
   "id": "97dc6af7-9c26-4e8d-96f1-84b776499d81",
   "metadata": {},
   "outputs": [
    {
     "data": {
      "text/plain": [
       "array([[[20],\n",
       "        [13]],\n",
       "\n",
       "       [[26],\n",
       "        [34]]])"
      ]
     },
     "execution_count": 35,
     "metadata": {},
     "output_type": "execute_result"
    }
   ],
   "source": [
    "a[::2,::2,0:1]"
   ]
  },
  {
   "cell_type": "code",
   "execution_count": 37,
   "id": "9fe4b9ce-9796-46bd-8212-fa1611af0963",
   "metadata": {},
   "outputs": [
    {
     "name": "stdout",
     "output_type": "stream",
     "text": [
      "[[[20 46 14]\n",
      "  [47 48 35]\n",
      "  [13 37 26]]\n",
      "\n",
      " [[31 41 34]\n",
      "  [38 16 42]\n",
      "  [22 21 19]]\n",
      "\n",
      " [[26 45 23]\n",
      "  [42 33 21]\n",
      "  [34 12 45]]]\n"
     ]
    }
   ],
   "source": [
    "print(a)"
   ]
  },
  {
   "cell_type": "code",
   "execution_count": 39,
   "id": "779b0429-a9f9-4a1f-8e2b-f47ef0bf6aed",
   "metadata": {},
   "outputs": [
    {
     "data": {
      "text/plain": [
       "array([[[20, 14],\n",
       "        [13, 26]],\n",
       "\n",
       "       [[31, 34],\n",
       "        [22, 19]],\n",
       "\n",
       "       [[26, 23],\n",
       "        [34, 45]]])"
      ]
     },
     "execution_count": 39,
     "metadata": {},
     "output_type": "execute_result"
    }
   ],
   "source": [
    "a[::,::2,::2]"
   ]
  },
  {
   "cell_type": "code",
   "execution_count": null,
   "id": "e1eade92-56fb-4bd1-b4bb-8c2d910e96e8",
   "metadata": {},
   "outputs": [],
   "source": []
  }
 ],
 "metadata": {
  "kernelspec": {
   "display_name": "Python 3 (ipykernel)",
   "language": "python",
   "name": "python3"
  },
  "language_info": {
   "codemirror_mode": {
    "name": "ipython",
    "version": 3
   },
   "file_extension": ".py",
   "mimetype": "text/x-python",
   "name": "python",
   "nbconvert_exporter": "python",
   "pygments_lexer": "ipython3",
   "version": "3.12.4"
  }
 },
 "nbformat": 4,
 "nbformat_minor": 5
}
