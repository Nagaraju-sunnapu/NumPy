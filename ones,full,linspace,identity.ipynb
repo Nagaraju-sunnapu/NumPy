{
 "cells": [
  {
   "cell_type": "markdown",
   "id": "c433d30d-43b3-40f4-a292-7be67a606a32",
   "metadata": {},
   "source": [
    "## ones()"
   ]
  },
  {
   "cell_type": "code",
   "execution_count": 3,
   "id": "58deb90f-c604-4303-83ce-b026b1558d72",
   "metadata": {},
   "outputs": [
    {
     "name": "stdout",
     "output_type": "stream",
     "text": [
      "[1. 1. 1. 1. 1. 1. 1. 1. 1. 1.]\n"
     ]
    }
   ],
   "source": [
    "import numpy as np\n",
    "a=np.ones(10)\n",
    "print(a)"
   ]
  },
  {
   "cell_type": "code",
   "execution_count": 5,
   "id": "ae7afacc-222b-4971-b62e-0ca5eb78ba14",
   "metadata": {},
   "outputs": [
    {
     "name": "stdout",
     "output_type": "stream",
     "text": [
      "[1 1 1 1 1 1 1 1 1 1]\n"
     ]
    }
   ],
   "source": [
    "a=np.ones(10,int)\n",
    "print(a)"
   ]
  },
  {
   "cell_type": "code",
   "execution_count": 7,
   "id": "0cb3c3ef-0102-4abf-ada7-189a72ae1d35",
   "metadata": {},
   "outputs": [],
   "source": [
    "a=np.ones((3,3),int)"
   ]
  },
  {
   "cell_type": "code",
   "execution_count": 9,
   "id": "e0031096-5164-454b-9cc0-8c372af68266",
   "metadata": {},
   "outputs": [
    {
     "name": "stdout",
     "output_type": "stream",
     "text": [
      "[[1 1 1]\n",
      " [1 1 1]\n",
      " [1 1 1]]\n"
     ]
    }
   ],
   "source": [
    "print(a)"
   ]
  },
  {
   "cell_type": "code",
   "execution_count": 11,
   "id": "7e02dbb3-582c-4e27-b230-4bddbbaad2f0",
   "metadata": {},
   "outputs": [
    {
     "name": "stdout",
     "output_type": "stream",
     "text": [
      "[[[1 1 1]\n",
      "  [1 1 1]\n",
      "  [1 1 1]]\n",
      "\n",
      " [[1 1 1]\n",
      "  [1 1 1]\n",
      "  [1 1 1]]]\n"
     ]
    }
   ],
   "source": [
    "a=np.ones((2,3,3),int)\n",
    "print(a)"
   ]
  },
  {
   "cell_type": "markdown",
   "id": "f9d4429e-919c-402b-bb7a-96a7fe4573ae",
   "metadata": {},
   "source": []
  },
  {
   "cell_type": "markdown",
   "id": "b0471f4c-1156-462d-a421-d56bff200d18",
   "metadata": {},
   "source": [
    "## full()"
   ]
  },
  {
   "cell_type": "code",
   "execution_count": 15,
   "id": "e13ec86e-96ef-4ddc-a405-db46fb9a3ee3",
   "metadata": {},
   "outputs": [],
   "source": [
    "# syntax: varname=numpy.full(shape,fill_value,dtype)"
   ]
  },
  {
   "cell_type": "code",
   "execution_count": 9,
   "id": "f2a356e3-9514-4fc0-8bda-fa2ec37d09bd",
   "metadata": {},
   "outputs": [],
   "source": [
    "import numpy as np\n",
    "a=np.full(5,10)"
   ]
  },
  {
   "cell_type": "code",
   "execution_count": 11,
   "id": "05111e68-57ea-428f-9310-bfca6ce1e88a",
   "metadata": {},
   "outputs": [
    {
     "name": "stdout",
     "output_type": "stream",
     "text": [
      "[10 10 10 10 10]\n"
     ]
    }
   ],
   "source": [
    "print(a)"
   ]
  },
  {
   "cell_type": "code",
   "execution_count": 13,
   "id": "9675ac12-02e1-4187-8017-4c5886af6d17",
   "metadata": {},
   "outputs": [
    {
     "name": "stdout",
     "output_type": "stream",
     "text": [
      "[10. 10. 10. 10. 10.]\n"
     ]
    }
   ],
   "source": [
    "a=np.full(5,10,float)\n",
    "print(a)"
   ]
  },
  {
   "cell_type": "code",
   "execution_count": 15,
   "id": "84480bf0-1948-47ab-b24b-7eeccad18671",
   "metadata": {},
   "outputs": [
    {
     "name": "stdout",
     "output_type": "stream",
     "text": [
      "[[20 20 20]\n",
      " [20 20 20]]\n"
     ]
    }
   ],
   "source": [
    "a=np.full((2,3),20)\n",
    "print(a)"
   ]
  },
  {
   "cell_type": "code",
   "execution_count": 17,
   "id": "ca3381ac-8f5a-4974-9c21-50e1ef0ea458",
   "metadata": {},
   "outputs": [
    {
     "name": "stdout",
     "output_type": "stream",
     "text": [
      "[[[2. 2. 2.]\n",
      "  [2. 2. 2.]\n",
      "  [2. 2. 2.]]\n",
      "\n",
      " [[2. 2. 2.]\n",
      "  [2. 2. 2.]\n",
      "  [2. 2. 2.]]\n",
      "\n",
      " [[2. 2. 2.]\n",
      "  [2. 2. 2.]\n",
      "  [2. 2. 2.]]]\n"
     ]
    }
   ],
   "source": [
    "a=np.full((3,3,3),2,float)\n",
    "print(a)"
   ]
  },
  {
   "cell_type": "code",
   "execution_count": 21,
   "id": "85d1277f-adeb-4894-8024-69a2d0b11e11",
   "metadata": {},
   "outputs": [
    {
     "name": "stdout",
     "output_type": "stream",
     "text": [
      "[[5 5 5]\n",
      " [5 5 5]]\n"
     ]
    }
   ],
   "source": [
    "a=np.full((2,3),fill_value=5,dtype=int)\n",
    "print(a)"
   ]
  },
  {
   "cell_type": "code",
   "execution_count": null,
   "id": "6e9469da-9776-4747-810b-a39b5dd5f92f",
   "metadata": {},
   "outputs": [],
   "source": []
  },
  {
   "cell_type": "markdown",
   "id": "e7a7b556-a13d-48a4-8d30-1beb0aea31d4",
   "metadata": {},
   "source": [
    "## identity()"
   ]
  },
  {
   "cell_type": "code",
   "execution_count": 25,
   "id": "3ffdf5de-0e76-4308-8e84-089ccf8e6daf",
   "metadata": {},
   "outputs": [],
   "source": [
    "# syntax:varname=numpy.identity(N,dtype) "
   ]
  },
  {
   "cell_type": "code",
   "execution_count": 31,
   "id": "00f0a23c-5494-41cc-878c-21d9d3989ee3",
   "metadata": {},
   "outputs": [],
   "source": [
    "import numpy as np\n",
    "a=np.identity(3)"
   ]
  },
  {
   "cell_type": "code",
   "execution_count": 33,
   "id": "a2dd03b0-259f-4545-bbb5-63c913d48e7e",
   "metadata": {},
   "outputs": [
    {
     "name": "stdout",
     "output_type": "stream",
     "text": [
      "[[1. 0. 0.]\n",
      " [0. 1. 0.]\n",
      " [0. 0. 1.]]\n"
     ]
    }
   ],
   "source": [
    "print(a)"
   ]
  },
  {
   "cell_type": "code",
   "execution_count": 35,
   "id": "1e3d1a64-f172-4ef0-9423-97127f752f7d",
   "metadata": {},
   "outputs": [
    {
     "name": "stdout",
     "output_type": "stream",
     "text": [
      "[[1. 0.]\n",
      " [0. 1.]]\n"
     ]
    }
   ],
   "source": [
    "a=np.identity(2)\n",
    "print(a)"
   ]
  },
  {
   "cell_type": "code",
   "execution_count": 37,
   "id": "d04ecf9e-8ff9-40a5-a029-bfd707b12f54",
   "metadata": {},
   "outputs": [
    {
     "name": "stdout",
     "output_type": "stream",
     "text": [
      "[[1 0 0 0]\n",
      " [0 1 0 0]\n",
      " [0 0 1 0]\n",
      " [0 0 0 1]]\n"
     ]
    }
   ],
   "source": [
    "a=np.identity(4,int)\n",
    "print(a)"
   ]
  },
  {
   "cell_type": "code",
   "execution_count": null,
   "id": "e9af7866-f58a-4b58-a874-f3e25287cbca",
   "metadata": {},
   "outputs": [],
   "source": []
  },
  {
   "cell_type": "markdown",
   "id": "fc45d134-22b3-481f-9275-f816c2d621cf",
   "metadata": {},
   "source": [
    "## linspace()"
   ]
  },
  {
   "cell_type": "code",
   "execution_count": 40,
   "id": "67f37106-0fdb-4abd-99bc-21712524e1e5",
   "metadata": {},
   "outputs": [],
   "source": [
    "# syntax:varname=numpy.linspace(start,stop,num,endpoint,retstep,dtype)"
   ]
  },
  {
   "cell_type": "code",
   "execution_count": 42,
   "id": "ba5831b1-1f37-4826-a510-f93984e0c093",
   "metadata": {},
   "outputs": [],
   "source": [
    "import numpy as np\n",
    "a=np.linspace(1,10)"
   ]
  },
  {
   "cell_type": "code",
   "execution_count": 44,
   "id": "f1ab7d32-58fe-4541-991d-4e55c5978011",
   "metadata": {},
   "outputs": [
    {
     "name": "stdout",
     "output_type": "stream",
     "text": [
      "[ 1.          1.18367347  1.36734694  1.55102041  1.73469388  1.91836735\n",
      "  2.10204082  2.28571429  2.46938776  2.65306122  2.83673469  3.02040816\n",
      "  3.20408163  3.3877551   3.57142857  3.75510204  3.93877551  4.12244898\n",
      "  4.30612245  4.48979592  4.67346939  4.85714286  5.04081633  5.2244898\n",
      "  5.40816327  5.59183673  5.7755102   5.95918367  6.14285714  6.32653061\n",
      "  6.51020408  6.69387755  6.87755102  7.06122449  7.24489796  7.42857143\n",
      "  7.6122449   7.79591837  7.97959184  8.16326531  8.34693878  8.53061224\n",
      "  8.71428571  8.89795918  9.08163265  9.26530612  9.44897959  9.63265306\n",
      "  9.81632653 10.        ]\n"
     ]
    }
   ],
   "source": [
    "print(a)"
   ]
  },
  {
   "cell_type": "code",
   "execution_count": 46,
   "id": "fcf130ef-4b28-4080-8957-b8dc81ea3645",
   "metadata": {},
   "outputs": [],
   "source": [
    "a=np.linspace(1,5,num=10)"
   ]
  },
  {
   "cell_type": "code",
   "execution_count": 48,
   "id": "b49f332b-6a7a-4dcd-9b9a-31ff7a4a608f",
   "metadata": {},
   "outputs": [
    {
     "name": "stdout",
     "output_type": "stream",
     "text": [
      "[1.         1.44444444 1.88888889 2.33333333 2.77777778 3.22222222\n",
      " 3.66666667 4.11111111 4.55555556 5.        ]\n"
     ]
    }
   ],
   "source": [
    "print(a)"
   ]
  },
  {
   "cell_type": "code",
   "execution_count": 54,
   "id": "8519841e-72e4-4ae4-87f1-fdf15e2eb76a",
   "metadata": {},
   "outputs": [
    {
     "name": "stdout",
     "output_type": "stream",
     "text": [
      "[ 1.    5.75 10.5  15.25 20.  ]\n"
     ]
    }
   ],
   "source": [
    "a=np.linspace(1,20,num=5,endpoint=True)\n",
    "print(a)"
   ]
  },
  {
   "cell_type": "code",
   "execution_count": 56,
   "id": "a9b72f67-e2ad-4791-8a20-52aaebb6bc4f",
   "metadata": {},
   "outputs": [],
   "source": [
    "a=np.linspace(1,20,num=5,endpoint=False)"
   ]
  },
  {
   "cell_type": "code",
   "execution_count": 58,
   "id": "db187a65-9fe3-43b9-b689-5fc98d4c0f90",
   "metadata": {},
   "outputs": [
    {
     "name": "stdout",
     "output_type": "stream",
     "text": [
      "[ 1.   4.8  8.6 12.4 16.2]\n"
     ]
    }
   ],
   "source": [
    "print(a)"
   ]
  },
  {
   "cell_type": "code",
   "execution_count": 74,
   "id": "c608602f-7862-47a8-9f57-ba0ca362ce72",
   "metadata": {},
   "outputs": [
    {
     "name": "stdout",
     "output_type": "stream",
     "text": [
      "[10.         12.10526316 14.21052632 16.31578947 18.42105263 20.52631579\n",
      " 22.63157895 24.73684211 26.84210526 28.94736842 31.05263158 33.15789474\n",
      " 35.26315789 37.36842105 39.47368421 41.57894737 43.68421053 45.78947368\n",
      " 47.89473684 50.        ]\n"
     ]
    }
   ],
   "source": [
    "a=np.linspace(10,50,num=20,retstep=False)\n",
    "print(a)"
   ]
  },
  {
   "cell_type": "code",
   "execution_count": 76,
   "id": "14881a0b-8492-4b4d-a9c7-35251b4208fa",
   "metadata": {},
   "outputs": [
    {
     "name": "stdout",
     "output_type": "stream",
     "text": [
      "[10.         12.10526316 14.21052632 16.31578947 18.42105263 20.52631579\n",
      " 22.63157895 24.73684211 26.84210526 28.94736842 31.05263158 33.15789474\n",
      " 35.26315789 37.36842105 39.47368421 41.57894737 43.68421053 45.78947368\n",
      " 47.89473684 50.        ]\n",
      "2.1052631578947367\n"
     ]
    }
   ],
   "source": [
    "a,rs=np.linspace(10,50,num=20,retstep=True)\n",
    "print(a)\n",
    "print(rs)"
   ]
  },
  {
   "cell_type": "code",
   "execution_count": 84,
   "id": "6a3db6fb-3a80-48c0-b40e-993efc8c7a81",
   "metadata": {},
   "outputs": [
    {
     "name": "stdout",
     "output_type": "stream",
     "text": [
      "[ 1  2  3  4  5  6  7  8  9 10 11 12 13 14 15]\n",
      "1.0\n"
     ]
    }
   ],
   "source": [
    "a,rs=np.linspace(1,15,num=15,endpoint=True,retstep=True,dtype=int)\n",
    "print(a)\n",
    "print(rs)"
   ]
  },
  {
   "cell_type": "code",
   "execution_count": null,
   "id": "ffab6562-7eda-4499-9714-3291b8a86a6b",
   "metadata": {},
   "outputs": [],
   "source": []
  }
 ],
 "metadata": {
  "kernelspec": {
   "display_name": "Python 3 (ipykernel)",
   "language": "python",
   "name": "python3"
  },
  "language_info": {
   "codemirror_mode": {
    "name": "ipython",
    "version": 3
   },
   "file_extension": ".py",
   "mimetype": "text/x-python",
   "name": "python",
   "nbconvert_exporter": "python",
   "pygments_lexer": "ipython3",
   "version": "3.12.4"
  }
 },
 "nbformat": 4,
 "nbformat_minor": 5
}
