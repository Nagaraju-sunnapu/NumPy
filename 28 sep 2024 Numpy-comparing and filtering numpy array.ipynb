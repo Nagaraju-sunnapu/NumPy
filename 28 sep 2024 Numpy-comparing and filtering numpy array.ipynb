{
 "cells": [
  {
   "cell_type": "markdown",
   "id": "3c429b1c-45f3-4224-bd61-898d262d20a5",
   "metadata": {},
   "source": [
    "## Numpy--comparision of ndarray values with numpy functions"
   ]
  },
  {
   "cell_type": "code",
   "execution_count": 4,
   "id": "f51f7c23-70fc-4105-ba51-ae47b194f318",
   "metadata": {},
   "outputs": [
    {
     "name": "stdout",
     "output_type": "stream",
     "text": [
      "--------------------------------\n",
      "content of a=[10 20 30 40]\n",
      "content of b=[10  2 35 35]\n",
      "---------------------------------\n",
      "comparision of values=[False  True False  True]\n"
     ]
    }
   ],
   "source": [
    "import numpy as np\n",
    "a=np.array([10,20,30,40])\n",
    "b=np.array([10,2,35,35])\n",
    "print(\"--------------------------------\")\n",
    "print(\"content of a={}\".format(a))\n",
    "print(\"content of b={}\".format(b))\n",
    "print(\"---------------------------------\")\n",
    "x=np.greater(a,b)\n",
    "print(\"comparision of values={}\".format(x))"
   ]
  },
  {
   "cell_type": "code",
   "execution_count": 6,
   "id": "c3f05794-eb7f-4f70-aa6a-98d6fd47af1b",
   "metadata": {},
   "outputs": [
    {
     "name": "stdout",
     "output_type": "stream",
     "text": [
      "-----------------------------\n",
      "content of a=[10 20 30 40]\n",
      "content of b=[10  2 35 35]\n",
      "-----------------------------\n",
      "comparision of values=[False False  True False]\n"
     ]
    }
   ],
   "source": [
    "import numpy as np\n",
    "a=np.array([10,20,30,40])\n",
    "b=np.array([10,2,35,35])\n",
    "print(\"-----------------------------\")\n",
    "print(\"content of a={}\".format(a))\n",
    "print(\"content of b={}\".format(b))\n",
    "print(\"-----------------------------\")\n",
    "x=np.less(a,b)\n",
    "print(\"comparision of values={}\".format(x))"
   ]
  },
  {
   "cell_type": "code",
   "execution_count": 10,
   "id": "8170dfc6-7a53-4ec0-89cf-7c6adf19a9ec",
   "metadata": {},
   "outputs": [
    {
     "name": "stdout",
     "output_type": "stream",
     "text": [
      "------------------------\n",
      "content of a=[10 20 30 40]\n",
      "content of b=[10  2 35 35]\n",
      "------------------------------\n",
      "compaision of values=[ True False False False]\n"
     ]
    }
   ],
   "source": [
    "import numpy as np\n",
    "a=np.array([10,20,30,40])\n",
    "b=np.array([10,2,35,35])\n",
    "print(\"------------------------\")\n",
    "print(\"content of a={}\".format(a))\n",
    "print(\"content of b={}\".format(b))\n",
    "print(\"------------------------------\")\n",
    "x=np.equal(a,b)\n",
    "print(\"compaision of values={}\".format(x))"
   ]
  },
  {
   "cell_type": "code",
   "execution_count": 18,
   "id": "74136ef0-3489-4512-806f-f5d45ca4a2c9",
   "metadata": {},
   "outputs": [
    {
     "name": "stdout",
     "output_type": "stream",
     "text": [
      "--------------------------\n",
      "content of a=[10 20 30 40]\n",
      "content of b=[10  2 35 35]\n",
      "----------------------------\n",
      "comparision of values=[False  True  True  True]\n"
     ]
    }
   ],
   "source": [
    "import numpy as np\n",
    "a=np.array([10,20,30,40])\n",
    "b=np.array([10,2,35,35])\n",
    "print(\"--------------------------\")\n",
    "print(\"content of a={}\".format(a))\n",
    "print(\"content of b={}\".format(b))\n",
    "print(\"----------------------------\")\n",
    "x=np.not_equal(a,b)\n",
    "print(\"comparision of values={}\".format(x))"
   ]
  },
  {
   "cell_type": "code",
   "execution_count": null,
   "id": "e712d831-8b1d-4ed4-ae03-b213397c3d8a",
   "metadata": {},
   "outputs": [],
   "source": []
  },
  {
   "cell_type": "markdown",
   "id": "18d398f8-645b-4522-b8be-968f4b44dbef",
   "metadata": {},
   "source": [
    "## Numpy --comarision of ndarray values with Relational operators"
   ]
  },
  {
   "cell_type": "code",
   "execution_count": 22,
   "id": "a881e2f1-1c2e-4bb2-b0ea-ac28106b1bdc",
   "metadata": {},
   "outputs": [
    {
     "name": "stdout",
     "output_type": "stream",
     "text": [
      "---------------------------\n",
      "content of a=[10 20 30 40]\n",
      "content of b=[10  2 35 35]\n",
      "----------------------------\n",
      "comparision of values=[False  True False  True]\n"
     ]
    }
   ],
   "source": [
    "import numpy as np\n",
    "a=np.array([10,20,30,40])\n",
    "b=np.array([10,2,35,35])\n",
    "print(\"---------------------------\")\n",
    "print(\"content of a={}\".format(a))\n",
    "print(\"content of b={}\".format(b))\n",
    "print(\"----------------------------\")\n",
    "x=a>b\n",
    "print(\"comparision of values={}\".format(x))"
   ]
  },
  {
   "cell_type": "code",
   "execution_count": 26,
   "id": "9ea2915a-6ade-4d0c-85b6-b9034a694ae9",
   "metadata": {},
   "outputs": [
    {
     "name": "stdout",
     "output_type": "stream",
     "text": [
      "----------------------\n",
      "content of a=[10 20 30 40]\n",
      "content of b=[10  2 35 35]\n",
      "------------------------\n",
      "comparision of values=[False False  True False]\n"
     ]
    }
   ],
   "source": [
    "import numpy as np\n",
    "a=np.array([10,20,30,40])\n",
    "b=np.array([10,2,35,35])\n",
    "print(\"----------------------\")\n",
    "print(\"content of a={}\".format(a))\n",
    "print(\"content of b={}\".format(b))\n",
    "print(\"------------------------\")\n",
    "x=a<b\n",
    "print(\"comparision of values={}\".format(x))"
   ]
  },
  {
   "cell_type": "code",
   "execution_count": 32,
   "id": "389b30f6-fec7-4f2e-a4b8-bee72dd3d019",
   "metadata": {},
   "outputs": [
    {
     "name": "stdout",
     "output_type": "stream",
     "text": [
      "--------------------------\n",
      "content of a=[10 20 30 40]\n",
      "content of b=[10  2 35 35]\n",
      "--------------------------------\n",
      "comparision of values=[ True False False False]\n"
     ]
    }
   ],
   "source": [
    "import numpy as np\n",
    "a=np.array([10,20,30,40])\n",
    "b=np.array([10,2,35,35])\n",
    "print(\"--------------------------\")\n",
    "print(\"content of a={}\".format(a))\n",
    "print(\"content of b={}\".format(b))\n",
    "print(\"--------------------------------\")\n",
    "x=a==b\n",
    "print(\"comparision of values={}\".format(x))"
   ]
  },
  {
   "cell_type": "code",
   "execution_count": 34,
   "id": "3902630e-fd41-45fd-bd28-bc0da138cb55",
   "metadata": {},
   "outputs": [
    {
     "name": "stdout",
     "output_type": "stream",
     "text": [
      "------------------------\n",
      "content of a=[10 20 30 40]\n",
      "content of b=[10  2 35 35]\n",
      "----------------------------\n",
      "comparision of values=[False  True  True  True]\n"
     ]
    }
   ],
   "source": [
    "import numpy as np\n",
    "a=np.array([10,20,30,40])\n",
    "b=np.array([10,2,35,35])\n",
    "print(\"------------------------\")\n",
    "print(\"content of a={}\".format(a))\n",
    "print(\"content of b={}\".format(b))\n",
    "print(\"----------------------------\")\n",
    "x=a!=b\n",
    "print(\"comparision of values={}\".format(x))"
   ]
  },
  {
   "cell_type": "code",
   "execution_count": 36,
   "id": "97f73b22-45c9-4b7b-b3e4-01b6a1ea5d18",
   "metadata": {},
   "outputs": [
    {
     "name": "stdout",
     "output_type": "stream",
     "text": [
      "----------------------\n",
      "content of a=[10 20 30 40]\n",
      "content of b=[10  2 35 35]\n",
      "-----------------------------\n",
      "comparision of values=[ True  True False  True]\n"
     ]
    }
   ],
   "source": [
    "import numpy as np\n",
    "a=np.array([10,20,30,40])\n",
    "b=np.array([10,2,35,35])\n",
    "print(\"----------------------\")\n",
    "print(\"content of a={}\".format(a))\n",
    "print(\"content of b={}\".format(b))\n",
    "print(\"-----------------------------\")\n",
    "x=a>=b\n",
    "print(\"comparision of values={}\".format(x))"
   ]
  },
  {
   "cell_type": "code",
   "execution_count": 38,
   "id": "dee5a93d-2f09-49ec-8a84-aaf7e98e1956",
   "metadata": {},
   "outputs": [
    {
     "name": "stdout",
     "output_type": "stream",
     "text": [
      "-------------------------------\n",
      "content of a=[10 20 30 40]\n",
      "content of b=[10  2 35 35]\n",
      "-------------------------------\n",
      "comparision of values=[ True False  True False]\n"
     ]
    }
   ],
   "source": [
    "import numpy as np\n",
    "a=np.array([10,20,30,40])\n",
    "b=np.array([10,2,35,35])\n",
    "print(\"-------------------------------\")\n",
    "print(\"content of a={}\".format(a))\n",
    "print(\"content of b={}\".format(b))\n",
    "print(\"-------------------------------\")\n",
    "x=a<=b\n",
    "print(\"comparision of values={}\".format(x))"
   ]
  },
  {
   "cell_type": "code",
   "execution_count": null,
   "id": "c3fe3d8e-c206-467e-84da-65cdb95e847f",
   "metadata": {},
   "outputs": [],
   "source": []
  }
 ],
 "metadata": {
  "kernelspec": {
   "display_name": "Python 3 (ipykernel)",
   "language": "python",
   "name": "python3"
  },
  "language_info": {
   "codemirror_mode": {
    "name": "ipython",
    "version": 3
   },
   "file_extension": ".py",
   "mimetype": "text/x-python",
   "name": "python",
   "nbconvert_exporter": "python",
   "pygments_lexer": "ipython3",
   "version": "3.12.4"
  }
 },
 "nbformat": 4,
 "nbformat_minor": 5
}
